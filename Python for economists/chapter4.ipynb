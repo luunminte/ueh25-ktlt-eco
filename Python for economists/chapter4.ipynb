{
 "cells": [
  {
   "cell_type": "code",
   "execution_count": 1,
   "id": "17516586-b530-467b-9146-38d3c9866dc6",
   "metadata": {},
   "outputs": [
    {
     "name": "stdout",
     "output_type": "stream",
     "text": [
      "2\n"
     ]
    }
   ],
   "source": [
    "print(1+1) # Addition"
   ]
  },
  {
   "cell_type": "code",
   "execution_count": 2,
   "id": "72ab82a9-c737-40bc-a03c-efc4bf4f06d4",
   "metadata": {},
   "outputs": [
    {
     "name": "stdout",
     "output_type": "stream",
     "text": [
      "0\n"
     ]
    }
   ],
   "source": [
    "print(1-1) # Subtraction"
   ]
  },
  {
   "cell_type": "code",
   "execution_count": 3,
   "id": "55d461f0-da62-4283-9f8c-6b42e48679f1",
   "metadata": {},
   "outputs": [
    {
     "name": "stdout",
     "output_type": "stream",
     "text": [
      "4\n"
     ]
    }
   ],
   "source": [
    "print(2*2) # Multiplication"
   ]
  },
  {
   "cell_type": "code",
   "execution_count": 4,
   "id": "4ed589ae-48c8-477c-9ef5-9bf0eedb7e12",
   "metadata": {},
   "outputs": [
    {
     "name": "stdout",
     "output_type": "stream",
     "text": [
      "1.5\n"
     ]
    }
   ],
   "source": [
    "print(3/2) # Division"
   ]
  },
  {
   "cell_type": "code",
   "execution_count": 5,
   "id": "d9a75be6-c9e2-49e4-8714-c1ecce3581b2",
   "metadata": {},
   "outputs": [
    {
     "name": "stdout",
     "output_type": "stream",
     "text": [
      "2\n"
     ]
    }
   ],
   "source": [
    "print(12%10) # Modulo"
   ]
  },
  {
   "cell_type": "code",
   "execution_count": 6,
   "id": "c91e6889-9ece-43b2-9cef-934a9fd43675",
   "metadata": {},
   "outputs": [
    {
     "name": "stdout",
     "output_type": "stream",
     "text": [
      "8\n"
     ]
    }
   ],
   "source": [
    "print(2**3) # 2^3\n"
   ]
  },
  {
   "cell_type": "code",
   "execution_count": 7,
   "id": "fb6cb117-fa96-48d0-833a-cd66f929fc6d",
   "metadata": {},
   "outputs": [
    {
     "name": "stdout",
     "output_type": "stream",
     "text": [
      "5\n"
     ]
    }
   ],
   "source": [
    "print(2*2+1)"
   ]
  },
  {
   "cell_type": "code",
   "execution_count": 8,
   "id": "8347ecaf-4436-4039-b56b-fe32acef946c",
   "metadata": {},
   "outputs": [
    {
     "name": "stdout",
     "output_type": "stream",
     "text": [
      "6\n"
     ]
    }
   ],
   "source": [
    "print(2*(2+1))"
   ]
  },
  {
   "cell_type": "code",
   "execution_count": 9,
   "id": "8a884a3f-a2ee-48d4-9e62-d50e6d8c5c9c",
   "metadata": {},
   "outputs": [
    {
     "name": "stdout",
     "output_type": "stream",
     "text": [
      "eurodollar\n"
     ]
    }
   ],
   "source": [
    "a = \"euro\"\n",
    "b = \"dollar\"\n",
    "print(a+b)"
   ]
  },
  {
   "cell_type": "code",
   "execution_count": 10,
   "id": "74ff6f62-f713-4641-884d-24734f9cfe96",
   "metadata": {},
   "outputs": [
    {
     "data": {
      "text/plain": [
       "'euroeuro'"
      ]
     },
     "execution_count": 10,
     "metadata": {},
     "output_type": "execute_result"
    }
   ],
   "source": [
    "2*a"
   ]
  },
  {
   "cell_type": "code",
   "execution_count": 11,
   "id": "8cbbd3d7-0576-4871-accd-8cf6bea345b8",
   "metadata": {},
   "outputs": [
    {
     "name": "stdout",
     "output_type": "stream",
     "text": [
      "[1, 'apple', 5, 7, 9, 11]\n"
     ]
    }
   ],
   "source": [
    "l_1 = [1, \"apple\", 5, 7]\n",
    "l_2 = [9, 11]\n",
    "print(l_1 + l_2)"
   ]
  },
  {
   "cell_type": "code",
   "execution_count": 12,
   "id": "76c595c3-7568-403d-ad12-f34d4b024069",
   "metadata": {},
   "outputs": [
    {
     "name": "stdout",
     "output_type": "stream",
     "text": [
      "(1, 'apple', 5, 7, 9, 11)\n"
     ]
    }
   ],
   "source": [
    "t_1 = (1, \"apple\", 5, 7)\n",
    "t_2 = (9, 11)\n",
    "print(t_1 + t_2)"
   ]
  },
  {
   "cell_type": "code",
   "execution_count": 13,
   "id": "23efe9eb-1132-4c1e-9f78-b0bca6c923e3",
   "metadata": {},
   "outputs": [
    {
     "name": "stdout",
     "output_type": "stream",
     "text": [
      "[1, 'apple', 5, 7, 1, 'apple', 5, 7, 1, 'apple', 5, 7]\n"
     ]
    }
   ],
   "source": [
    "print(3*l_1)"
   ]
  },
  {
   "cell_type": "code",
   "execution_count": 14,
   "id": "4e6ff74a-e427-45b7-a475-fbd3e243d6d8",
   "metadata": {},
   "outputs": [
    {
     "name": "stdout",
     "output_type": "stream",
     "text": [
      "(1, 'apple', 5, 7, 1, 'apple', 5, 7, 1, 'apple', 5, 7)\n"
     ]
    }
   ],
   "source": [
    "print(3*t_1)"
   ]
  },
  {
   "cell_type": "code",
   "execution_count": 15,
   "id": "775615fe-3a0b-4c0c-a060-c5716ff7dae6",
   "metadata": {},
   "outputs": [
    {
     "name": "stdout",
     "output_type": "stream",
     "text": [
      "False\n"
     ]
    }
   ],
   "source": [
    "a = \"Hello\"\n",
    "b = \"World\"\n",
    "c = \"World\"\n",
    "print(a == c)"
   ]
  },
  {
   "cell_type": "code",
   "execution_count": 16,
   "id": "17c282d9-5233-4701-9911-4afdf2f30a27",
   "metadata": {},
   "outputs": [
    {
     "name": "stdout",
     "output_type": "stream",
     "text": [
      "True\n"
     ]
    }
   ],
   "source": [
    "print(b == c)"
   ]
  },
  {
   "cell_type": "code",
   "execution_count": 17,
   "id": "e10f0b69-590c-474a-9523-6324337a2343",
   "metadata": {},
   "outputs": [
    {
     "name": "stdout",
     "output_type": "stream",
     "text": [
      "False\n"
     ]
    }
   ],
   "source": [
    "x = [1,2,3]\n",
    "y = [1,2,3]\n",
    "z = [1,3,4]\n",
    "print(x != y)"
   ]
  },
  {
   "cell_type": "code",
   "execution_count": 18,
   "id": "e243b396-7d30-412b-bc2f-a247a967ef86",
   "metadata": {},
   "outputs": [
    {
     "name": "stdout",
     "output_type": "stream",
     "text": [
      "True\n"
     ]
    }
   ],
   "source": [
    "print(x != z)"
   ]
  },
  {
   "cell_type": "code",
   "execution_count": 22,
   "id": "e60a6f7e-7238-45e4-9602-ed26c592fa2a",
   "metadata": {},
   "outputs": [
    {
     "name": "stdout",
     "output_type": "stream",
     "text": [
      "False\n",
      "True\n"
     ]
    }
   ],
   "source": [
    "x = 1\n",
    "y = 1\n",
    "z = 2\n",
    "print(x < y)\n",
    "print(x <= y)"
   ]
  },
  {
   "cell_type": "code",
   "execution_count": 23,
   "id": "aa545f9e-c250-40fd-b6ac-736a269d0c6e",
   "metadata": {},
   "outputs": [
    {
     "name": "stdout",
     "output_type": "stream",
     "text": [
      "False\n",
      "False\n"
     ]
    }
   ],
   "source": [
    "print(x > z)\n",
    "print(x >= z)"
   ]
  },
  {
   "cell_type": "code",
   "execution_count": 24,
   "id": "f5b2406c-7771-46f3-aaf0-e35393a62644",
   "metadata": {},
   "outputs": [
    {
     "name": "stdout",
     "output_type": "stream",
     "text": [
      "True\n"
     ]
    }
   ],
   "source": [
    "m_1 = \"eat\"\n",
    "m_2 = \"eating\"\n",
    "m_3 = \"drinking\"\n",
    "print(m_1 < m_2) # eat before eating?"
   ]
  },
  {
   "cell_type": "code",
   "execution_count": 25,
   "id": "b006807e-f6e2-4ce5-9000-2cc8bf03d256",
   "metadata": {},
   "outputs": [
    {
     "name": "stdout",
     "output_type": "stream",
     "text": [
      "False\n"
     ]
    }
   ],
   "source": [
    "print(m_3 > m_1) # drinking after eat?"
   ]
  },
  {
   "cell_type": "code",
   "execution_count": 26,
   "id": "85ff9c04-030f-4b7b-b3a4-4b7854e59142",
   "metadata": {},
   "outputs": [],
   "source": [
    "x = [1, 3, 5, 7]\n",
    "y = [9, 11]"
   ]
  },
  {
   "cell_type": "code",
   "execution_count": 27,
   "id": "23697278-0fdc-4b03-b4e7-f371c6bc6cdb",
   "metadata": {},
   "outputs": [
    {
     "name": "stdout",
     "output_type": "stream",
     "text": [
      "True\n"
     ]
    }
   ],
   "source": [
    "print(x < y)"
   ]
  },
  {
   "cell_type": "code",
   "execution_count": 29,
   "id": "cdd4773a-2530-4fc3-9569-0bca3151c045",
   "metadata": {},
   "outputs": [
    {
     "name": "stdout",
     "output_type": "stream",
     "text": [
      "False\n"
     ]
    }
   ],
   "source": [
    "x = [10, 3, 5, 7]\n",
    "y = [9, 11]\n",
    "print(x < y)"
   ]
  },
  {
   "cell_type": "code",
   "execution_count": 30,
   "id": "b5816d5f-f148-41b9-9469-e79583bc045b",
   "metadata": {},
   "outputs": [
    {
     "name": "stdout",
     "output_type": "stream",
     "text": [
      "True\n"
     ]
    }
   ],
   "source": [
    "x = [10, 3, 5, 7]\n",
    "y = [10, 11]\n",
    "print(x < y)"
   ]
  },
  {
   "cell_type": "code",
   "execution_count": 31,
   "id": "8de915b6-e8ef-46d7-a834-725ba3ec861a",
   "metadata": {},
   "outputs": [
    {
     "name": "stdout",
     "output_type": "stream",
     "text": [
      "False\n"
     ]
    }
   ],
   "source": [
    "x = [10, 12, 5, 7]\n",
    "y = [10, 11]\n",
    "print(x < y)"
   ]
  },
  {
   "cell_type": "code",
   "execution_count": 32,
   "id": "ebda8842-d8b0-4228-8d0d-af90a938787f",
   "metadata": {},
   "outputs": [
    {
     "name": "stdout",
     "output_type": "stream",
     "text": [
      "True\n"
     ]
    }
   ],
   "source": [
    "print(3 in [1,2, 3])"
   ]
  },
  {
   "cell_type": "code",
   "execution_count": 33,
   "id": "3ecc97a1-463c-4258-975f-0cf6570011b0",
   "metadata": {},
   "outputs": [
    {
     "name": "stdout",
     "output_type": "stream",
     "text": [
      "True\n"
     ]
    }
   ],
   "source": [
    "print(4 not in [1,2, 3])"
   ]
  },
  {
   "cell_type": "code",
   "execution_count": 35,
   "id": "273d1dd7-35d7-47a8-a4f6-0b5315bd0c51",
   "metadata": {},
   "outputs": [
    {
     "name": "stdout",
     "output_type": "stream",
     "text": [
      "False\n"
     ]
    }
   ],
   "source": [
    "print(4 not in [1,2, 3, 4])"
   ]
  },
  {
   "cell_type": "code",
   "execution_count": 36,
   "id": "fbd589e6-573b-45d7-8127-25f1ab31eaa1",
   "metadata": {},
   "outputs": [
    {
     "data": {
      "text/plain": [
       "True"
      ]
     },
     "execution_count": 36,
     "metadata": {},
     "output_type": "execute_result"
    }
   ],
   "source": [
    "dictionnaire = {\"nom\": \"Rockwell\", \"prenom\": \"Criquette\"}\n",
    "\"age\" not in dictionnaire.keys()"
   ]
  },
  {
   "cell_type": "code",
   "execution_count": 37,
   "id": "2e84ff90-fc95-46ee-884a-b1f3be1331e0",
   "metadata": {},
   "outputs": [
    {
     "name": "stdout",
     "output_type": "stream",
     "text": [
      "True\n"
     ]
    }
   ],
   "source": [
    "x = True\n",
    "y = True\n",
    "print(x and y)"
   ]
  },
  {
   "cell_type": "code",
   "execution_count": 38,
   "id": "c9abc3ee-bc2f-49e8-9d40-8cf3cd22f611",
   "metadata": {},
   "outputs": [
    {
     "name": "stdout",
     "output_type": "stream",
     "text": [
      "False\n"
     ]
    }
   ],
   "source": [
    "x = True\n",
    "y = False\n",
    "print(x and y)"
   ]
  },
  {
   "cell_type": "code",
   "execution_count": 39,
   "id": "f2d16aff-9354-4c6c-b400-7a5a16bd83f6",
   "metadata": {},
   "outputs": [
    {
     "name": "stdout",
     "output_type": "stream",
     "text": [
      "False\n"
     ]
    }
   ],
   "source": [
    "print(y and y)"
   ]
  },
  {
   "cell_type": "code",
   "execution_count": 40,
   "id": "c4601880-8d13-47a2-8b7c-ba65ab3d3919",
   "metadata": {},
   "outputs": [
    {
     "name": "stdout",
     "output_type": "stream",
     "text": [
      "None\n"
     ]
    }
   ],
   "source": [
    "x = True\n",
    "y = False\n",
    "z = None\n",
    "print(x and z)"
   ]
  },
  {
   "cell_type": "code",
   "execution_count": 41,
   "id": "0e7fad97-20e0-4ada-a072-c04f1bdffc04",
   "metadata": {},
   "outputs": [
    {
     "name": "stdout",
     "output_type": "stream",
     "text": [
      "False\n"
     ]
    }
   ],
   "source": [
    "print(y and z)"
   ]
  },
  {
   "cell_type": "code",
   "execution_count": 42,
   "id": "4b4c9557-2591-45d6-99ff-18c6716fe46d",
   "metadata": {},
   "outputs": [
    {
     "name": "stdout",
     "output_type": "stream",
     "text": [
      "None\n"
     ]
    }
   ],
   "source": [
    "print(z and z)"
   ]
  },
  {
   "cell_type": "code",
   "execution_count": 43,
   "id": "cf3b1242-4199-4389-9880-eac0ea4bbc6e",
   "metadata": {},
   "outputs": [
    {
     "name": "stdout",
     "output_type": "stream",
     "text": [
      "True\n"
     ]
    }
   ],
   "source": [
    "x = True\n",
    "y = False\n",
    "print(x or y)"
   ]
  },
  {
   "cell_type": "code",
   "execution_count": 44,
   "id": "5c7c5288-06f0-403d-b8c3-1dcd8fff2a9b",
   "metadata": {},
   "outputs": [
    {
     "name": "stdout",
     "output_type": "stream",
     "text": [
      "False\n"
     ]
    }
   ],
   "source": [
    "x = False\n",
    "y = False\n",
    "print(x or y)"
   ]
  },
  {
   "cell_type": "code",
   "execution_count": 45,
   "id": "ee207445-ddfd-49a5-9aec-60eaff9391db",
   "metadata": {},
   "outputs": [
    {
     "name": "stdout",
     "output_type": "stream",
     "text": [
      "True\n"
     ]
    }
   ],
   "source": [
    "x = True\n",
    "y = False\n",
    "z = None\n",
    "print(x or z)"
   ]
  },
  {
   "cell_type": "code",
   "execution_count": 46,
   "id": "f6510e28-c262-4f65-bcc5-245351d08344",
   "metadata": {},
   "outputs": [
    {
     "name": "stdout",
     "output_type": "stream",
     "text": [
      "None\n"
     ]
    }
   ],
   "source": [
    "print(y or z)"
   ]
  },
  {
   "cell_type": "code",
   "execution_count": 47,
   "id": "7d4aed9f-691f-42cb-8c97-77d744f51dee",
   "metadata": {},
   "outputs": [
    {
     "name": "stdout",
     "output_type": "stream",
     "text": [
      "None\n"
     ]
    }
   ],
   "source": [
    "print(z or z)"
   ]
  },
  {
   "cell_type": "code",
   "execution_count": 48,
   "id": "dfde61b4-0100-4f52-a276-4cdf6403da5a",
   "metadata": {},
   "outputs": [
    {
     "name": "stdout",
     "output_type": "stream",
     "text": [
      "False\n"
     ]
    }
   ],
   "source": [
    "x = True\n",
    "y = False\n",
    "print(not x)"
   ]
  },
  {
   "cell_type": "code",
   "execution_count": 49,
   "id": "6d9d472d-0b49-42ee-b0df-4f860c3174ee",
   "metadata": {},
   "outputs": [
    {
     "name": "stdout",
     "output_type": "stream",
     "text": [
      "True\n"
     ]
    }
   ],
   "source": [
    "print(not y)"
   ]
  },
  {
   "cell_type": "code",
   "execution_count": 50,
   "id": "6d967db1-c705-4cac-8acf-79bc4f15034a",
   "metadata": {},
   "outputs": [
    {
     "data": {
      "text/plain": [
       "True"
      ]
     },
     "execution_count": 50,
     "metadata": {},
     "output_type": "execute_result"
    }
   ],
   "source": [
    "x = None\n",
    "not x"
   ]
  },
  {
   "cell_type": "code",
   "execution_count": null,
   "id": "56c19405-f60a-43b8-a4fb-19bedbff27ae",
   "metadata": {},
   "outputs": [],
   "source": []
  }
 ],
 "metadata": {
  "kernelspec": {
   "display_name": "Python 3 (ipykernel)",
   "language": "python",
   "name": "python3"
  },
  "language_info": {
   "codemirror_mode": {
    "name": "ipython",
    "version": 3
   },
   "file_extension": ".py",
   "mimetype": "text/x-python",
   "name": "python",
   "nbconvert_exporter": "python",
   "pygments_lexer": "ipython3",
   "version": "3.13.5"
  }
 },
 "nbformat": 4,
 "nbformat_minor": 5
}
