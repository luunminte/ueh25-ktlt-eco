{
 "cells": [
  {
   "cell_type": "code",
   "execution_count": 1,
   "id": "234222c3-4c4a-47f9-8bd5-389c1422c47d",
   "metadata": {},
   "outputs": [
    {
     "name": "stdout",
     "output_type": "stream",
     "text": [
      "D:\\ai_pratice_prj\\Python for economists\n"
     ]
    }
   ],
   "source": [
    "import os\n",
    "cwd = os.getcwd()\n",
    "print(cwd)"
   ]
  },
  {
   "cell_type": "code",
   "execution_count": null,
   "id": "78862d62-fae2-4a75-ac3c-b1909248536d",
   "metadata": {},
   "outputs": [],
   "source": [
    "open(file, mode='r', buffering=-1,\n",
    "encoding=None, errors=None, newline=None)"
   ]
  },
  {
   "cell_type": "code",
   "execution_count": null,
   "id": "1fe48e89-df51-4644-ace4-918b1bf8d5c7",
   "metadata": {},
   "outputs": [],
   "source": [
    "path = \"./fichiers_exemples/fichier_texte.txt\"\n",
    "# Opening in read-only mode (default)\n",
    "my_file = open(path, mode = \"r\")\n",
    "print(my_file.read())"
   ]
  },
  {
   "cell_type": "code",
   "execution_count": null,
   "id": "832b37ab-dfc6-4e70-bf54-b3ec10cfc826",
   "metadata": {},
   "outputs": [],
   "source": [
    "my_file.close()"
   ]
  },
  {
   "cell_type": "code",
   "execution_count": null,
   "id": "98324fca-45df-4c2b-801f-b7f09aa07c99",
   "metadata": {},
   "outputs": [],
   "source": [
    "# Opening in read-only mode (default)\n",
    "with open(path, \"r\") as mon_fichier:\n",
    "data = function_to_get_data_from_my_file()"
   ]
  },
  {
   "cell_type": "code",
   "execution_count": null,
   "id": "be66a07c-1acd-474a-8a1d-cebed07fb981",
   "metadata": {},
   "outputs": [],
   "source": [
    "# Opening in read-only mode (default)\n",
    "with open(path, \"r\") as my_file:\n",
    "data = [x for x in my_file]\n",
    "print(data)"
   ]
  },
  {
   "cell_type": "code",
   "execution_count": null,
   "id": "fbf4401b-9b67-4271-b956-b11cd2e25d43",
   "metadata": {},
   "outputs": [],
   "source": [
    "# Opening in read-only mode (default)\n",
    "with open(path, \"r\") as my_file:\n",
    "data = [x.strip() for x in my_file]\n",
    "print(data)"
   ]
  },
  {
   "cell_type": "code",
   "execution_count": null,
   "id": "54809d09-7e05-4663-be5f-372f219e4d3a",
   "metadata": {},
   "outputs": [],
   "source": [
    "with open(path, \"r\") as my_file:\n",
    "data = my_file.readlines()\n",
    "print(data)"
   ]
  },
  {
   "cell_type": "code",
   "execution_count": null,
   "id": "bd9305da-e85b-4fa4-a5a9-ed6dc0ce1a28",
   "metadata": {},
   "outputs": [],
   "source": [
    "import locale\n",
    "locale.locale_alias"
   ]
  },
  {
   "cell_type": "code",
   "execution_count": 2,
   "id": "f06489be-7e1e-4d20-973d-56e5f05fe470",
   "metadata": {},
   "outputs": [
    {
     "ename": "IndentationError",
     "evalue": "expected an indented block after 'with' statement on line 4 (728274471.py, line 5)",
     "output_type": "error",
     "traceback": [
      "\u001b[1;36m  Cell \u001b[1;32mIn[2], line 5\u001b[1;36m\u001b[0m\n\u001b[1;33m    data = my_file.read()\u001b[0m\n\u001b[1;37m    ^\u001b[0m\n\u001b[1;31mIndentationError\u001b[0m\u001b[1;31m:\u001b[0m expected an indented block after 'with' statement on line 4\n"
     ]
    }
   ],
   "source": [
    "import urllib\n",
    "from urllib.request import urlopen\n",
    "url = \"http://egallic.fr/Enseignement/Python/fichiers_exemples/fichier_texte.txt\"\n",
    "with urllib.request.urlopen(url) as my_file:\n",
    "data = my_file.read()\n",
    "print(data)"
   ]
  },
  {
   "cell_type": "code",
   "execution_count": 3,
   "id": "04ea4462-72ba-4449-ba7b-78d3c4ae45b8",
   "metadata": {},
   "outputs": [
    {
     "ename": "NameError",
     "evalue": "name 'data' is not defined",
     "output_type": "error",
     "traceback": [
      "\u001b[1;31m---------------------------------------------------------------------------\u001b[0m",
      "\u001b[1;31mNameError\u001b[0m                                 Traceback (most recent call last)",
      "Cell \u001b[1;32mIn[3], line 1\u001b[0m\n\u001b[1;32m----> 1\u001b[0m \u001b[38;5;28mprint\u001b[39m(data\u001b[38;5;241m.\u001b[39mdecode())\n",
      "\u001b[1;31mNameError\u001b[0m: name 'data' is not defined"
     ]
    }
   ],
   "source": [
    "print(data.decode())"
   ]
  },
  {
   "cell_type": "code",
   "execution_count": 4,
   "id": "32da149c-199d-4b57-b85f-cc55c54be4d1",
   "metadata": {},
   "outputs": [
    {
     "ename": "IndentationError",
     "evalue": "expected an indented block after 'with' statement on line 2 (1829593742.py, line 3)",
     "output_type": "error",
     "traceback": [
      "\u001b[1;36m  Cell \u001b[1;32mIn[4], line 3\u001b[1;36m\u001b[0m\n\u001b[1;33m    my_file_reader = csv.reader(my_file, delimiter=',', quotechar='\"')\u001b[0m\n\u001b[1;37m    ^\u001b[0m\n\u001b[1;31mIndentationError\u001b[0m\u001b[1;31m:\u001b[0m expected an indented block after 'with' statement on line 2\n"
     ]
    }
   ],
   "source": [
    "import csv\n",
    "with open('./fichiers_exemples/fichier_csv.csv') as my_file:\n",
    "my_file_reader = csv.reader(my_file, delimiter=',', quotechar='\"')\n",
    "data = [x for x in my_file_reader]\n",
    "print(data)"
   ]
  },
  {
   "cell_type": "code",
   "execution_count": null,
   "id": "13eabc2e-23ae-4f13-bea0-56eeb7712a9b",
   "metadata": {},
   "outputs": [],
   "source": [
    "import csv\n",
    "path = \"./fichiers_exemples/fichier_csv.csv\"\n",
    "with open(path) as my_file:\n",
    "my_file_csv = csv.DictReader(my_file)\n",
    "data = [ligne for ligne in my_file_csv]\n",
    "print(data)"
   ]
  },
  {
   "cell_type": "code",
   "execution_count": null,
   "id": "4bc3f56e-7405-40ad-8c6f-80ea09883578",
   "metadata": {},
   "outputs": [],
   "source": [
    "import csv\n",
    "import urllib.request\n",
    "import codecs\n",
    "url = \"http://egallic.fr/Enseignement/Python/fichiers_exemples/fichier_csv.csv\"\n",
    "with urllib.request.urlopen(url) as my_file:\n",
    "my_file_csv = csv.reader(codecs.iterdecode(my_file, 'utf-8'))\n",
    "data = [ligne for ligne in my_file_csv]\n",
    "print(data)"
   ]
  },
  {
   "cell_type": "code",
   "execution_count": null,
   "id": "d6ce3960-43a9-4958-8ef4-bae53512aa67",
   "metadata": {},
   "outputs": [],
   "source": [
    "import json\n",
    "url = './fichiers_exemples/tweets.json'\n",
    "with open(url) as my_file_json:\n",
    "data = json.load(my_file_json)\n",
    "Then, you can display the imported content using the pprint() function:\n",
    "from pprint import pprint\n",
    "pprint(data)"
   ]
  },
  {
   "cell_type": "code",
   "execution_count": null,
   "id": "3c92329a-3467-40a4-86dc-006b132b9016",
   "metadata": {},
   "outputs": [],
   "source": [
    "import urllib\n",
    "from urllib.request import urlopen\n",
    "url = \"http://egallic.fr/Enseignement/Python/fichiers_exemples/tweets.json\"\n",
    "with urllib.request.urlopen(url) as my_file:"
   ]
  },
  {
   "cell_type": "code",
   "execution_count": null,
   "id": "f6aaffc5-6649-4cd9-995b-256b514a6636",
   "metadata": {},
   "outputs": [],
   "source": [
    "data = json.load(my_file)\n",
    "pprint(data)"
   ]
  },
  {
   "cell_type": "code",
   "execution_count": 5,
   "id": "49f03f6f-9e51-4bad-85a7-8dc4c8ed3098",
   "metadata": {},
   "outputs": [
    {
     "data": {
      "text/plain": [
       "\"['pomme', 1, 3]\""
      ]
     },
     "execution_count": 5,
     "metadata": {},
     "output_type": "execute_result"
    }
   ],
   "source": [
    "x = [\"pomme\", 1, 3]\n",
    "str(x)"
   ]
  },
  {
   "cell_type": "code",
   "execution_count": 6,
   "id": "3e9ce08b-4cc1-4108-a70c-477fee37a551",
   "metadata": {},
   "outputs": [
    {
     "data": {
      "text/plain": [
       "\"'Fromage, tu veux du fromage ?\\\\n'\""
      ]
     },
     "execution_count": 6,
     "metadata": {},
     "output_type": "execute_result"
    }
   ],
   "source": [
    "y = \"Fromage, tu veux du fromage ?\\n\"\n",
    "repr(y)"
   ]
  },
  {
   "cell_type": "code",
   "execution_count": 7,
   "id": "838318af-4e0c-44ca-a721-4bc745edc3d1",
   "metadata": {},
   "outputs": [],
   "source": [
    "y\n",
    "z = { \"name\": \"Kyrie\",\n",
    "\"surname\": \"Irving\",\n",
    "\"date_of_birth\": 1992,\n",
    "\"teams\": [\"Cleveland\", \"Boston\", \"Nets\"]}"
   ]
  },
  {
   "cell_type": "code",
   "execution_count": 8,
   "id": "37b89d0c-8caa-4f8a-8d24-06046d91df8a",
   "metadata": {},
   "outputs": [
    {
     "ename": "IndentationError",
     "evalue": "expected an indented block after 'with' statement on line 3 (3411935313.py, line 4)",
     "output_type": "error",
     "traceback": [
      "\u001b[1;36m  Cell \u001b[1;32mIn[8], line 4\u001b[1;36m\u001b[0m\n\u001b[1;33m    function_to_export()\u001b[0m\n\u001b[1;37m    ^\u001b[0m\n\u001b[1;31mIndentationError\u001b[0m\u001b[1;31m:\u001b[0m expected an indented block after 'with' statement on line 3\n"
     ]
    }
   ],
   "source": [
    "# Ouverture en mode lecture (par défaut)\n",
    "path = \"path/to/file.txt\"\n",
    "with open(path, \"w\") as my_file:\n",
    "function_to_export()"
   ]
  },
  {
   "cell_type": "code",
   "execution_count": null,
   "id": "7897f317-5f37-4146-b17a-54cca6be20d2",
   "metadata": {},
   "outputs": [],
   "source": [
    "path = \"./fichiers_exemples/Irving.txt\n",
    "with open(path, mode = \"w\") as my_file:"
   ]
  },
  {
   "cell_type": "code",
   "execution_count": null,
   "id": "ae54e5ed-ad0a-4b0f-9ad6-a0c9a4101a16",
   "metadata": {},
   "outputs": [],
   "source": [
    "my_file.write(\"Characteristics of Kyrie Irving\\n\")\n",
    "my_file.writelines(repr(z))"
   ]
  },
  {
   "cell_type": "code",
   "execution_count": null,
   "id": "342628d7-bdbe-4a09-9755-6520e835b744",
   "metadata": {},
   "outputs": [],
   "source": [
    "with open(path, mode = \"a\") as my_file:\n",
    "my_file.writelines(\"\\nAnother line\\n\")"
   ]
  },
  {
   "cell_type": "code",
   "execution_count": null,
   "id": "62283fb5-cff8-48d9-91ad-52544c1ab64f",
   "metadata": {},
   "outputs": [],
   "source": [
    "with open(path, mode = \"x\") as my_file:\n",
    "my_file.writelines(\"A new line that will not be added\\n\")"
   ]
  },
  {
   "cell_type": "code",
   "execution_count": null,
   "id": "edacf895-d60e-4c27-8d0e-8af2330962b0",
   "metadata": {},
   "outputs": [],
   "source": [
    "import csv\n",
    "path = \"./fichiers_exemples/ffile_export.csv\""
   ]
  },
  {
   "cell_type": "code",
   "execution_count": null,
   "id": "18b2d147-a0eb-43f5-90e9-3effbf794c97",
   "metadata": {},
   "outputs": [],
   "source": [
    "with open(path, mode='w') as my_file:\n",
    "my_file_write = csv.writer(my_file, delimiter=',',\n",
    "quotechar='\"',\n",
    "quoting=csv.QUOTE_MINIMAL)\n",
    "my_file_write.writerow(['Country', 'Year', 'Quarter', 'GR_PIB'])\n",
    "my_file_write.writerow(['France', '2017', 'Q4', 0.7])\n",
    "my_file_write.writerow(['France', '2018', 'Q1', 0.2])"
   ]
  },
  {
   "cell_type": "code",
   "execution_count": null,
   "id": "ceba1fa6-f521-43ea-93bd-fa74f1ca9f21",
   "metadata": {},
   "outputs": [],
   "source": [
    "import json\n",
    "x = [1, \"apple\", [\"seed\", \"red\"]]\n",
    "y = { \"name\": \"Kyrie\",\n",
    "\"surname\": \"John\",\n",
    "\"year_of_birth\": 1992,\n",
    "\"teams\": [\"Cleveland\", \"Boston\", \"Nets\"]}\n",
    "x_json = json.dumps(x)\n",
    "y_json = json.dumps(y)\n",
    "print(\"x_json: \", x_json)"
   ]
  },
  {
   "cell_type": "code",
   "execution_count": null,
   "id": "86f66692-53a8-4136-b381-d1564dc21498",
   "metadata": {},
   "outputs": [],
   "source": [
    "print(\"y_json: \", y_json)"
   ]
  },
  {
   "cell_type": "code",
   "execution_count": null,
   "id": "330ddb43-57fa-4df8-bc15-ffdaf1d3d717",
   "metadata": {},
   "outputs": [],
   "source": [
    "x_json = json.dumps(x, ensure_ascii=False)\n",
    "y_json = json.dumps(y, ensure_ascii=False)\n",
    "print(\"x_json: \", x_json)"
   ]
  },
  {
   "cell_type": "code",
   "execution_count": null,
   "id": "618be184-8d2d-4a58-8613-e06101a01bfa",
   "metadata": {},
   "outputs": [],
   "source": [
    "print(\"y_json: \", y_json)"
   ]
  },
  {
   "cell_type": "code",
   "execution_count": null,
   "id": "2b8b5086-fdd7-450c-b27e-2aa28970bc12",
   "metadata": {},
   "outputs": [],
   "source": [
    "path = \"./fichiers_exemples/export_json.json\"\n",
    "with open(path, 'w') as f:\n",
    "json.dump(json.dumps(x, ensure_ascii=False), f)\n",
    "f.write('\\n')\n",
    "json.dump(json.dumps(y, ensure_ascii=False), f)"
   ]
  },
  {
   "cell_type": "code",
   "execution_count": null,
   "id": "2d36dfe7-b9f9-44f0-8e3b-6117d6dd1b81",
   "metadata": {},
   "outputs": [],
   "source": [
    "path = \"./fichiers_exemples/export_json.json\"\n",
    "with open(path, \"r\") as f:\n",
    "data = []\n",
    "for line in f:\n",
    "data.append(json.loads(line, encoding=\"utf-8\"))\n",
    "print(data)"
   ]
  }
 ],
 "metadata": {
  "kernelspec": {
   "display_name": "Python 3 (ipykernel)",
   "language": "python",
   "name": "python3"
  },
  "language_info": {
   "codemirror_mode": {
    "name": "ipython",
    "version": 3
   },
   "file_extension": ".py",
   "mimetype": "text/x-python",
   "name": "python",
   "nbconvert_exporter": "python",
   "pygments_lexer": "ipython3",
   "version": "3.13.5"
  }
 },
 "nbformat": 4,
 "nbformat_minor": 5
}
