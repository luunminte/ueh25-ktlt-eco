{
 "cells": [
  {
   "cell_type": "code",
   "execution_count": 2,
   "id": "a2c441a7-1ebd-49d2-a027-1bb81914822c",
   "metadata": {},
   "outputs": [],
   "source": [
    "def square(x):\n",
    " return x**2"
   ]
  },
  {
   "cell_type": "code",
   "execution_count": 3,
   "id": "bdac778e-4013-4a5e-8a09-3a4e803006ef",
   "metadata": {},
   "outputs": [
    {
     "name": "stdout",
     "output_type": "stream",
     "text": [
      "4\n"
     ]
    }
   ],
   "source": [
    "print(square(2))"
   ]
  },
  {
   "cell_type": "code",
   "execution_count": 4,
   "id": "169072fc-ca31-4635-9590-abadb691dacd",
   "metadata": {},
   "outputs": [
    {
     "name": "stdout",
     "output_type": "stream",
     "text": [
      "9\n"
     ]
    }
   ],
   "source": [
    "print(square(-3))"
   ]
  },
  {
   "cell_type": "code",
   "execution_count": 7,
   "id": "668627f9-e0d7-4249-9c8c-c390c752ccf7",
   "metadata": {},
   "outputs": [],
   "source": [
    "def square(x):\n",
    " \"\"\"returns the squared value of x\"\"\"\n",
    " return x**2"
   ]
  },
  {
   "cell_type": "code",
   "execution_count": 10,
   "id": "205369d9-61b1-4c05-a894-65abf959814d",
   "metadata": {},
   "outputs": [],
   "source": [
    "def production(l, k, m):\n",
    " \"\"\"\n",
    " Returns the value of the production according to\n",
    " labour, capital and materials\n",
    " Keyword arguments:\n",
    " l -- labour (float)\n",
    " k -- capital (float)\n",
    " m -- materials (float)\n",
    " \"\"\"\n",
    " return l**0.3 * k**0.5 * m**(0.2)"
   ]
  },
  {
   "cell_type": "code",
   "execution_count": 11,
   "id": "6f658e8a-f0b7-4d81-8d9b-7f296d683d48",
   "metadata": {},
   "outputs": [
    {
     "name": "stdout",
     "output_type": "stream",
     "text": [
      "46.289449781254994\n"
     ]
    }
   ],
   "source": [
    "prod_val = production(60, 42, 40)\n",
    "print(prod_val)"
   ]
  },
  {
   "cell_type": "code",
   "execution_count": 12,
   "id": "37b19530-1d5b-4e4e-812c-34cf30cfbea6",
   "metadata": {},
   "outputs": [],
   "source": [
    "def production_2(l, m, k=42):\n",
    " \"\"\"\n",
    " Returns the value of the production according to\n",
    " labour, capital and materials\n",
    " Keyword arguments:\n",
    " l -- labour (float)\n",
    " m -- materials (float)\n",
    " k -- capital (float) (default 42)\n",
    " \"\"\"\n",
    " return l**0.3 * k**0.5 * m**(0.2)"
   ]
  },
  {
   "cell_type": "code",
   "execution_count": 13,
   "id": "ea3fbd89-dfc7-4d8d-bd3f-8a0941fc9aef",
   "metadata": {},
   "outputs": [],
   "source": [
    "# By naming all argument, by ommitting k\n",
    "prod_val_1 = production_2(l = 42, m = 40)\n",
    "# By naming all argument and specifying k\n",
    "prod_val_2 = production_2(l = 42, m = 40, k = 42)\n",
    "# By naming only the argument k\n",
    "prod_val_3 = production_2(42, 40, k = 42)\n",
    "# Without naming any argument\n",
    "prod_val_4 = production_2(42, 40, 42)"
   ]
  },
  {
   "cell_type": "code",
   "execution_count": 14,
   "id": "a24c5f9a-1a26-442d-b7ce-8fe90308592b",
   "metadata": {},
   "outputs": [
    {
     "name": "stdout",
     "output_type": "stream",
     "text": [
      "[41.59215573604822, 41.59215573604822, 41.59215573604822, 41.59215573604822]\n"
     ]
    }
   ],
   "source": [
    "res = [prod_val_1, prod_val_2, prod_val_3, prod_val_4]\n",
    "print(res)"
   ]
  },
  {
   "cell_type": "code",
   "execution_count": 15,
   "id": "682cca5f-6167-4659-8770-2b6e94aadb25",
   "metadata": {},
   "outputs": [
    {
     "name": "stdout",
     "output_type": "stream",
     "text": [
      "[41.16765711449734, 41.59215573604822, 41.59215573604822, 41.59215573604822]\n"
     ]
    }
   ],
   "source": [
    "def production_3(a, l, m = 40, k=42):\n",
    " \"\"\"\n",
    " Returns the value of the production according to\n",
    " labour, capital and materials\n",
    " Keyword arguments:\n",
    " a -- total factor productivity (float)\n",
    " l -- labour (float)\n",
    " m -- materials (float) (default 40)\n",
    " k -- capital (float) (default 42)\n",
    " \"\"\"\n",
    " return a * l**0.3 * k**0.5 * m**(0.2)\n",
    "prod_val_1 = production_3(1, 42, m = 38)\n",
    "prod_val_2 = production_3(a = 1, l = 42)\n",
    "prod_val_3 = production_3(l = 42, a = 1)\n",
    "prod_val_4 = production_3(m = 40, l = 42, a = 1)\n",
    "res = [prod_val_1, prod_val_2, prod_val_3, prod_val_4]\n",
    "print(res)"
   ]
  },
  {
   "cell_type": "code",
   "execution_count": 22,
   "id": "583eebb1-1a0f-4352-b727-d5504e29c9a2",
   "metadata": {},
   "outputs": [
    {
     "name": "stdout",
     "output_type": "stream",
     "text": [
      "16\n"
     ]
    }
   ],
   "source": [
    "def square(x):\n",
    " \"\"\"Returns the squared value of x\"\"\"\n",
    " return x**2\n",
    "def apply_fun_to_4(fun):\n",
    " \"\"\"Applies the function `fun` to 4\"\"\"\n",
    " return fun(4)\n",
    "print(apply_fun_to_4(square))"
   ]
  },
  {
   "cell_type": "code",
   "execution_count": 25,
   "id": "f31c8fe1-5d96-40c6-801b-827ecfef7fe7",
   "metadata": {},
   "outputs": [],
   "source": [
    "# Definition of a global\n",
    "value = 1\n",
    "# Definition of a local v\n",
    "def f(x):\n",
    " value = 2\n",
    " new_value = 3\n",
    " print(\"value equals: \", value)\n",
    " print(\"new_value equals: \", new_value)\n",
    " return x + value"
   ]
  },
  {
   "cell_type": "code",
   "execution_count": 26,
   "id": "d07e4b9c-964c-456b-968a-8e30401cba26",
   "metadata": {},
   "outputs": [
    {
     "name": "stdout",
     "output_type": "stream",
     "text": [
      "value equals:  2\n",
      "new_value equals:  3\n"
     ]
    }
   ],
   "source": [
    "res = f(3)"
   ]
  },
  {
   "cell_type": "code",
   "execution_count": 27,
   "id": "cf5eb260-6242-490b-bb5b-01fd90c28170",
   "metadata": {},
   "outputs": [
    {
     "name": "stdout",
     "output_type": "stream",
     "text": [
      "value equals:  1\n"
     ]
    }
   ],
   "source": [
    "print(\"value equals: \", value)"
   ]
  },
  {
   "cell_type": "code",
   "execution_count": 28,
   "id": "9517319b-8bc5-4bd5-932c-47ecf28326f4",
   "metadata": {},
   "outputs": [
    {
     "ename": "NameError",
     "evalue": "name 'new_value' is not defined",
     "output_type": "error",
     "traceback": [
      "\u001b[1;31m---------------------------------------------------------------------------\u001b[0m",
      "\u001b[1;31mNameError\u001b[0m                                 Traceback (most recent call last)",
      "Cell \u001b[1;32mIn[28], line 1\u001b[0m\n\u001b[1;32m----> 1\u001b[0m \u001b[38;5;28mprint\u001b[39m(\u001b[38;5;124m\"\u001b[39m\u001b[38;5;124mnew_value equals: \u001b[39m\u001b[38;5;124m\"\u001b[39m, new_value)\n",
      "\u001b[1;31mNameError\u001b[0m: name 'new_value' is not defined"
     ]
    }
   ],
   "source": [
    "print(\"new_value equals: \", new_value)"
   ]
  },
  {
   "cell_type": "code",
   "execution_count": 31,
   "id": "a45bb25a-cd12-4ba4-bf6f-105c062d46d2",
   "metadata": {},
   "outputs": [],
   "source": [
    "value = 1\n",
    "def f(x):\n",
    " return x + value\n",
    " print(f(2))"
   ]
  },
  {
   "cell_type": "code",
   "execution_count": 33,
   "id": "5e828342-7ab2-4f8d-8361-8f2b95a26f06",
   "metadata": {},
   "outputs": [
    {
     "name": "stdout",
     "output_type": "stream",
     "text": [
      "4\n"
     ]
    }
   ],
   "source": [
    "# The value variable is not defined in\n",
    "# the local environment of g().\n",
    "# Python will then search in f().\n",
    "value = 1\n",
    "def f():\n",
    " value = 2\n",
    " def g(x):\n",
    "  return x + value\n",
    " return g(2)\n",
    "print(f())"
   ]
  },
  {
   "cell_type": "code",
   "execution_count": 35,
   "id": "7bbd992e-857c-4cfd-8478-bacf341d9883",
   "metadata": {},
   "outputs": [
    {
     "name": "stdout",
     "output_type": "stream",
     "text": [
      "3\n"
     ]
    }
   ],
   "source": [
    "# The value variable is not defined in g() or f()\n",
    "# but in the higher environment (here, global)\n",
    "value = 1\n",
    "def f():\n",
    " def g(x):\n",
    "  return x + value\n",
    " return g(2)\n",
    "print(f())"
   ]
  },
  {
   "cell_type": "code",
   "execution_count": 36,
   "id": "e6cb7b91-a7b0-49bd-9f34-aab90760af3a",
   "metadata": {},
   "outputs": [
    {
     "name": "stdout",
     "output_type": "stream",
     "text": [
      "4\n"
     ]
    }
   ],
   "source": [
    "def f(x):\n",
    " global y\n",
    " y = x+1\n",
    "f(3)\n",
    "print(y)"
   ]
  },
  {
   "cell_type": "code",
   "execution_count": 37,
   "id": "a065d575-469a-4210-935f-41901531cbb6",
   "metadata": {},
   "outputs": [
    {
     "name": "stdout",
     "output_type": "stream",
     "text": [
      "16\n"
     ]
    }
   ],
   "source": [
    "square_2 = lambda x: x**2\n",
    "print(square_2(4))"
   ]
  },
  {
   "cell_type": "code",
   "execution_count": 38,
   "id": "0b6a55c8-73fa-49ec-9d78-4b3aeeeaaa43",
   "metadata": {},
   "outputs": [],
   "source": [
    "def production(l, k, m):\n",
    " \"\"\"\n",
    " Returns the value of the production according to\n",
    " labour, capital and materials.\n",
    " Keyword arguments:\n",
    " l -- labour (float)\n",
    " k -- capital (float)\n",
    " m -- materials (float)\n",
    " \"\"\"\n",
    " return l**0.3 * k**0.5 * m**(0.2)"
   ]
  },
  {
   "cell_type": "code",
   "execution_count": 39,
   "id": "bd08a5b3-0493-4f5a-a24f-8e5ba14ed0c4",
   "metadata": {},
   "outputs": [
    {
     "name": "stdout",
     "output_type": "stream",
     "text": [
      "40.987803063838406\n"
     ]
    }
   ],
   "source": [
    "production_2 = lambda l,k,m : l**0.3 * k**0.5 * m**(0.2)\n",
    "print(production(42, 40, 42))\n"
   ]
  },
  {
   "cell_type": "code",
   "execution_count": 40,
   "id": "b201353c-c013-4999-ba02-1cf02b6745ef",
   "metadata": {},
   "outputs": [
    {
     "name": "stdout",
     "output_type": "stream",
     "text": [
      "40.987803063838406\n"
     ]
    }
   ],
   "source": [
    "print(production_2(42, 40, 42))"
   ]
  },
  {
   "cell_type": "code",
   "execution_count": 41,
   "id": "6d3bdfab-6154-4bd6-9e38-397569132d42",
   "metadata": {},
   "outputs": [
    {
     "name": "stdout",
     "output_type": "stream",
     "text": [
      "{'mean': 3.9, 'std_dev': 2.8460498941515415}\n"
     ]
    }
   ],
   "source": [
    "import statistics\n",
    "def desc_stats(x):\n",
    " \"\"\"Returns the mean and standard deviation of `x`\"\"\"\n",
    " return {\"mean\": statistics.mean(x),\n",
    " \"std_dev\": statistics.stdev(x)}\n",
    "x = [1,3,2,6,4,1,8,9,3,2]\n",
    "res = desc_stats(x)\n",
    "print(res)"
   ]
  },
  {
   "cell_type": "code",
   "execution_count": 42,
   "id": "4fd71163-fe74-4e0a-b95f-07f8bccc57cf",
   "metadata": {},
   "outputs": [
    {
     "name": "stdout",
     "output_type": "stream",
     "text": [
      "The average value equals 3.9 and the standard deviation is 2.8460498941515415\n"
     ]
    }
   ],
   "source": [
    "message = \"The average value equals {} and the standard deviation is {}\"\n",
    "print(message.format(res[\"mean\"], res[\"std_dev\"]))"
   ]
  },
  {
   "cell_type": "code",
   "execution_count": null,
   "id": "6ed000d7-819e-4fe1-a1e1-4232cd41bc31",
   "metadata": {},
   "outputs": [],
   "source": []
  }
 ],
 "metadata": {
  "kernelspec": {
   "display_name": "Python 3 (ipykernel)",
   "language": "python",
   "name": "python3"
  },
  "language_info": {
   "codemirror_mode": {
    "name": "ipython",
    "version": 3
   },
   "file_extension": ".py",
   "mimetype": "text/x-python",
   "name": "python",
   "nbconvert_exporter": "python",
   "pygments_lexer": "ipython3",
   "version": "3.13.5"
  }
 },
 "nbformat": 4,
 "nbformat_minor": 5
}
