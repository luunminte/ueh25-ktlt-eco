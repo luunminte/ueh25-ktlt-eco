{
 "cells": [
  {
   "cell_type": "markdown",
   "id": "09ae15e7-3216-47a8-ade4-5ecc4b1c6632",
   "metadata": {},
   "source": [
    "# CHAPTER 1"
   ]
  },
  {
   "cell_type": "markdown",
   "id": "45666998-38a9-4c8a-b032-664c98208bea",
   "metadata": {},
   "source": [
    "## INTRODUCTION\n",
    "This document is mainly constructed using different references, including :\n",
    "- books : Briggs (2013), Grus (2015), VanderPlas (2016), McKinney (2017) ;\n",
    "- (excellents) notebooks : Navaro (2018)."
   ]
  },
  {
   "cell_type": "code",
   "execution_count": 1,
   "id": "7b877fe3-b6a3-4542-b357-e5a5dae0fe91",
   "metadata": {},
   "outputs": [
    {
     "data": {
      "text/plain": [
       "3"
      ]
     },
     "execution_count": 1,
     "metadata": {},
     "output_type": "execute_result"
    }
   ],
   "source": [
    "2+1"
   ]
  },
  {
   "cell_type": "markdown",
   "id": "58b50470-7b5d-4882-bf4e-527cd9e85ad0",
   "metadata": {},
   "source": [
    "# A Level 1 Title\n",
    "i will write *text in italics* and also **in bold**."
   ]
  },
  {
   "cell_type": "markdown",
   "id": "e7dd4121-d0b3-4c3d-878d-afb989d8ae13",
   "metadata": {},
   "source": [
    "## A Level 2 Title\n",
    "I can write lists:\n",
    "- with an item\n",
    "- a second one\n",
    "- and a third nesting a new list:\n",
    "  - with a subitem\n",
    "  - and a second one\n",
    "  - a fourth one including a numbered nested list:\n",
    "    1. with a subitem\n",
    "    1. and another.\n"
   ]
  },
  {
   "cell_type": "markdown",
   "id": "f08a8c86-a329-48bc-8d84-b3796c990825",
   "metadata": {},
   "source": [
    "## Another Level 2 Title\n",
    "I can even put equations in $LaTeX$.\n",
    "Like $X \\sim \\mathcal{N} (0.1)$.\n",
    "\n",
    "To learn more about $\\LaTeX$, we can refer to this :\n",
    "[Wikipedia page] (https://en.wikibooks.org/wiki/LaTeX/Mathematics)."
   ]
  },
  {
   "cell_type": "code",
   "execution_count": 19,
   "id": "e5074f71-6a85-4f71-b55c-0588087b23cb",
   "metadata": {},
   "outputs": [
    {
     "name": "stdout",
     "output_type": "stream",
     "text": [
      "3\n"
     ]
    }
   ],
   "source": [
    "x = 2+1\n",
    "print(x)"
   ]
  },
  {
   "cell_type": "code",
   "execution_count": 9,
   "id": "23c2b549-5172-4d18-a39a-8738501094d2",
   "metadata": {},
   "outputs": [
    {
     "name": "stdout",
     "output_type": "stream",
     "text": [
      "4\n"
     ]
    }
   ],
   "source": [
    "x = 4\n",
    "print(x)"
   ]
  },
  {
   "cell_type": "code",
   "execution_count": 10,
   "id": "4662d261-fddc-42c4-918b-8ff760cc7e6f",
   "metadata": {},
   "outputs": [
    {
     "name": "stdout",
     "output_type": "stream",
     "text": [
      "4\n"
     ]
    }
   ],
   "source": [
    "x = 4;\n",
    "y = x;\n",
    "print(y)"
   ]
  },
  {
   "cell_type": "code",
   "execution_count": 11,
   "id": "639ebb2c-d25f-4b16-a7d8-37b50523ce54",
   "metadata": {},
   "outputs": [
    {
     "name": "stdout",
     "output_type": "stream",
     "text": [
      "0\n"
     ]
    }
   ],
   "source": [
    "y = 0\n",
    "print(y)"
   ]
  },
  {
   "cell_type": "code",
   "execution_count": 12,
   "id": "7b49d565-40e0-4557-b72b-183b1f3fc09c",
   "metadata": {},
   "outputs": [
    {
     "name": "stdout",
     "output_type": "stream",
     "text": [
      "4\n"
     ]
    }
   ],
   "source": [
    "print(x)\n"
   ]
  },
  {
   "cell_type": "code",
   "execution_count": 14,
   "id": "fb8b6d40-ac77-4b99-9a97-8a09f4188154",
   "metadata": {},
   "outputs": [
    {
     "ename": "NameError",
     "evalue": "name 'y' is not defined",
     "output_type": "error",
     "traceback": [
      "\u001b[1;31m---------------------------------------------------------------------------\u001b[0m",
      "\u001b[1;31mNameError\u001b[0m                                 Traceback (most recent call last)",
      "Cell \u001b[1;32mIn[14], line 1\u001b[0m\n\u001b[1;32m----> 1\u001b[0m \u001b[38;5;28;01mdel\u001b[39;00m y\n",
      "\u001b[1;31mNameError\u001b[0m: name 'y' is not defined"
     ]
    }
   ],
   "source": [
    "del y"
   ]
  },
  {
   "cell_type": "code",
   "execution_count": 15,
   "id": "50183c88-23db-449d-9591-d29f27be5f31",
   "metadata": {},
   "outputs": [
    {
     "ename": "NameError",
     "evalue": "name 'y' is not defined",
     "output_type": "error",
     "traceback": [
      "\u001b[1;31m---------------------------------------------------------------------------\u001b[0m",
      "\u001b[1;31mNameError\u001b[0m                                 Traceback (most recent call last)",
      "Cell \u001b[1;32mIn[15], line 1\u001b[0m\n\u001b[1;32m----> 1\u001b[0m \u001b[38;5;28mprint\u001b[39m(y)\n",
      "\u001b[1;31mNameError\u001b[0m: name 'y' is not defined"
     ]
    }
   ],
   "source": [
    "print(y)"
   ]
  },
  {
   "cell_type": "code",
   "execution_count": 16,
   "id": "5363132b-f4e2-4d39-a6f5-5af9b193f7b7",
   "metadata": {},
   "outputs": [
    {
     "name": "stdout",
     "output_type": "stream",
     "text": [
      "4\n"
     ]
    }
   ],
   "source": [
    "print(x)"
   ]
  },
  {
   "cell_type": "code",
   "execution_count": 17,
   "id": "7b466f90-30cf-4728-93f7-6105ebe0f19b",
   "metadata": {},
   "outputs": [
    {
     "name": "stdout",
     "output_type": "stream",
     "text": [
      "toto\n"
     ]
    }
   ],
   "source": [
    "x = \"toto\"\n",
    "print(x)"
   ]
  },
  {
   "cell_type": "code",
   "execution_count": 22,
   "id": "925b8c3d-df29-4dd1-878c-6c8d35418b41",
   "metadata": {},
   "outputs": [
    {
     "name": "stdout",
     "output_type": "stream",
     "text": [
      "3\n"
     ]
    }
   ],
   "source": [
    "print(X)"
   ]
  },
  {
   "cell_type": "code",
   "execution_count": 23,
   "id": "e1250221-033d-456a-91a5-175bd204eacf",
   "metadata": {},
   "outputs": [
    {
     "name": "stdout",
     "output_type": "stream",
     "text": [
      "hello\n"
     ]
    }
   ],
   "source": [
    "# Un commetaire print(\"bonjour\")\n",
    "print(\"hello\") # Un autre commentaire"
   ]
  },
  {
   "cell_type": "code",
   "execution_count": 38,
   "id": "06c3947d-9e95-4f17-a47c-cf207be69c55",
   "metadata": {},
   "outputs": [
    {
     "data": {
      "text/plain": [
       "' A comment that starts on a line and continues on the another and stops at the third '"
      ]
     },
     "execution_count": 38,
     "metadata": {},
     "output_type": "execute_result"
    }
   ],
   "source": [
    "\"\"\" A comment that starts on a line and continues on the another and stops at the third \"\"\"\n",
    "\n"
   ]
  },
  {
   "cell_type": "code",
   "execution_count": 28,
   "id": "85fd6f45-b329-4594-8dd9-ccd1402d12ff",
   "metadata": {},
   "outputs": [],
   "source": [
    "import pandas"
   ]
  },
  {
   "cell_type": "code",
   "execution_count": 29,
   "id": "f65d4c71-bccf-4c1b-a327-e020c19de70b",
   "metadata": {},
   "outputs": [
    {
     "name": "stdout",
     "output_type": "stream",
     "text": [
      "0    1\n",
      "1    5\n",
      "2    4\n",
      "dtype: int64\n"
     ]
    }
   ],
   "source": [
    "X = pandas.Series([1, 5, 4])\n",
    "print(X)"
   ]
  },
  {
   "cell_type": "code",
   "execution_count": 31,
   "id": "58d5b059-d2b8-4e7b-89c1-23e4e59d2001",
   "metadata": {},
   "outputs": [
    {
     "name": "stdout",
     "output_type": "stream",
     "text": [
      "0    1\n",
      "1    5\n",
      "2    4\n",
      "dtype: int64\n"
     ]
    }
   ],
   "source": [
    "import pandas as pd\n",
    "X = pd.Series([1, 5, 4])\n",
    "print(X)"
   ]
  },
  {
   "cell_type": "code",
   "execution_count": 35,
   "id": "ca108281-242a-4a41-ac01-d7d7a686b999",
   "metadata": {},
   "outputs": [
    {
     "data": {
      "text/plain": [
       "[<matplotlib.lines.Line2D at 0x26c090e3d90>]"
      ]
     },
     "execution_count": 35,
     "metadata": {},
     "output_type": "execute_result"
    },
    {
     "data": {
      "image/png": "[encoded data removed]",
      "text/plain": [
       "<Figure size 640x480 with 1 Axes>"
      ]
     },
     "metadata": {},
     "output_type": "display_data"
    }
   ],
   "source": [
    "import matplotlib\n",
    "import matplotlib.pyplot as plt\n",
    "import numpy as np\n",
    "X = np.arange(0, 5, 0.1);\n",
    "Y = np.sin(X)\n",
    "plt.plot(X,Y)"
   ]
  },
  {
   "cell_type": "code",
   "execution_count": null,
   "id": "7e5c7fc1-b443-4203-b6b2-0ddd03e16020",
   "metadata": {},
   "outputs": [],
   "source": []
  }
 ],
 "metadata": {
  "kernelspec": {
   "display_name": "Python 3 (ipykernel)",
   "language": "python",
   "name": "python3"
  },
  "language_info": {
   "codemirror_mode": {
    "name": "ipython",
    "version": 3
   },
   "file_extension": ".py",
   "mimetype": "text/x-python",
   "name": "python",
   "nbconvert_exporter": "python",
   "pygments_lexer": "ipython3",
   "version": "3.13.5"
  }
 },
 "nbformat": 4,
 "nbformat_minor": 5
}
