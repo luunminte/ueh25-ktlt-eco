{
 "cells": [
  {
   "cell_type": "code",
   "execution_count": 6,
   "id": "34546ecc-7c33-4003-b2eb-14c43c467c65",
   "metadata": {},
   "outputs": [
    {
     "name": "stdout",
     "output_type": "stream",
     "text": [
      "Hello\n"
     ]
    }
   ],
   "source": [
    "x = 2\n",
    "if x == 2:\n",
    " print(\"Hello\")"
   ]
  },
  {
   "cell_type": "code",
   "execution_count": 10,
   "id": "acb74b45-7b8c-44a8-a085-a078f64d5893",
   "metadata": {},
   "outputs": [
    {
     "name": "stdout",
     "output_type": "stream",
     "text": [
      "Hello, x vaut : 2\n"
     ]
    }
   ],
   "source": [
    "x = 2\n",
    "if x == 2:\n",
    " y = \"Hello\"\n",
    " print(y + \", x vaut : \" + str(x))"
   ]
  },
  {
   "cell_type": "code",
   "execution_count": 15,
   "id": "be6b5e19-0624-46ac-aa74-2802fd075c21",
   "metadata": {},
   "outputs": [
    {
     "name": "stdout",
     "output_type": "stream",
     "text": [
      "It is cold out there\n"
     ]
    }
   ],
   "source": [
    "temperature = 26\n",
    "heat = \"\"\n",
    "if temperature > 28:\n",
    " heat = \"hot\"\n",
    "else:\n",
    " heat = \"cold\"\n",
    "print(\"It is \" + heat + \" out there\")"
   ]
  },
  {
   "cell_type": "code",
   "execution_count": 17,
   "id": "99cbbe00-57db-4e7e-83a9-45a9befb67a9",
   "metadata": {},
   "outputs": [
    {
     "name": "stdout",
     "output_type": "stream",
     "text": [
      "It is hot out there\n"
     ]
    }
   ],
   "source": [
    "temperature = 32\n",
    "heat = \"\"\n",
    "if temperature > 28:\n",
    " heat = \"hot\"\n",
    "else:\n",
    " heat = \"cold\"\n",
    "print(\"It is \" + heat + \" out there\")"
   ]
  },
  {
   "cell_type": "code",
   "execution_count": 18,
   "id": "a018fb1a-054b-4e22-8e97-cccaf1f2e7f4",
   "metadata": {},
   "outputs": [
    {
     "name": "stdout",
     "output_type": "stream",
     "text": [
      "It is very cold out there\n"
     ]
    }
   ],
   "source": [
    "temperature = -4\n",
    "heat = \"\"\n",
    "if temperature > 28:\n",
    " heat = \"hot\"\n",
    "elif temperature <= 28 and temperature > 15:\n",
    " heat = \"not too hot\"\n",
    "elif temperature <= 15 and temperature > 0:\n",
    " heat = \"cold\"\n",
    "else:\n",
    " heat = \"very cold\"\n",
    "print(\"It is \" + heat + \" out there\")"
   ]
  },
  {
   "cell_type": "code",
   "execution_count": null,
   "id": "ec0879ca-191a-4d03-8434-2d4ba1e70e47",
   "metadata": {},
   "outputs": [],
   "source": []
  }
 ],
 "metadata": {
  "kernelspec": {
   "display_name": "Python 3 (ipykernel)",
   "language": "python",
   "name": "python3"
  },
  "language_info": {
   "codemirror_mode": {
    "name": "ipython",
    "version": 3
   },
   "file_extension": ".py",
   "mimetype": "text/x-python",
   "name": "python",
   "nbconvert_exporter": "python",
   "pygments_lexer": "ipython3",
   "version": "3.13.5"
  }
 },
 "nbformat": 4,
 "nbformat_minor": 5
}
