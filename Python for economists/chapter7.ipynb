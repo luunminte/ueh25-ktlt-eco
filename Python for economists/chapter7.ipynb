{
 "cells": [
  {
   "cell_type": "code",
   "execution_count": 2,
   "id": "1453ca2e-a2a3-4030-be4b-6fba986520e6",
   "metadata": {},
   "outputs": [
    {
     "name": "stdout",
     "output_type": "stream",
     "text": [
      "33.333333333333336\n",
      "11.111111111111112\n",
      "3.703703703703704\n",
      "1.234567901234568\n"
     ]
    }
   ],
   "source": [
    "x = 100\n",
    "while x/3 > 1:\n",
    " print(x/3)\n",
    " x = x/3"
   ]
  },
  {
   "cell_type": "code",
   "execution_count": 3,
   "id": "ae031c85-cd2a-4c5e-9f36-3f6920671215",
   "metadata": {},
   "outputs": [
    {
     "name": "stdout",
     "output_type": "stream",
     "text": [
      "False\n"
     ]
    }
   ],
   "source": [
    "print(x/3>1)"
   ]
  },
  {
   "cell_type": "code",
   "execution_count": 4,
   "id": "195de090-55f3-45c4-a5c4-2ffbcd988361",
   "metadata": {},
   "outputs": [
    {
     "name": "stdout",
     "output_type": "stream",
     "text": [
      "0.41152263374485604\n"
     ]
    }
   ],
   "source": [
    "    print(x/3)"
   ]
  },
  {
   "cell_type": "code",
   "execution_count": 5,
   "id": "23eeaa2f-a134-4bf3-96e6-9190b68233ec",
   "metadata": {},
   "outputs": [
    {
     "name": "stdout",
     "output_type": "stream",
     "text": [
      "[0, 1, 2, 3]\n"
     ]
    }
   ],
   "source": [
    "print(list(range(0, 4))) # Les entiers de 0 à 3"
   ]
  },
  {
   "cell_type": "code",
   "execution_count": 6,
   "id": "ab2625e9-25c2-4d6f-bf85-6f88c92a56af",
   "metadata": {},
   "outputs": [
    {
     "name": "stdout",
     "output_type": "stream",
     "text": [
      "[0, 1, 2, 3]\n"
     ]
    }
   ],
   "source": [
    "print(list(range(4))) # Les entiers de 0 à 3"
   ]
  },
  {
   "cell_type": "code",
   "execution_count": 7,
   "id": "f0e4a433-b90e-4c55-b738-0fd7ad4c1b8a",
   "metadata": {},
   "outputs": [
    {
     "name": "stdout",
     "output_type": "stream",
     "text": [
      "[2, 3, 4, 5, 6, 7, 8, 9]\n"
     ]
    }
   ],
   "source": [
    "print(list(range(2, 10))) # Les entiers de 2 à 9"
   ]
  },
  {
   "cell_type": "code",
   "execution_count": 8,
   "id": "a51e2090-f6a6-42d2-a5fd-654562145851",
   "metadata": {},
   "outputs": [
    {
     "name": "stdout",
     "output_type": "stream",
     "text": [
      "[2, 5, 8]\n"
     ]
    }
   ],
   "source": [
    "print(list(range(2, 10, 3))) # Les entiers de 2 à 9 par pas de 3"
   ]
  },
  {
   "cell_type": "code",
   "execution_count": 10,
   "id": "bdbfdc3a-2285-4e73-a748-4c6d8dfed0d1",
   "metadata": {},
   "outputs": [
    {
     "name": "stdout",
     "output_type": "stream",
     "text": [
      "The squared value of 0 is 0\n",
      "The squared value of 1 is 1\n",
      "The squared value of 2 is 4\n",
      "The squared value of 3 is 9\n",
      "The squared value of 4 is 16\n",
      "The squared value of 5 is 25\n",
      "The squared value of 6 is 36\n",
      "The squared value of 7 is 49\n",
      "The squared value of 8 is 64\n",
      "The squared value of 9 is 81\n",
      "The squared value of 10 is 100\n"
     ]
    }
   ],
   "source": [
    "message = \"The squared value of {} is {}\"\n",
    "n=10\n",
    "for i in range(0, n+1):\n",
    " print(message.format(i,i**2))"
   ]
  },
  {
   "cell_type": "code",
   "execution_count": 14,
   "id": "35f52087-b12c-4fab-9bb1-215738ad4707",
   "metadata": {},
   "outputs": [
    {
     "name": "stdout",
     "output_type": "stream",
     "text": [
      "[0]\n",
      "[0, 1]\n",
      "[0, 1, 4]\n",
      "[0, 1, 4, 9]\n",
      "[0, 1, 4, 9, 16]\n",
      "[0, 1, 4, 9, 16, 25]\n",
      "[0, 1, 4, 9, 16, 25, 36]\n",
      "[0, 1, 4, 9, 16, 25, 36, 49]\n",
      "[0, 1, 4, 9, 16, 25, 36, 49, 64]\n",
      "[0, 1, 4, 9, 16, 25, 36, 49, 64, 81]\n",
      "[0, 1, 4, 9, 16, 25, 36, 49, 64, 81, 100]\n"
     ]
    }
   ],
   "source": [
    "n=10\n",
    "n_squares = []\n",
    "for i in range(0, n+1):\n",
    " n_squares.append(i**2)\n",
    " print(n_squares)"
   ]
  },
  {
   "cell_type": "code",
   "execution_count": 16,
   "id": "dc20b071-cae3-440c-936c-d59e474b55d6",
   "metadata": {},
   "outputs": [
    {
     "name": "stdout",
     "output_type": "stream",
     "text": [
      "The squared value of 0 is 0\n",
      "The squared value of 1 is 1\n",
      "The squared value of 2 is 4\n",
      "The squared value of 8 is 64\n",
      "The squared value of 9 is 81\n",
      "The squared value of 10 is 100\n"
     ]
    }
   ],
   "source": [
    "message = \"The squared value of {} is {}\"\n",
    "for i in [0, 1, 2, 8, 9, 10]:\n",
    " print(message.format(i,i**2))"
   ]
  },
  {
   "cell_type": "code",
   "execution_count": 18,
   "id": "c1093faf-9a16-4c78-9119-ecaba5f51927",
   "metadata": {},
   "outputs": [
    {
     "name": "stdout",
     "output_type": "stream",
     "text": [
      "There is(are) 9 letter(s) in the name: Pascaline\n",
      "There is(are) 8 letter(s) in the name: Gauthier\n",
      "There is(are) 4 letter(s) in the name: Xuan\n",
      "There is(are) 5 letter(s) in the name: Jimmy\n"
     ]
    }
   ],
   "source": [
    "message = \"There is(are) {} letter(s) in the name: {}\"\n",
    "for first_name in [\"Pascaline\", \"Gauthier\", \"Xuan\", \"Jimmy\"]:\n",
    " print(message.format(len(first_name), first_name))"
   ]
  },
  {
   "cell_type": "code",
   "execution_count": 23,
   "id": "0f69d2de-f977-47ef-bcbc-1210993c0a92",
   "metadata": {},
   "outputs": [
    {
     "name": "stdout",
     "output_type": "stream",
     "text": [
      "i equals 0 and j equals 0\n",
      "i equals 0 and j equals 1\n",
      "i equals 0 and j equals 2\n",
      "i equals 1 and j equals 0\n",
      "i equals 1 and j equals 1\n",
      "i equals 1 and j equals 2\n",
      "i equals 2 and j equals 0\n",
      "i equals 2 and j equals 1\n",
      "i equals 2 and j equals 2\n"
     ]
    }
   ],
   "source": [
    "message = \"i equals {} and j equals {}\"\n",
    "for i in range(0,3):\n",
    " for j in range(0,3):\n",
    "  print(message.format(i, j))"
   ]
  },
  {
   "cell_type": "code",
   "execution_count": 26,
   "id": "5122c212-a193-43e5-9ba7-2aec9221a737",
   "metadata": {},
   "outputs": [
    {
     "name": "stdout",
     "output_type": "stream",
     "text": [
      "New value for j: 30\n"
     ]
    }
   ],
   "source": [
    "message = \"New value for j: {}\"\n",
    "j = 10\n",
    "for i in range(0, 4):\n",
    " j += 5\n",
    "print(message.format(j))"
   ]
  },
  {
   "cell_type": "code",
   "execution_count": null,
   "id": "ea2aaa3e-0c3b-4b69-a802-86226da1fc6a",
   "metadata": {},
   "outputs": [],
   "source": []
  }
 ],
 "metadata": {
  "kernelspec": {
   "display_name": "Python 3 (ipykernel)",
   "language": "python",
   "name": "python3"
  },
  "language_info": {
   "codemirror_mode": {
    "name": "ipython",
    "version": 3
   },
   "file_extension": ".py",
   "mimetype": "text/x-python",
   "name": "python",
   "nbconvert_exporter": "python",
   "pygments_lexer": "ipython3",
   "version": "3.13.5"
  }
 },
 "nbformat": 4,
 "nbformat_minor": 5
}
