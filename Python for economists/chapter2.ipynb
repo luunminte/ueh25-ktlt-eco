{
 "cells": [
  {
   "cell_type": "code",
   "execution_count": 4,
   "id": "99e237c4-c690-4427-a1ed-f1e3cc403880",
   "metadata": {},
   "outputs": [],
   "source": [
    "x = \"hello world\""
   ]
  },
  {
   "cell_type": "code",
   "execution_count": 2,
   "id": "84847090-8798-4522-a080-637e48013f2e",
   "metadata": {},
   "outputs": [
    {
     "name": "stdout",
     "output_type": "stream",
     "text": [
      "hello world\n"
     ]
    }
   ],
   "source": [
    "print(x)"
   ]
  },
  {
   "cell_type": "code",
   "execution_count": 5,
   "id": "77af65bc-9fbf-44f7-b914-c2aaa8763a86",
   "metadata": {},
   "outputs": [
    {
     "name": "stdout",
     "output_type": "stream",
     "text": [
      "how are you?\n"
     ]
    }
   ],
   "source": [
    "y = 'how are you?'\n",
    "print(y)"
   ]
  },
  {
   "cell_type": "code",
   "execution_count": 6,
   "id": "521879d0-37c7-4c81-a351-3e3d65c473b2",
   "metadata": {},
   "outputs": [
    {
     "name": "stdout",
     "output_type": "stream",
     "text": [
      "I'm fine\n"
     ]
    }
   ],
   "source": [
    "z = 'I\\'m fine'\n",
    "print(z)"
   ]
  },
  {
   "cell_type": "code",
   "execution_count": 9,
   "id": "3fbf961d-a3ab-4330-aae7-297b250ba0ed",
   "metadata": {},
   "outputs": [
    {
     "name": "stdout",
     "output_type": "stream",
     "text": [
      "I'm \"fine\"\n"
     ]
    }
   ],
   "source": [
    "z = \"I'm \\\"fine\\\"\"\n",
    "print(z)"
   ]
  },
  {
   "cell_type": "code",
   "execution_count": 18,
   "id": "133c630e-1419-447b-bade-a81e98a49c65",
   "metadata": {},
   "outputs": [],
   "source": [
    "x = \"hello, \\nWorld\""
   ]
  },
  {
   "cell_type": "code",
   "execution_count": 19,
   "id": "7e1cf342-1c12-4bee-971b-5bca4fb10c2c",
   "metadata": {},
   "outputs": [
    {
     "name": "stdout",
     "output_type": "stream",
     "text": [
      "hello, \n",
      "World\n"
     ]
    }
   ],
   "source": [
    "print(x)"
   ]
  },
  {
   "cell_type": "code",
   "execution_count": 20,
   "id": "872a0036-ef52-42aa-921e-bfe87d062c9b",
   "metadata": {},
   "outputs": [
    {
     "name": "stdout",
     "output_type": "stream",
     "text": [
      "hello,\n",
      "World\n"
     ]
    }
   ],
   "source": [
    "x = \"\"\"hello,\n",
    "World\"\"\"\n",
    "print(x)"
   ]
  },
  {
   "cell_type": "code",
   "execution_count": 21,
   "id": "34805c6e-6f5a-49c4-923e-a6777efa7fd2",
   "metadata": {},
   "outputs": [
    {
     "name": "stdout",
     "output_type": "stream",
     "text": [
      "13\n"
     ]
    }
   ],
   "source": [
    "x = \"hello World !\"\n",
    "print(len(x))"
   ]
  },
  {
   "cell_type": "code",
   "execution_count": 22,
   "id": "d9e95783-1ae6-466b-8e56-f52a55903c6b",
   "metadata": {},
   "outputs": [
    {
     "name": "stdout",
     "output_type": "stream",
     "text": [
      "hello World ! 13\n"
     ]
    }
   ],
   "source": [
    "print(x, len(x))"
   ]
  },
  {
   "cell_type": "code",
   "execution_count": 24,
   "id": "fee5245f-b0fa-4ef0-a524-68dd8f9684ac",
   "metadata": {},
   "outputs": [
    {
     "name": "stdout",
     "output_type": "stream",
     "text": [
      "hello World\n"
     ]
    }
   ],
   "source": [
    "print(\"hello\" + \" World\")"
   ]
  },
  {
   "cell_type": "code",
   "execution_count": 25,
   "id": "30c7fcb7-fe5f-4dae-9bea-fe4cfe98f383",
   "metadata": {},
   "outputs": [
    {
     "name": "stdout",
     "output_type": "stream",
     "text": [
      "Go Habs Go! Go Habs Go! Go Habs Go! Woo Hoo!\n"
     ]
    }
   ],
   "source": [
    "print( 3 * \"Go Habs Go! \" + \"Woo Hoo!\")"
   ]
  },
  {
   "cell_type": "code",
   "execution_count": 28,
   "id": "c6e9056b-e2b5-41ba-82b9-f66003984fec",
   "metadata": {},
   "outputs": [
    {
     "name": "stdout",
     "output_type": "stream",
     "text": [
      "You shall not pass!\n"
     ]
    }
   ],
   "source": [
    "x = ('You shall ' 'not ' \"pass!\")\n",
    "print(x)"
   ]
  },
  {
   "cell_type": "code",
   "execution_count": 30,
   "id": "7fa2a7e9-4409-416e-adfa-8aca98631051",
   "metadata": {},
   "outputs": [
    {
     "name": "stdout",
     "output_type": "stream",
     "text": [
      "I like to code in R\n"
     ]
    }
   ],
   "source": [
    "x = \"I like to code in {}\"\n",
    "langage_1 = \"R\"\n",
    "langage_2 = \"Python\"\n",
    "preference_1 = x.format(langage_1)\n",
    "print(preference_1)"
   ]
  },
  {
   "cell_type": "code",
   "execution_count": 31,
   "id": "6660f29e-e120-40f9-9b6f-75110d4b41b1",
   "metadata": {},
   "outputs": [
    {
     "name": "stdout",
     "output_type": "stream",
     "text": [
      "I like to code in Python\n"
     ]
    }
   ],
   "source": [
    "preference_2 = x.format(langage_2)\n",
    "print(preference_2)"
   ]
  },
  {
   "cell_type": "code",
   "execution_count": 33,
   "id": "37e59db3-d506-4ac3-af69-aeb16257f1c4",
   "metadata": {},
   "outputs": [
    {
     "name": "stdout",
     "output_type": "stream",
     "text": [
      "I like to code in R and in Python\n"
     ]
    }
   ],
   "source": [
    "x = \"I like to code in {} and in {}\"\n",
    "preference_3 = x.format(langage_1, langage_2)\n",
    "print(preference_3)"
   ]
  },
  {
   "cell_type": "code",
   "execution_count": 35,
   "id": "b2d64f44-825e-4ea3-bde5-dbb99806a2db",
   "metadata": {},
   "outputs": [
    {
     "name": "stdout",
     "output_type": "stream",
     "text": [
      "H\n"
     ]
    }
   ],
   "source": [
    "X = \"Hello\"\n",
    "print(X[0])"
   ]
  },
  {
   "cell_type": "code",
   "execution_count": 36,
   "id": "18a61f33-b763-4e89-be82-eaf2fed75831",
   "metadata": {},
   "outputs": [
    {
     "name": "stdout",
     "output_type": "stream",
     "text": [
      "o\n"
     ]
    }
   ],
   "source": [
    "print(X[4])"
   ]
  },
  {
   "cell_type": "code",
   "execution_count": 38,
   "id": "9d76b871-5401-48b1-8ee9-212fc0fcbe9c",
   "metadata": {},
   "outputs": [
    {
     "name": "stdout",
     "output_type": "stream",
     "text": [
      "l\n"
     ]
    }
   ],
   "source": [
    "print(X[-2])"
   ]
  },
  {
   "cell_type": "code",
   "execution_count": 40,
   "id": "9465efab-c2e0-4821-a104-fee6c8f56a73",
   "metadata": {},
   "outputs": [
    {
     "name": "stdout",
     "output_type": "stream",
     "text": [
      "shall\n"
     ]
    }
   ],
   "source": [
    "X = \"You shall not pass!\"\n",
    "# From the fourth character (not included) to the ninth (included)\n",
    "print(X[4:9])"
   ]
  },
  {
   "cell_type": "code",
   "execution_count": 41,
   "id": "4bb522b2-087c-448b-aa48-0fba0087ad4b",
   "metadata": {},
   "outputs": [
    {
     "name": "stdout",
     "output_type": "stream",
     "text": [
      "shall not pass!\n",
      "You shall not pass\n",
      "pass!\n"
     ]
    }
   ],
   "source": [
    "# From the 4th charater (non inclueded) to the end pf the string\n",
    "print(X[4:])\n",
    "# From the beginning of the string to the penultimate (included)\n",
    "print(X[:-1])\n",
    "#from the 3rd character before the end (included) to the end\n",
    "print(X[-5:])\n",
    "      "
   ]
  },
  {
   "cell_type": "code",
   "execution_count": 43,
   "id": "4bd30e02-bb2f-4453-9783-5b2b29ed5866",
   "metadata": {},
   "outputs": [
    {
     "name": "stdout",
     "output_type": "stream",
     "text": [
      "sln s\n"
     ]
    }
   ],
   "source": [
    "# From the 4th character (not included),\n",
    "# to the end of the string, in steps of 3\n",
    "print(X[4::3])"
   ]
  },
  {
   "cell_type": "code",
   "execution_count": 44,
   "id": "b8418010-383a-4b9e-9d42-51b6bf76426e",
   "metadata": {},
   "outputs": [
    {
     "name": "stdout",
     "output_type": "stream",
     "text": [
      "!ssap ton llahs uoY\n"
     ]
    }
   ],
   "source": [
    "print(X[::-1])"
   ]
  },
  {
   "cell_type": "code",
   "execution_count": 45,
   "id": "00d7420a-0aa0-4938-80ce-fbea45d9bcfd",
   "metadata": {},
   "outputs": [
    {
     "name": "stdout",
     "output_type": "stream",
     "text": [
      "3\n"
     ]
    }
   ],
   "source": [
    "x = \"le train de tes injures roule sur le rail de mon indifférence\"\n",
    "print(x.count(\"in\"))"
   ]
  },
  {
   "cell_type": "code",
   "execution_count": 46,
   "id": "a5e14db9-1458-4301-97dd-5d93585c336f",
   "metadata": {},
   "outputs": [
    {
     "name": "stdout",
     "output_type": "stream",
     "text": [
      "le train de tes injures roule sur le rail de mon indifférence\n",
      "LE TRAIN DE TES INJURES ROULE SUR LE RAIL DE MON INDIFFÉRENCE\n"
     ]
    }
   ],
   "source": [
    "x = \"le train de tes injures roule sur le rail de mon indifférence\"\n",
    "print(x.lower())\n",
    "print(x.upper())"
   ]
  },
  {
   "cell_type": "code",
   "execution_count": 47,
   "id": "1a0e605c-8630-4fda-b33a-1a7f53f30fc9",
   "metadata": {},
   "outputs": [
    {
     "name": "stdout",
     "output_type": "stream",
     "text": [
      "6\n",
      "-1\n"
     ]
    }
   ],
   "source": [
    "print(x.find(\"in\"))\n",
    "print(x.find(\"hello\"))"
   ]
  },
  {
   "cell_type": "code",
   "execution_count": 48,
   "id": "c5651505-3914-4661-9cdb-c67829dde913",
   "metadata": {},
   "outputs": [
    {
     "name": "stdout",
     "output_type": "stream",
     "text": [
      "16\n"
     ]
    }
   ],
   "source": [
    "print(x.find(\"in\", 7, 20))"
   ]
  },
  {
   "cell_type": "code",
   "execution_count": 49,
   "id": "a16f8d73-e88d-4af7-a081-47d86fbd78f7",
   "metadata": {},
   "outputs": [
    {
     "name": "stdout",
     "output_type": "stream",
     "text": [
      "49\n"
     ]
    }
   ],
   "source": [
    "print(x.find(\"in\", 20))"
   ]
  },
  {
   "cell_type": "code",
   "execution_count": 50,
   "id": "488b7324-9bdd-4109-b9ce-e5ac0c30f989",
   "metadata": {},
   "outputs": [
    {
     "name": "stdout",
     "output_type": "stream",
     "text": [
      "-1\n"
     ]
    }
   ],
   "source": [
    "x = \"Mademoiselle Deray, il est interdit de manger de la choucroute ici.\"\n",
    "print(x.find(\"deray\"))"
   ]
  },
  {
   "cell_type": "code",
   "execution_count": 51,
   "id": "8ba58dcc-e61d-4ce2-bf89-bd00e32d2582",
   "metadata": {},
   "outputs": [
    {
     "name": "stdout",
     "output_type": "stream",
     "text": [
      "13\n"
     ]
    }
   ],
   "source": [
    "print(x.capitalize().find(\"deray\"))"
   ]
  },
  {
   "cell_type": "code",
   "execution_count": 52,
   "id": "1922aac7-6925-48d8-80c8-d4c8f050f31b",
   "metadata": {},
   "outputs": [
    {
     "name": "stdout",
     "output_type": "stream",
     "text": [
      "['Mademoiselle', 'Deray,', 'il', 'est', 'interdit', 'de', 'manger', 'de', 'la', 'choucroute', 'ici.']\n"
     ]
    }
   ],
   "source": [
    "print(x.split(\" \"))\n"
   ]
  },
  {
   "cell_type": "code",
   "execution_count": 53,
   "id": "fd7b4af8-7e93-41b3-9128-ab513b00196b",
   "metadata": {},
   "outputs": [
    {
     "name": "stdout",
     "output_type": "stream",
     "text": [
      "['Mademoiselle', 'Deray,', 'il', 'est interdit de manger de la choucroute ici.']\n"
     ]
    }
   ],
   "source": [
    "# Will return the elements matched up to the index 3\n",
    "print(x.split(\" \", 3))"
   ]
  },
  {
   "cell_type": "code",
   "execution_count": 54,
   "id": "4db8f738-6d15-4540-9ea1-b06775be17c6",
   "metadata": {},
   "outputs": [
    {
     "name": "stdout",
     "output_type": "stream",
     "text": [
      "['\"No, I am your Father!', \"- No... No. It's not true! That's impossible!\", '- Search your feelings. You know it to be true.', '- Noooooooo! Noooo!\"']\n"
     ]
    }
   ],
   "source": [
    "x = '''\"No, I am your Father!\n",
    "- No... No. It's not true! That's impossible!\n",
    "- Search your feelings. You know it to be true.\n",
    "- Noooooooo! Noooo!\"'''\n",
    "print(x.splitlines())\n"
   ]
  },
  {
   "cell_type": "code",
   "execution_count": 55,
   "id": "7e013754-07a9-459e-95a1-5cd83360c0e2",
   "metadata": {},
   "outputs": [
    {
     "name": "stdout",
     "output_type": "stream",
     "text": [
      "Pardon, du sucre ?\n"
     ]
    }
   ],
   "source": [
    "x = \"\\n\\n Pardon, du sucre ? \\n \\n\"\n",
    "print(x.strip())"
   ]
  },
  {
   "cell_type": "code",
   "execution_count": 56,
   "id": "afa62cff-64ab-4edc-98a5-8c2235079061",
   "metadata": {},
   "outputs": [
    {
     "name": "stdout",
     "output_type": "stream",
     "text": [
      "egallic\n"
     ]
    }
   ],
   "source": [
    "x = \"www.egallic.fr\"\n",
    "print(x.strip(\"wrf.\"))"
   ]
  },
  {
   "cell_type": "code",
   "execution_count": 57,
   "id": "3798c6a0-ae6e-410e-8c5d-9e6bb098684a",
   "metadata": {},
   "outputs": [
    {
     "name": "stdout",
     "output_type": "stream",
     "text": [
      "  48.11\n"
     ]
    }
   ],
   "source": [
    "longitude = \"48.11\"\n",
    "print(longitude.rjust(7,\" \"))"
   ]
  },
  {
   "cell_type": "code",
   "execution_count": 58,
   "id": "d3dbfffd-482c-42b3-8458-7ebb6b9a21b2",
   "metadata": {},
   "outputs": [
    {
     "name": "stdout",
     "output_type": "stream",
     "text": [
      "Ridge ! Vous, ici ? Dans votre propre salle de bain ? Quelle surprise !\n"
     ]
    }
   ],
   "source": [
    "x = \"Criquette ! Vous, ici ? Dans votre propre salle de bain ? Quelle surprise !\"\n",
    "print(x.replace(\"Criquette\", \"Ridge\"))"
   ]
  },
  {
   "cell_type": "code",
   "execution_count": 59,
   "id": "cad35d26-a573-454f-bc12-b6d593f1785c",
   "metadata": {},
   "outputs": [
    {
     "name": "stdout",
     "output_type": "stream",
     "text": [
      "Criquette!Vous,ici?Dansvotrepropresalledebain?Quellesurprise!\n"
     ]
    }
   ],
   "source": [
    "print(x.replace(\" \", \"\"))\n"
   ]
  },
  {
   "cell_type": "code",
   "execution_count": 72,
   "id": "da8d6399-a233-4c57-b86e-ce6fe81219e4",
   "metadata": {},
   "outputs": [],
   "source": [
    "nb_followers = 0"
   ]
  },
  {
   "cell_type": "code",
   "execution_count": 73,
   "id": "c78b4611-a5b4-4b88-998d-866949fdbe5d",
   "metadata": {},
   "outputs": [
    {
     "ename": "NameError",
     "evalue": "name 'message' is not defined",
     "output_type": "error",
     "traceback": [
      "\u001b[1;31m---------------------------------------------------------------------------\u001b[0m",
      "\u001b[1;31mNameError\u001b[0m                                 Traceback (most recent call last)",
      "Cell \u001b[1;32mIn[73], line 1\u001b[0m\n\u001b[1;32m----> 1\u001b[0m \u001b[38;5;28mprint\u001b[39m(message)\n",
      "\u001b[1;31mNameError\u001b[0m: name 'message' is not defined"
     ]
    }
   ],
   "source": [
    "print(message)"
   ]
  },
  {
   "cell_type": "code",
   "execution_count": 74,
   "id": "0e08555a-18ee-4f06-9310-8a634a86f524",
   "metadata": {},
   "outputs": [
    {
     "name": "stdout",
     "output_type": "stream",
     "text": [
      "He has 0 followers.\n"
     ]
    }
   ],
   "source": [
    "message = \"He has \" + str(nb_followers) + \" followers.\"\n",
    "print(message)"
   ]
  },
  {
   "cell_type": "markdown",
   "id": "77068a0d-071f-461a-87a4-0f7855e85c27",
   "metadata": {},
   "source": [
    "# exercise"
   ]
  },
  {
   "cell_type": "code",
   "execution_count": 79,
   "id": "85a69924-2ccc-4823-a8df-6b3680be1629",
   "metadata": {},
   "outputs": [],
   "source": [
    "\"\"\"1. Create two variables named a and b so that they contain the following strings\n",
    "respectively: 23 to 0 and C'est la piquette, Jack!.\"\"\"\n",
    "a = \"23 to 0\"\n",
    "b = \"C'est la piquette, Jack!.\""
   ]
  },
  {
   "cell_type": "code",
   "execution_count": 81,
   "id": "8c0e44cf-a5a8-403e-8d69-4d1101987985",
   "metadata": {},
   "outputs": [
    {
     "name": "stdout",
     "output_type": "stream",
     "text": [
      "23 to 0 C'est la piquette, Jack!.\n"
     ]
    }
   ],
   "source": [
    "print(a,b)"
   ]
  },
  {
   "cell_type": "code",
   "execution_count": 84,
   "id": "20589f37-ce23-41d2-be34-b7ee44cc859c",
   "metadata": {},
   "outputs": [
    {
     "name": "stdout",
     "output_type": "stream",
     "text": [
      "7\n",
      "25\n"
     ]
    }
   ],
   "source": [
    "\"2. Display the number of characters from a, then b.\"\n",
    "print(len(a))\n",
    "print(len(b))"
   ]
  },
  {
   "cell_type": "code",
   "execution_count": 87,
   "id": "e9cf2f94-0538-478c-8a77-5ebc6279add5",
   "metadata": {},
   "outputs": [
    {
     "name": "stdout",
     "output_type": "stream",
     "text": [
      "23 to 0,C'est la piquette, Jack!.\n"
     ]
    }
   ],
   "source": [
    "\"3. Concatenate a and b in a single string, adding a comma as a separating character.\"\n",
    "print(a +\",\"+ b)"
   ]
  },
  {
   "cell_type": "code",
   "execution_count": 88,
   "id": "732d9c33-15b8-4aed-9bbd-35d6c4bb6cf0",
   "metadata": {},
   "outputs": [
    {
     "name": "stdout",
     "output_type": "stream",
     "text": [
      "23 to 0\n",
      "C'est la piquette, Jack!.\n"
     ]
    }
   ],
   "source": [
    "\"4. Same question by choosing the separation line as the separator character.\"\n",
    "print(a +\"\\n\"+ b)"
   ]
  },
  {
   "cell_type": "code",
   "execution_count": 89,
   "id": "f1a385fd-a37c-4620-aa0c-1320f2b39bca",
   "metadata": {},
   "outputs": [
    {
     "name": "stdout",
     "output_type": "stream",
     "text": [
      "<class 'int'>\n"
     ]
    }
   ],
   "source": [
    "x = 2\n",
    "y = -2\n",
    "print(type(x))"
   ]
  },
  {
   "cell_type": "code",
   "execution_count": 91,
   "id": "a126eebf-ff32-4ef8-9b06-596d765c2a53",
   "metadata": {},
   "outputs": [
    {
     "name": "stdout",
     "output_type": "stream",
     "text": [
      "<class 'int'>\n"
     ]
    }
   ],
   "source": [
    "print(type(y))"
   ]
  },
  {
   "cell_type": "code",
   "execution_count": 92,
   "id": "cd2f1f02-bc31-411d-b794-81a8e5aea7a7",
   "metadata": {},
   "outputs": [
    {
     "name": "stdout",
     "output_type": "stream",
     "text": [
      "<class 'float'>\n"
     ]
    }
   ],
   "source": [
    "x = 2.0\n",
    "y = 48.15162342\n",
    "print(type(x))"
   ]
  },
  {
   "cell_type": "code",
   "execution_count": 93,
   "id": "fde0f7d3-fea6-49c4-9f18-19fdf6e6ccfb",
   "metadata": {},
   "outputs": [
    {
     "name": "stdout",
     "output_type": "stream",
     "text": [
      "<class 'float'>\n"
     ]
    }
   ],
   "source": [
    "print(type(y))"
   ]
  },
  {
   "cell_type": "code",
   "execution_count": 94,
   "id": "5f9bf429-0126-4665-9347-1ad6a3d9383b",
   "metadata": {},
   "outputs": [
    {
     "name": "stdout",
     "output_type": "stream",
     "text": [
      "3200000000000.0\n"
     ]
    }
   ],
   "source": [
    "x = 3.2E12\n",
    "y = 3.2e12\n",
    "print(x)"
   ]
  },
  {
   "cell_type": "code",
   "execution_count": 95,
   "id": "0a56696f-a684-46a9-a85b-07688cb99e34",
   "metadata": {},
   "outputs": [
    {
     "name": "stdout",
     "output_type": "stream",
     "text": [
      "3200000000000.0\n"
     ]
    }
   ],
   "source": [
    "print(y)"
   ]
  },
  {
   "cell_type": "code",
   "execution_count": 96,
   "id": "25ed5b0b-8f22-4864-8529-20ad708b10ba",
   "metadata": {},
   "outputs": [
    {
     "name": "stdout",
     "output_type": "stream",
     "text": [
      "0.35\n",
      "0.35\n"
     ]
    }
   ],
   "source": [
    "print(0.35)\n",
    "print(.35)"
   ]
  },
  {
   "cell_type": "code",
   "execution_count": 97,
   "id": "2902adf8-f693-46fe-ab9e-659e88787cb9",
   "metadata": {},
   "outputs": [
    {
     "name": "stdout",
     "output_type": "stream",
     "text": [
      "(1+3j)\n"
     ]
    }
   ],
   "source": [
    "z = 1+3j\n",
    "print(z)"
   ]
  },
  {
   "cell_type": "code",
   "execution_count": 98,
   "id": "460af654-3338-47c4-870c-c3c92e765e0f",
   "metadata": {},
   "outputs": [
    {
     "name": "stdout",
     "output_type": "stream",
     "text": [
      "<class 'complex'>\n"
     ]
    }
   ],
   "source": [
    "print(type(z))"
   ]
  },
  {
   "cell_type": "code",
   "execution_count": 99,
   "id": "a94caae6-7236-4ee0-b75c-e7838e6d91ec",
   "metadata": {},
   "outputs": [
    {
     "name": "stdout",
     "output_type": "stream",
     "text": [
      "(1+3j)\n"
     ]
    }
   ],
   "source": [
    "z = complex(1, 3)\n",
    "print(z)"
   ]
  },
  {
   "cell_type": "code",
   "execution_count": 101,
   "id": "1e17e01e-93ad-4e7f-b430-e4d26a3a4b88",
   "metadata": {},
   "outputs": [
    {
     "name": "stdout",
     "output_type": "stream",
     "text": [
      "<class 'complex'>\n"
     ]
    }
   ],
   "source": [
    "print(type(z))"
   ]
  },
  {
   "cell_type": "code",
   "execution_count": 102,
   "id": "a128f17f-ff80-41fa-adea-838b702748c5",
   "metadata": {},
   "outputs": [
    {
     "name": "stdout",
     "output_type": "stream",
     "text": [
      "(1-3j)\n"
     ]
    }
   ],
   "source": [
    "print(z.conjugate())"
   ]
  },
  {
   "cell_type": "code",
   "execution_count": 104,
   "id": "e4babcf4-2c93-4465-a62a-7d900a0b4b98",
   "metadata": {},
   "outputs": [
    {
     "name": "stdout",
     "output_type": "stream",
     "text": [
      "1.0\n"
     ]
    }
   ],
   "source": [
    "z = complex(1, 3)\n",
    "print(z.real)"
   ]
  },
  {
   "cell_type": "code",
   "execution_count": 107,
   "id": "77a275f9-858b-4766-ab13-e713328cd046",
   "metadata": {},
   "outputs": [
    {
     "name": "stdout",
     "output_type": "stream",
     "text": [
      "3.0\n"
     ]
    }
   ],
   "source": [
    "print(z.imag)"
   ]
  },
  {
   "cell_type": "code",
   "execution_count": 108,
   "id": "fd0faf0f-8c40-4c11-bb1c-908c798a785a",
   "metadata": {},
   "outputs": [
    {
     "name": "stdout",
     "output_type": "stream",
     "text": [
      "<class 'int'>\n"
     ]
    }
   ],
   "source": [
    "x = \"3\"\n",
    "x_int = int(x)\n",
    "print(type(x_int))"
   ]
  },
  {
   "cell_type": "code",
   "execution_count": 109,
   "id": "44cd30a3-4064-4ff4-9f98-cca12c6eafb9",
   "metadata": {},
   "outputs": [
    {
     "name": "stdout",
     "output_type": "stream",
     "text": [
      "<class 'str'>\n"
     ]
    }
   ],
   "source": [
    "print(type(x))"
   ]
  },
  {
   "cell_type": "code",
   "execution_count": 110,
   "id": "79adbbbe-1f5c-4176-bd93-8cd555a2664a",
   "metadata": {},
   "outputs": [
    {
     "name": "stdout",
     "output_type": "stream",
     "text": [
      "3\n"
     ]
    }
   ],
   "source": [
    "x = 3.6\n",
    "x_int = int(x)\n",
    "print(x_int)"
   ]
  },
  {
   "cell_type": "code",
   "execution_count": 111,
   "id": "d9163465-656f-45c7-80c0-a8cf0e3580ac",
   "metadata": {},
   "outputs": [
    {
     "name": "stdout",
     "output_type": "stream",
     "text": [
      "<class 'float'>\n"
     ]
    }
   ],
   "source": [
    "x = \"3.6\"\n",
    "x_float = float(x)\n",
    "print(type(x_float))"
   ]
  },
  {
   "cell_type": "code",
   "execution_count": 112,
   "id": "5155f61d-3ae4-4bf3-a2de-7eda7196e876",
   "metadata": {},
   "outputs": [
    {
     "name": "stdout",
     "output_type": "stream",
     "text": [
      "3.0\n"
     ]
    }
   ],
   "source": [
    "x = 3\n",
    "x_float = float(x)\n",
    "print(x_float)"
   ]
  },
  {
   "cell_type": "code",
   "execution_count": 113,
   "id": "008c4786-4e72-4d6d-a51b-a97001b5bd23",
   "metadata": {},
   "outputs": [
    {
     "name": "stdout",
     "output_type": "stream",
     "text": [
      "(2+0j)\n"
     ]
    }
   ],
   "source": [
    "x = \"2\"\n",
    "x_complex = complex(x)\n",
    "print(x_complex)"
   ]
  },
  {
   "cell_type": "code",
   "execution_count": 114,
   "id": "29014423-177e-40ed-8394-0d1ef5a42482",
   "metadata": {},
   "outputs": [
    {
     "name": "stdout",
     "output_type": "stream",
     "text": [
      "(2.4+0j)\n"
     ]
    }
   ],
   "source": [
    "x = 2.4\n",
    "x_complex = complex(x)\n",
    "print(x_complex)"
   ]
  },
  {
   "cell_type": "code",
   "execution_count": 115,
   "id": "250ecc32-7e43-400d-9221-7e44fe24491c",
   "metadata": {},
   "outputs": [
    {
     "name": "stdout",
     "output_type": "stream",
     "text": [
      "True False\n"
     ]
    }
   ],
   "source": [
    "x = True\n",
    "y = False\n",
    "print(x, y)"
   ]
  },
  {
   "cell_type": "code",
   "execution_count": 116,
   "id": "fe088e48-e77a-4f01-b98e-9741dc3e55a0",
   "metadata": {},
   "outputs": [
    {
     "name": "stdout",
     "output_type": "stream",
     "text": [
      "3\n"
     ]
    }
   ],
   "source": [
    "res = True + True + False + True*True\n",
    "print(res)"
   ]
  },
  {
   "cell_type": "code",
   "execution_count": 118,
   "id": "32667d48-332e-4393-80a0-c073ebea349d",
   "metadata": {},
   "outputs": [
    {
     "name": "stdout",
     "output_type": "stream",
     "text": [
      "None\n"
     ]
    }
   ],
   "source": [
    "x = None\n",
    "print(x)"
   ]
  },
  {
   "cell_type": "code",
   "execution_count": 119,
   "id": "39f19f87-2a94-40f4-923b-03e5f50ddd46",
   "metadata": {},
   "outputs": [
    {
     "name": "stdout",
     "output_type": "stream",
     "text": [
      "<class 'NoneType'>\n"
     ]
    }
   ],
   "source": [
    "print(type(x))"
   ]
  },
  {
   "cell_type": "code",
   "execution_count": 120,
   "id": "39a10821-ac4f-42b9-a1c0-1ed22dde3e55",
   "metadata": {},
   "outputs": [
    {
     "name": "stdout",
     "output_type": "stream",
     "text": [
      "False\n"
     ]
    }
   ],
   "source": [
    "x = 1\n",
    "y = None\n",
    "print(x is None)"
   ]
  },
  {
   "cell_type": "code",
   "execution_count": 121,
   "id": "32d837da-9ee5-49fa-b142-22de767ec538",
   "metadata": {},
   "outputs": [
    {
     "name": "stdout",
     "output_type": "stream",
     "text": [
      "True\n"
     ]
    }
   ],
   "source": [
    "print(y is None)"
   ]
  },
  {
   "cell_type": "code",
   "execution_count": 124,
   "id": "d3473e9a-cbb4-4d37-b0f6-4e3215dc5b2b",
   "metadata": {},
   "outputs": [
    {
     "name": "stdout",
     "output_type": "stream",
     "text": [
      "2013-04-23\n"
     ]
    }
   ],
   "source": [
    "from datetime import date\n",
    "debut = date(year = 2013, month = 4, day = 23)\n",
    "print(debut)"
   ]
  },
  {
   "cell_type": "code",
   "execution_count": 125,
   "id": "310be791-5792-4a6e-9eda-1ba943412637",
   "metadata": {},
   "outputs": [
    {
     "name": "stdout",
     "output_type": "stream",
     "text": [
      "<class 'datetime.date'>\n"
     ]
    }
   ],
   "source": [
    "print(type(debut))"
   ]
  },
  {
   "cell_type": "code",
   "execution_count": 126,
   "id": "916d70c9-3d77-44bd-a91e-c79175e25e4d",
   "metadata": {},
   "outputs": [
    {
     "name": "stdout",
     "output_type": "stream",
     "text": [
      "2013\n",
      "4\n",
      "23\n"
     ]
    }
   ],
   "source": [
    "print(debut.year) # Extract the year\n",
    "print(debut.month) # Extract the month\n",
    "print(debut.day) # Extract the day"
   ]
  },
  {
   "cell_type": "code",
   "execution_count": 127,
   "id": "8042343f-3b26-43a6-84ff-8d575f135075",
   "metadata": {},
   "outputs": [
    {
     "name": "stdout",
     "output_type": "stream",
     "text": [
      "Tue Apr 23 00:00:00 2013\n"
     ]
    }
   ],
   "source": [
    "print(debut.ctime())"
   ]
  },
  {
   "cell_type": "code",
   "execution_count": 128,
   "id": "ce8e237f-cad5-402e-9069-5d7e7003912b",
   "metadata": {},
   "outputs": [
    {
     "name": "stdout",
     "output_type": "stream",
     "text": [
      "2\n"
     ]
    }
   ],
   "source": [
    "print(debut.isoweekday())"
   ]
  },
  {
   "cell_type": "code",
   "execution_count": 131,
   "id": "a0f1c21f-9eca-460f-8a49-5242d438acbd",
   "metadata": {},
   "outputs": [
    {
     "name": "stdout",
     "output_type": "stream",
     "text": [
      "734981\n"
     ]
    }
   ],
   "source": [
    "print(debut.toordinal())"
   ]
  },
  {
   "cell_type": "code",
   "execution_count": 132,
   "id": "55f1117e-abfd-43c2-9520-ef1b3a72bd7a",
   "metadata": {},
   "outputs": [
    {
     "name": "stdout",
     "output_type": "stream",
     "text": [
      "2013-04-23\n"
     ]
    }
   ],
   "source": [
    "print(debut.isoformat())"
   ]
  },
  {
   "cell_type": "code",
   "execution_count": 133,
   "id": "2db34f21-1dd7-4891-a430-7338f20cfd4e",
   "metadata": {},
   "outputs": [
    {
     "name": "stdout",
     "output_type": "stream",
     "text": [
      "datetime.IsoCalendarDate(year=2013, week=17, weekday=2)\n"
     ]
    }
   ],
   "source": [
    "print(debut.isocalendar())"
   ]
  },
  {
   "cell_type": "code",
   "execution_count": 134,
   "id": "982c12f9-ca6d-4a58-a6e3-a08608474aaa",
   "metadata": {},
   "outputs": [
    {
     "name": "stdout",
     "output_type": "stream",
     "text": [
      "2014-04-23 2013-05-23 2013-04-24\n"
     ]
    }
   ],
   "source": [
    "x = debut.replace(year=2014)\n",
    "y = debut.replace(month=5)\n",
    "z = debut.replace(day=24)\n",
    "print(x, y, z)"
   ]
  },
  {
   "cell_type": "code",
   "execution_count": 135,
   "id": "2579381a-da40-410e-b553-f2316a54ea62",
   "metadata": {},
   "outputs": [
    {
     "name": "stdout",
     "output_type": "stream",
     "text": [
      "2013-04-23\n"
     ]
    }
   ],
   "source": [
    "print(debut)"
   ]
  },
  {
   "cell_type": "code",
   "execution_count": 136,
   "id": "cc40296a-444e-43fc-8ad1-021e7833dcc3",
   "metadata": {},
   "outputs": [
    {
     "name": "stdout",
     "output_type": "stream",
     "text": [
      "2013-05-24\n"
     ]
    }
   ],
   "source": [
    "x = debut.replace(day=24, month=5)\n",
    "print(x)"
   ]
  },
  {
   "cell_type": "code",
   "execution_count": 137,
   "id": "5093f441-8619-4f84-8417-74202eed81eb",
   "metadata": {},
   "outputs": [
    {
     "name": "stdout",
     "output_type": "stream",
     "text": [
      "23-04-2013\n"
     ]
    }
   ],
   "source": [
    "print(debut.strftime(\"%d-%m-%Y\"))"
   ]
  },
  {
   "cell_type": "code",
   "execution_count": 138,
   "id": "b4442562-3710-4c2b-8726-5217823713a8",
   "metadata": {},
   "outputs": [
    {
     "name": "stdout",
     "output_type": "stream",
     "text": [
      "23/04/2013\n"
     ]
    }
   ],
   "source": [
    "print(debut.strftime(\"%d/%m/%Y\"))"
   ]
  },
  {
   "cell_type": "code",
   "execution_count": 139,
   "id": "0caebe9a-c572-4b06-9de5-759f296696fe",
   "metadata": {},
   "outputs": [
    {
     "name": "stdout",
     "output_type": "stream",
     "text": [
      "Jour : 23, Mois : 04, Annee : 2013\n"
     ]
    }
   ],
   "source": [
    "print(debut.strftime(\"Jour : %d, Mois : %m, Annee : %Y\"))"
   ]
  },
  {
   "cell_type": "code",
   "execution_count": 142,
   "id": "45dfe725-0a6b-43c9-9ef9-7e987e85fded",
   "metadata": {},
   "outputs": [],
   "source": [
    "from datetime import time\n",
    "moment = time(hour = 23, minute = 4, second = 59)"
   ]
  },
  {
   "cell_type": "code",
   "execution_count": 143,
   "id": "c3b27f66-1f86-44a2-a461-eb066ec9c1e1",
   "metadata": {},
   "outputs": [
    {
     "name": "stdout",
     "output_type": "stream",
     "text": [
      "23:04:59\n",
      "<class 'datetime.time'>\n"
     ]
    }
   ],
   "source": [
    "print(moment)\n",
    "print(type(moment))"
   ]
  },
  {
   "cell_type": "code",
   "execution_count": 144,
   "id": "a989aa7c-b80c-4e7e-aa7a-bd0ea99b556e",
   "metadata": {},
   "outputs": [
    {
     "name": "stdout",
     "output_type": "stream",
     "text": [
      "23:04:59.000230\n"
     ]
    }
   ],
   "source": [
    "moment = time(hour = 23, minute = 4, second = 59, microsecond = 230)\n",
    "print(moment)"
   ]
  },
  {
   "cell_type": "code",
   "execution_count": 145,
   "id": "25093acd-95ca-4fe3-b9cb-6b611c6e389d",
   "metadata": {},
   "outputs": [
    {
     "name": "stdout",
     "output_type": "stream",
     "text": [
      "<class 'datetime.time'>\n"
     ]
    }
   ],
   "source": [
    "print(type(moment))\n"
   ]
  },
  {
   "cell_type": "code",
   "execution_count": 148,
   "id": "35be5f87-3c3f-4c12-8f6e-a187a5a4850e",
   "metadata": {},
   "outputs": [
    {
     "name": "stdout",
     "output_type": "stream",
     "text": [
      "23\n",
      "4\n",
      "59\n",
      "230\n"
     ]
    }
   ],
   "source": [
    "print(moment.hour) # Extract the hour\n",
    "print(moment.minute) # Extract the minute\n",
    "print(moment.second) # Extract the second\n",
    "print(moment.microsecond) # Extract the microsecond\n"
   ]
  },
  {
   "cell_type": "code",
   "execution_count": 149,
   "id": "3d36d589-876e-458f-a27f-fbf250d15476",
   "metadata": {},
   "outputs": [
    {
     "name": "stdout",
     "output_type": "stream",
     "text": [
      "2013-04-23 23:04:59\n"
     ]
    }
   ],
   "source": [
    "from datetime import datetime\n",
    "x = datetime(year = 2013, month = 4, day = 23,\n",
    "hour = 23, minute = 4, second = 59)\n",
    "print(x)"
   ]
  },
  {
   "cell_type": "code",
   "execution_count": 150,
   "id": "38ccbd95-2787-4c6d-bf21-6775edc4f075",
   "metadata": {},
   "outputs": [
    {
     "name": "stdout",
     "output_type": "stream",
     "text": [
      "<class 'datetime.datetime'>\n"
     ]
    }
   ],
   "source": [
    "print(type(x))"
   ]
  },
  {
   "cell_type": "code",
   "execution_count": 151,
   "id": "1737e6ce-b043-4218-b5a9-878c45f24e72",
   "metadata": {},
   "outputs": [
    {
     "name": "stdout",
     "output_type": "stream",
     "text": [
      "2025-08-13 14:08:43.712294\n"
     ]
    }
   ],
   "source": [
    "print(x.today())"
   ]
  },
  {
   "cell_type": "code",
   "execution_count": 152,
   "id": "7313d2f3-dc60-42d6-8179-9896cdbfaaa2",
   "metadata": {},
   "outputs": [
    {
     "name": "stdout",
     "output_type": "stream",
     "text": [
      "2025-08-13 14:08:51.673246\n"
     ]
    }
   ],
   "source": [
    "print(datetime.today())"
   ]
  },
  {
   "cell_type": "code",
   "execution_count": 153,
   "id": "ab6f1083-4e57-4e76-9c25-56eec39791de",
   "metadata": {},
   "outputs": [
    {
     "name": "stdout",
     "output_type": "stream",
     "text": [
      "1366733099.0\n"
     ]
    }
   ],
   "source": [
    "print(x.timestamp())"
   ]
  },
  {
   "cell_type": "code",
   "execution_count": 154,
   "id": "9ffdb2dc-aae9-435d-bfee-8924de4c9e0b",
   "metadata": {},
   "outputs": [
    {
     "name": "stdout",
     "output_type": "stream",
     "text": [
      "2013-04-23\n"
     ]
    }
   ],
   "source": [
    "x_date = x.date()\n",
    "print(x_date)"
   ]
  },
  {
   "cell_type": "code",
   "execution_count": 155,
   "id": "42a6daa3-06ec-40b3-ba34-39113226013f",
   "metadata": {},
   "outputs": [
    {
     "name": "stdout",
     "output_type": "stream",
     "text": [
      "<class 'datetime.date'>\n"
     ]
    }
   ],
   "source": [
    "print(type(x_date))"
   ]
  },
  {
   "cell_type": "code",
   "execution_count": 156,
   "id": "3d16fa50-7038-4272-97f6-87282db85ff3",
   "metadata": {},
   "outputs": [
    {
     "name": "stdout",
     "output_type": "stream",
     "text": [
      "23:04:59\n"
     ]
    }
   ],
   "source": [
    "x_time = x.time()\n",
    "print(x_time)"
   ]
  },
  {
   "cell_type": "code",
   "execution_count": 157,
   "id": "9fe9cb45-e2b1-44be-bffc-e5fe6f2a45c3",
   "metadata": {},
   "outputs": [
    {
     "name": "stdout",
     "output_type": "stream",
     "text": [
      "<class 'datetime.time'>\n"
     ]
    }
   ],
   "source": [
    "print(type(x_time))"
   ]
  },
  {
   "cell_type": "code",
   "execution_count": 158,
   "id": "32d6a8f8-36fb-40d7-827f-a634989adc1b",
   "metadata": {},
   "outputs": [
    {
     "data": {
      "text/plain": [
       "datetime.timedelta(days=1, seconds=30)"
      ]
     },
     "execution_count": 158,
     "metadata": {},
     "output_type": "execute_result"
    }
   ],
   "source": [
    "from datetime import timedelta\n",
    "duree = timedelta(days = 1, seconds = 30)\n",
    "duree"
   ]
  },
  {
   "cell_type": "code",
   "execution_count": 159,
   "id": "85660cd4-7062-4d77-ad1b-630b02bc2649",
   "metadata": {},
   "outputs": [
    {
     "ename": "AttributeError",
     "evalue": "type object 'datetime.datetime' has no attribute 'timedelta'",
     "output_type": "error",
     "traceback": [
      "\u001b[1;31m---------------------------------------------------------------------------\u001b[0m",
      "\u001b[1;31mAttributeError\u001b[0m                            Traceback (most recent call last)",
      "Cell \u001b[1;32mIn[159], line 1\u001b[0m\n\u001b[1;32m----> 1\u001b[0m datetime\u001b[38;5;241m.\u001b[39mtimedelta(\u001b[38;5;241m1\u001b[39m, \u001b[38;5;241m30\u001b[39m)\n",
      "\u001b[1;31mAttributeError\u001b[0m: type object 'datetime.datetime' has no attribute 'timedelta'"
     ]
    }
   ],
   "source": [
    "datetime.timedelta(1, 30)"
   ]
  },
  {
   "cell_type": "code",
   "execution_count": 160,
   "id": "3d2d4e8e-6b8c-4ab0-a2c6-1eb9d07fb43c",
   "metadata": {},
   "outputs": [
    {
     "data": {
      "text/plain": [
       "1"
      ]
     },
     "execution_count": 160,
     "metadata": {},
     "output_type": "execute_result"
    }
   ],
   "source": [
    "duree.days"
   ]
  },
  {
   "cell_type": "code",
   "execution_count": 161,
   "id": "8225fa4c-fe85-4613-b694-75625a13d536",
   "metadata": {},
   "outputs": [
    {
     "data": {
      "text/plain": [
       "158430.0"
      ]
     },
     "execution_count": 161,
     "metadata": {},
     "output_type": "execute_result"
    }
   ],
   "source": [
    "duree = timedelta(days = 1, seconds = 30, hours = 20)\n",
    "duree.total_seconds()\n",
    "158430.0"
   ]
  },
  {
   "cell_type": "code",
   "execution_count": 162,
   "id": "80dd09cc-183b-4536-b135-8de949dba3c3",
   "metadata": {},
   "outputs": [
    {
     "name": "stdout",
     "output_type": "stream",
     "text": [
      "<class 'datetime.timedelta'>\n"
     ]
    }
   ],
   "source": [
    "from datetime import timedelta\n",
    "beginning = date(2018, 1, 1)\n",
    "end = date(2018, 1, 2)\n",
    "nb_days = end-beginning\n",
    "print(type(nb_days))"
   ]
  },
  {
   "cell_type": "code",
   "execution_count": 163,
   "id": "670a2af6-5b78-49e3-a321-3b9a2afd0196",
   "metadata": {},
   "outputs": [
    {
     "name": "stdout",
     "output_type": "stream",
     "text": [
      "1 day, 0:00:00\n"
     ]
    }
   ],
   "source": [
    "print(nb_days)"
   ]
  },
  {
   "cell_type": "code",
   "execution_count": 164,
   "id": "cd5ac1b0-243c-4d1a-bbcc-86eb885666db",
   "metadata": {},
   "outputs": [
    {
     "name": "stdout",
     "output_type": "stream",
     "text": [
      "<class 'datetime.timedelta'>\n"
     ]
    }
   ],
   "source": [
    "beginning = datetime(2018, 1, 1, 12, 26, 30, 230)\n",
    "end = datetime(2018, 1, 2, 11, 14, 31)\n",
    "duration = end-beginning\n",
    "print(type(duration))"
   ]
  },
  {
   "cell_type": "code",
   "execution_count": 165,
   "id": "22b0d82f-c087-4a0e-b9ad-f998a6ebf860",
   "metadata": {},
   "outputs": [
    {
     "name": "stdout",
     "output_type": "stream",
     "text": [
      "22:48:00.999770\n"
     ]
    }
   ],
   "source": [
    "print(duration)"
   ]
  },
  {
   "cell_type": "code",
   "execution_count": 166,
   "id": "bfff0750-3486-4862-8ccd-2f3dd7574a58",
   "metadata": {},
   "outputs": [
    {
     "ename": "AttributeError",
     "evalue": "type object 'datetime.datetime' has no attribute 'timedelta'",
     "output_type": "error",
     "traceback": [
      "\u001b[1;31m---------------------------------------------------------------------------\u001b[0m",
      "\u001b[1;31mAttributeError\u001b[0m                            Traceback (most recent call last)",
      "Cell \u001b[1;32mIn[166], line 5\u001b[0m\n\u001b[0;32m      3\u001b[0m duration \u001b[38;5;241m=\u001b[39m end \u001b[38;5;241m-\u001b[39m beginning\n\u001b[0;32m      4\u001b[0m duration\n\u001b[1;32m----> 5\u001b[0m datetime\u001b[38;5;241m.\u001b[39mtimedelta(\u001b[38;5;241m1\u001b[39m)\n",
      "\u001b[1;31mAttributeError\u001b[0m: type object 'datetime.datetime' has no attribute 'timedelta'"
     ]
    }
   ],
   "source": [
    "beginning = date(2021, 2,28)\n",
    "end = date(2021, 3, 1)\n",
    "duration = end - beginning\n",
    "duration\n",
    "datetime.timedelta(1)"
   ]
  },
  {
   "cell_type": "code",
   "execution_count": 167,
   "id": "5d899d70-0819-4c2f-a495-78f52b59df64",
   "metadata": {},
   "outputs": [
    {
     "ename": "AttributeError",
     "evalue": "type object 'datetime.datetime' has no attribute 'timedelta'",
     "output_type": "error",
     "traceback": [
      "\u001b[1;31m---------------------------------------------------------------------------\u001b[0m",
      "\u001b[1;31mAttributeError\u001b[0m                            Traceback (most recent call last)",
      "Cell \u001b[1;32mIn[167], line 5\u001b[0m\n\u001b[0;32m      3\u001b[0m beginning_leap \u001b[38;5;241m=\u001b[39m end_leap \u001b[38;5;241m-\u001b[39m beginning_leap\n\u001b[0;32m      4\u001b[0m beginning_leap\n\u001b[1;32m----> 5\u001b[0m datetime\u001b[38;5;241m.\u001b[39mtimedelta(\u001b[38;5;241m2\u001b[39m)\n",
      "\u001b[1;31mAttributeError\u001b[0m: type object 'datetime.datetime' has no attribute 'timedelta'"
     ]
    }
   ],
   "source": [
    "beginning_leap = date(2020, 2,28)\n",
    "end_leap = date(2020, 3, 1)\n",
    "beginning_leap = end_leap - beginning_leap\n",
    "beginning_leap\n",
    "datetime.timedelta(2)"
   ]
  },
  {
   "cell_type": "code",
   "execution_count": 168,
   "id": "dba52b2c-370b-43ab-affa-6eaabf598a32",
   "metadata": {},
   "outputs": [
    {
     "name": "stdout",
     "output_type": "stream",
     "text": [
      "2019-01-01 00:00:00\n"
     ]
    }
   ],
   "source": [
    "debut = datetime(2018, 12, 31, 23, 59, 59)\n",
    "print(debut + timedelta(seconds = 1))"
   ]
  },
  {
   "cell_type": "code",
   "execution_count": null,
   "id": "3542993e-fcce-4d8c-b64b-fd4009055573",
   "metadata": {},
   "outputs": [],
   "source": []
  }
 ],
 "metadata": {
  "kernelspec": {
   "display_name": "Python 3 (ipykernel)",
   "language": "python",
   "name": "python3"
  },
  "language_info": {
   "codemirror_mode": {
    "name": "ipython",
    "version": 3
   },
   "file_extension": ".py",
   "mimetype": "text/x-python",
   "name": "python",
   "nbconvert_exporter": "python",
   "pygments_lexer": "ipython3",
   "version": "3.13.5"
  }
 },
 "nbformat": 4,
 "nbformat_minor": 5
}
