{
 "cells": [
  {
   "cell_type": "code",
   "execution_count": 1,
   "id": "940ce8f1-d9db-4de1-a763-e57101dd3c73",
   "metadata": {},
   "outputs": [
    {
     "name": "stdout",
     "output_type": "stream",
     "text": [
      "['Pascaline', 'Gauthier', 'Xuan', 'Jimmy']\n"
     ]
    }
   ],
   "source": [
    "x = [\"Pascaline\", \"Gauthier\", \"Xuan\", \"Jimmy\"]\n",
    "print(x)"
   ]
  },
  {
   "cell_type": "code",
   "execution_count": 2,
   "id": "65c62e35-4ca3-4009-a7b6-1e84f77fabf3",
   "metadata": {},
   "outputs": [
    {
     "name": "stdout",
     "output_type": "stream",
     "text": [
      "[1, 2, 3, 4, 5]\n"
     ]
    }
   ],
   "source": [
    "y = [1, 2, 3, 4, 5]\n",
    "print(y)"
   ]
  },
  {
   "cell_type": "code",
   "execution_count": 3,
   "id": "74685334-480e-4258-ad34-1f0f953a1f6e",
   "metadata": {},
   "outputs": [
    {
     "name": "stdout",
     "output_type": "stream",
     "text": [
      "['Piketty', 'Thomas', 1971]\n"
     ]
    }
   ],
   "source": [
    "z = [\"Piketty\", \"Thomas\", 1971]\n",
    "print(z)"
   ]
  },
  {
   "cell_type": "code",
   "execution_count": 7,
   "id": "006d7f58-7f46-4e77-8145-dc1e1eec9c0c",
   "metadata": {},
   "outputs": [
    {
     "name": "stdout",
     "output_type": "stream",
     "text": [
      "[['aaa', 'bbb'], ['Anne', 'Bob', 'Irma', 'John']]\n"
     ]
    }
   ],
   "source": [
    "tweets = [\"aaa\", \"bbb\"]\n",
    "followers = [\"Anne\", \"Bob\", \"Irma\", \"John\"]\n",
    "compte = [tweets, followers]\n",
    "print(compte)"
   ]
  },
  {
   "cell_type": "code",
   "execution_count": 5,
   "id": "18a67112-9059-4934-bad6-062a77a2ea5a",
   "metadata": {},
   "outputs": [
    {
     "name": "stdout",
     "output_type": "stream",
     "text": [
      "Pascaline\n",
      "Gauthier\n"
     ]
    }
   ],
   "source": [
    "print(x[0]) # The first element of x\n",
    "\n",
    "print(x[1]) # The second element of x\n"
   ]
  },
  {
   "cell_type": "code",
   "execution_count": 8,
   "id": "bde4e2e1-134d-4762-b603-2ab44ce6824e",
   "metadata": {},
   "outputs": [
    {
     "name": "stdout",
     "output_type": "stream",
     "text": [
      "Jimmy\n"
     ]
    }
   ],
   "source": [
    "print(x[-1]) # The last element of x"
   ]
  },
  {
   "cell_type": "code",
   "execution_count": 9,
   "id": "a3d3096b-89d5-4cfa-84b8-3e8f45b95abc",
   "metadata": {},
   "outputs": [
    {
     "name": "stdout",
     "output_type": "stream",
     "text": [
      "Xuan\n",
      "['Gauthier']\n",
      "['Xuan', 'Jimmy']\n",
      "['Pascaline', 'Gauthier']\n"
     ]
    }
   ],
   "source": [
    "print(x[-2]) # The penultimate element of x\n",
    "\n",
    "print(x[1:2]) # The first and second elements of x\n",
    "\n",
    "print(x[2:]) # From the second element (not included) to the end of x\n",
    "\n",
    "print(x[:-2]) # From the first to the penultimate (not included)"
   ]
  },
  {
   "cell_type": "code",
   "execution_count": 10,
   "id": "42dac7c1-3618-4236-8342-7e962d9fbb9b",
   "metadata": {},
   "outputs": [
    {
     "name": "stdout",
     "output_type": "stream",
     "text": [
      "['Pascaline', 'Xuan']\n"
     ]
    }
   ],
   "source": [
    "print(x[::2]) # Every other element"
   ]
  },
  {
   "cell_type": "code",
   "execution_count": 11,
   "id": "c632e0ad-7eda-4ce8-ac7a-4d58a950f5ea",
   "metadata": {},
   "outputs": [],
   "source": [
    "tweets = [\"aaa\", \"bbb\"]\n",
    "followers = [\"Anne\", \"Bob\", \"Irma\", \"John\"]\n",
    "conuts = [tweets, followers]\n",
    "res = conuts[1][3] # The 4th item of the 2nd item on the list counts"
   ]
  },
  {
   "cell_type": "code",
   "execution_count": 12,
   "id": "f92c395c-296e-487f-9e5b-3e37cbeba427",
   "metadata": {},
   "outputs": [
    {
     "name": "stdout",
     "output_type": "stream",
     "text": [
      "2\n"
     ]
    }
   ],
   "source": [
    "print(len(conuts))"
   ]
  },
  {
   "cell_type": "code",
   "execution_count": 13,
   "id": "182cb6a9-eec1-4922-9648-f5e5f3594a8f",
   "metadata": {},
   "outputs": [
    {
     "name": "stdout",
     "output_type": "stream",
     "text": [
      "4\n"
     ]
    }
   ],
   "source": [
    "print(len(conuts[1]))"
   ]
  },
  {
   "cell_type": "code",
   "execution_count": 14,
   "id": "e1896468-1acf-48c6-899d-84855151b562",
   "metadata": {},
   "outputs": [
    {
     "name": "stdout",
     "output_type": "stream",
     "text": [
      "[1, 3, 5, 7, 9]\n"
     ]
    }
   ],
   "source": [
    "x = [1, 3, 5, 6, 9]\n",
    "x[3] = 7 # Replacing the 4th element\n",
    "print(x)"
   ]
  },
  {
   "cell_type": "code",
   "execution_count": 15,
   "id": "9da0be5e-9516-4f28-8f69-2e4400f34860",
   "metadata": {},
   "outputs": [
    {
     "name": "stdout",
     "output_type": "stream",
     "text": [
      "[1, 3, 5, 7, 9, 11]\n"
     ]
    }
   ],
   "source": [
    "x.append(11) # Add value 11 at the end of the list\n",
    "print(x)"
   ]
  },
  {
   "cell_type": "code",
   "execution_count": 16,
   "id": "e09dd7d4-78ad-47f0-91e4-328b4b0b9f81",
   "metadata": {},
   "outputs": [
    {
     "name": "stdout",
     "output_type": "stream",
     "text": [
      "[1, 3, 5, 7, 9, 11, 13, 15]\n"
     ]
    }
   ],
   "source": [
    "y = [13, 15]\n",
    "x.extend(y)\n",
    "print(x)"
   ]
  },
  {
   "cell_type": "code",
   "execution_count": 17,
   "id": "c2866f60-38c3-425a-997d-d68c678eb4ee",
   "metadata": {},
   "outputs": [
    {
     "name": "stdout",
     "output_type": "stream",
     "text": [
      "[1, 5, 7, 9, 11, 13, 15]\n"
     ]
    }
   ],
   "source": [
    "x.remove(3) # Remove the fourth element\n",
    "print(x)"
   ]
  },
  {
   "cell_type": "code",
   "execution_count": 18,
   "id": "3bdd2078-5468-44b6-a211-99707aa588e2",
   "metadata": {},
   "outputs": [
    {
     "name": "stdout",
     "output_type": "stream",
     "text": [
      "[1, 3, 5, 9]\n"
     ]
    }
   ],
   "source": [
    "x = [1, 3, 5, 6, 9]\n",
    "del x[3] # Remove the fourth element\n",
    "print(x)"
   ]
  },
  {
   "cell_type": "code",
   "execution_count": 19,
   "id": "bae9fd3c-de70-482a-9752-a3016d10e9c2",
   "metadata": {},
   "outputs": [
    {
     "name": "stdout",
     "output_type": "stream",
     "text": [
      "[1, 3, 5, 7, 9]\n"
     ]
    }
   ],
   "source": [
    "x = [1, 3, 5, 6, 10]\n",
    "x[3:5] = [7, 9] # Replaces 4th and 5th values\n",
    "print(x)"
   ]
  },
  {
   "cell_type": "code",
   "execution_count": 20,
   "id": "3daf606b-6b17-429b-97d7-0ad05faad95b",
   "metadata": {},
   "outputs": [
    {
     "name": "stdout",
     "output_type": "stream",
     "text": [
      "[1, 2, 'a', 'b', 'c', 'd', 4, 5]\n"
     ]
    }
   ],
   "source": [
    "x = [1, 2, 3, 4, 5]\n",
    "x[2:3] = ['a', 'b', 'c', 'd'] # Replaces the 3rd value\n",
    "print(x)\n"
   ]
  },
  {
   "cell_type": "code",
   "execution_count": 21,
   "id": "46a972e6-e3cd-4499-bdf9-e60aa13d2c63",
   "metadata": {},
   "outputs": [
    {
     "name": "stdout",
     "output_type": "stream",
     "text": [
      "[1, 2, 3]\n"
     ]
    }
   ],
   "source": [
    "x = [1, 2, 3, 4, 5]\n",
    "x[3:5] = [] # Removes the 4th and 5th values\n",
    "print(x)"
   ]
  },
  {
   "cell_type": "code",
   "execution_count": 22,
   "id": "a1f82d76-1f49-4b64-a562-54c73bf54a2d",
   "metadata": {},
   "outputs": [
    {
     "name": "stdout",
     "output_type": "stream",
     "text": [
      "True\n"
     ]
    }
   ],
   "source": [
    "x = [1, 2, 3, 4, 5]\n",
    "print(1 in x)"
   ]
  },
  {
   "cell_type": "code",
   "execution_count": 23,
   "id": "e4f0467b-f030-4eeb-98d1-acab5dafc11e",
   "metadata": {},
   "outputs": [],
   "source": [
    "x = [1, 2, 3]\n",
    "y = x"
   ]
  },
  {
   "cell_type": "code",
   "execution_count": 24,
   "id": "db595773-efdf-42bb-94c7-ed01874bf6ee",
   "metadata": {},
   "outputs": [
    {
     "name": "stdout",
     "output_type": "stream",
     "text": [
      "[0, 2, 3]\n",
      "[0, 2, 3]\n"
     ]
    }
   ],
   "source": [
    "y[0] = 0\n",
    "print(y)\n",
    "\n",
    "print(x)"
   ]
  },
  {
   "cell_type": "code",
   "execution_count": 25,
   "id": "e7d3fed0-0d96-4dbc-8818-4df99142908f",
   "metadata": {},
   "outputs": [
    {
     "name": "stdout",
     "output_type": "stream",
     "text": [
      "x :  [1, 2, 3]\n"
     ]
    }
   ],
   "source": [
    "x = [1, 2, 3]\n",
    "y = list(x)\n",
    "y[0] = 0\n",
    "print(\"x : \", x)"
   ]
  },
  {
   "cell_type": "code",
   "execution_count": 26,
   "id": "996eae2e-f8f3-4c63-ac35-873f09bd60cd",
   "metadata": {},
   "outputs": [
    {
     "name": "stdout",
     "output_type": "stream",
     "text": [
      "y :  [0, 2, 3]\n"
     ]
    }
   ],
   "source": [
    "print(\"y : \", y)"
   ]
  },
  {
   "cell_type": "code",
   "execution_count": 27,
   "id": "0e3909e3-a0a4-490d-96b8-7b66dafb173b",
   "metadata": {},
   "outputs": [
    {
     "name": "stdout",
     "output_type": "stream",
     "text": [
      "x :  [1, 2, 3, 4]\n"
     ]
    }
   ],
   "source": [
    "x = [1, 2, 3, 4]\n",
    "y = x[:2]\n",
    "y[0] = 0\n",
    "print(\"x : \", x)"
   ]
  },
  {
   "cell_type": "code",
   "execution_count": 28,
   "id": "8a28243c-45b0-4b9c-92cf-3eb12580b061",
   "metadata": {},
   "outputs": [
    {
     "name": "stdout",
     "output_type": "stream",
     "text": [
      "y :  [0, 2]\n"
     ]
    }
   ],
   "source": [
    "print(\"y : \", y)"
   ]
  },
  {
   "cell_type": "code",
   "execution_count": 29,
   "id": "9647b6c2-d8a4-411c-b34e-848bf8e66558",
   "metadata": {},
   "outputs": [
    {
     "name": "stdout",
     "output_type": "stream",
     "text": [
      "[1, 2, 3, 4]\n"
     ]
    }
   ],
   "source": [
    "x = [2, 1, 4, 3]\n",
    "x.sort()\n",
    "print(x)"
   ]
  },
  {
   "cell_type": "code",
   "execution_count": 30,
   "id": "18b70c12-8d44-4b5c-a2a6-55615958bc51",
   "metadata": {},
   "outputs": [
    {
     "name": "stdout",
     "output_type": "stream",
     "text": [
      "['a', 'a', 'b', 'c']\n"
     ]
    }
   ],
   "source": [
    "x = [\"c\", \"b\", \"a\", \"a\"]\n",
    "x.sort()\n",
    "print(x)"
   ]
  },
  {
   "cell_type": "code",
   "execution_count": 31,
   "id": "e0e6ffe9-b005-4a13-a67a-6eb124f94d1e",
   "metadata": {},
   "outputs": [
    {
     "name": "stdout",
     "output_type": "stream",
     "text": [
      "['a', 'aa', 'aa', 'aaaaa']\n"
     ]
    }
   ],
   "source": [
    "x = [\"aa\", \"a\", \"aaaaa\", \"aa\"]\n",
    "x.sort(key=len)\n",
    "print(x)"
   ]
  },
  {
   "cell_type": "code",
   "execution_count": 32,
   "id": "60054855-7b33-4a62-8efb-b1b0b4cf2c4b",
   "metadata": {},
   "outputs": [
    {
     "name": "stdout",
     "output_type": "stream",
     "text": [
      "(1, 4, 9, 16, 25)\n"
     ]
    }
   ],
   "source": [
    "x = 1, 4, 9, 16, 25\n",
    "print(x)"
   ]
  },
  {
   "cell_type": "code",
   "execution_count": 34,
   "id": "6955ac42-0bfe-4a3b-b636-87db34221cce",
   "metadata": {},
   "outputs": [
    {
     "name": "stdout",
     "output_type": "stream",
     "text": [
      "1\n"
     ]
    }
   ],
   "source": [
    "print(x[0])"
   ]
  },
  {
   "cell_type": "code",
   "execution_count": 35,
   "id": "5fc2f5b8-309d-4515-ba2c-e2961c785806",
   "metadata": {},
   "outputs": [
    {
     "ename": "TypeError",
     "evalue": "'tuple' object does not support item assignment",
     "output_type": "error",
     "traceback": [
      "\u001b[1;31m---------------------------------------------------------------------------\u001b[0m",
      "\u001b[1;31mTypeError\u001b[0m                                 Traceback (most recent call last)",
      "Cell \u001b[1;32mIn[35], line 1\u001b[0m\n\u001b[1;32m----> 1\u001b[0m x[\u001b[38;5;241m0\u001b[39m] \u001b[38;5;241m=\u001b[39m \u001b[38;5;241m1\u001b[39m\n",
      "\u001b[1;31mTypeError\u001b[0m: 'tuple' object does not support item assignment"
     ]
    }
   ],
   "source": [
    "x[0] = 1"
   ]
  },
  {
   "cell_type": "code",
   "execution_count": 36,
   "id": "253b8d9f-21f1-4800-ad73-cd683d0a9f5b",
   "metadata": {},
   "outputs": [
    {
     "name": "stdout",
     "output_type": "stream",
     "text": [
      "((1, 4, 9, 16), (1, 8, 26, 64))\n"
     ]
    }
   ],
   "source": [
    "x = ((1, 4, 9, 16), (1, 8, 26, 64))\n",
    "print(x)"
   ]
  },
  {
   "cell_type": "code",
   "execution_count": 37,
   "id": "1aa10ad6-588d-4261-b60d-a072fad7f466",
   "metadata": {},
   "outputs": [
    {
     "name": "stdout",
     "output_type": "stream",
     "text": [
      "{'Marseille', 'Rennes', 'Nice', 'Aix-en-Provence'}\n"
     ]
    }
   ],
   "source": [
    "new_set = set({\"Marseille\", \"Aix-en-Provence\",\n",
    "\"Nice\", \"Rennes\"})\n",
    "print(new_set)"
   ]
  },
  {
   "cell_type": "code",
   "execution_count": 38,
   "id": "e492d09e-6cb3-4adb-8f61-0eddcda2e857",
   "metadata": {},
   "outputs": [
    {
     "name": "stdout",
     "output_type": "stream",
     "text": [
      "{'Marseille', 'Rennes', 'Nice', 'Aix-en-Provence'}\n"
     ]
    }
   ],
   "source": [
    "new_set = {\"Marseille\", \"Aix-en-Provence\", \"Nice\", \"Rennes\"}\n",
    "print(new_set)"
   ]
  },
  {
   "cell_type": "code",
   "execution_count": 39,
   "id": "171242ef-aca5-4b99-aee1-48db1a5db405",
   "metadata": {},
   "outputs": [
    {
     "data": {
      "text/plain": [
       "dict"
      ]
     },
     "execution_count": 39,
     "metadata": {},
     "output_type": "execute_result"
    }
   ],
   "source": [
    "empty_set = {}\n",
    "type(empty_set)"
   ]
  },
  {
   "cell_type": "code",
   "execution_count": 40,
   "id": "80fca554-48c4-4b71-a45c-bcf2af4fbc5b",
   "metadata": {},
   "outputs": [
    {
     "name": "stdout",
     "output_type": "stream",
     "text": [
      "<class 'set'>\n"
     ]
    }
   ],
   "source": [
    "empty_set = set()\n",
    "print(type(empty_set))"
   ]
  },
  {
   "cell_type": "code",
   "execution_count": 41,
   "id": "0bb7bc5e-2cc0-4073-a2bb-8598495ea476",
   "metadata": {},
   "outputs": [
    {
     "name": "stdout",
     "output_type": "stream",
     "text": [
      "{'Marseille', 'Rennes', 'Nice', 'Aix-en-Provence'}\n"
     ]
    }
   ],
   "source": [
    "new_set = set({\"Marseille\", \"Aix-en-Provence\", \"Nice\", \"Marseille\", \"Rennes\"})\n",
    "print(new_set)"
   ]
  },
  {
   "cell_type": "code",
   "execution_count": 42,
   "id": "8788ea27-577c-4b45-8102-a804966afbc3",
   "metadata": {},
   "outputs": [
    {
     "name": "stdout",
     "output_type": "stream",
     "text": [
      "4\n"
     ]
    }
   ],
   "source": [
    "print(len(new_set))"
   ]
  },
  {
   "cell_type": "code",
   "execution_count": 43,
   "id": "94385766-21e5-4ad0-a3da-e36f99f2c998",
   "metadata": {},
   "outputs": [
    {
     "name": "stdout",
     "output_type": "stream",
     "text": [
      "{'Rennes', 'Nice', 'Marseille', 'Aix-en-Provence', 'Toulon'}\n"
     ]
    }
   ],
   "source": [
    "new_set.add(\"Toulon\")\n",
    "print(new_set)\n"
   ]
  },
  {
   "cell_type": "code",
   "execution_count": 45,
   "id": "1cefb269-2a8b-4607-a328-b9b8074ffc79",
   "metadata": {},
   "outputs": [
    {
     "name": "stdout",
     "output_type": "stream",
     "text": [
      "{'Rennes', 'Nice', 'Marseille', 'Aix-en-Provence'}\n"
     ]
    }
   ],
   "source": [
    "new_set.remove(\"Toulon\")\n",
    "print(new_set)"
   ]
  },
  {
   "cell_type": "code",
   "execution_count": 46,
   "id": "20fadef5-a732-4ed2-b467-9a6722c9e509",
   "metadata": {},
   "outputs": [
    {
     "name": "stdout",
     "output_type": "stream",
     "text": [
      "True\n"
     ]
    }
   ],
   "source": [
    "print(\"Marseille\" in new_set)"
   ]
  },
  {
   "cell_type": "code",
   "execution_count": 47,
   "id": "89d77312-6a99-47f7-9ab5-82c9da1e82c8",
   "metadata": {},
   "outputs": [
    {
     "name": "stdout",
     "output_type": "stream",
     "text": [
      "False\n"
     ]
    }
   ],
   "source": [
    "print(\"Paris\" in new_set)"
   ]
  },
  {
   "cell_type": "code",
   "execution_count": 48,
   "id": "fb32155e-4694-4b89-9706-be98b6451852",
   "metadata": {},
   "outputs": [
    {
     "name": "stdout",
     "output_type": "stream",
     "text": [
      "y :  {'Marseille', 'Aix-en-Provence', 'Nice', 'Toulon'}\n"
     ]
    }
   ],
   "source": [
    "new_set = set({\"Marseille\", \"Aix-en-Provence\", \"Nice\"})\n",
    "y = new_set.copy()\n",
    "y.add(\"Toulon\")\n",
    "print(\"y : \", y)"
   ]
  },
  {
   "cell_type": "code",
   "execution_count": 49,
   "id": "59bfb201-0b90-436c-a70a-82cba08f6997",
   "metadata": {},
   "outputs": [
    {
     "name": "stdout",
     "output_type": "stream",
     "text": [
      "set :  {'Marseille', 'Aix-en-Provence', 'Nice'}\n"
     ]
    }
   ],
   "source": [
    "    print(\"set : \", new_set)"
   ]
  },
  {
   "cell_type": "code",
   "execution_count": 50,
   "id": "51bf7a40-b91d-4b3c-b810-f28f5a830489",
   "metadata": {},
   "outputs": [
    {
     "name": "stdout",
     "output_type": "stream",
     "text": [
      "['Marseille', 'Aix-en-Provence', 'Marseille', 'Marseille']\n"
     ]
    }
   ],
   "source": [
    "my_list = [\"Marseille\", \"Aix-en-Provence\", \"Marseille\", \"Marseille\"]\n",
    "print(my_list)\n"
   ]
  },
  {
   "cell_type": "code",
   "execution_count": 51,
   "id": "4421c30e-72b6-4891-8807-beaa39449dcd",
   "metadata": {},
   "outputs": [
    {
     "name": "stdout",
     "output_type": "stream",
     "text": [
      "{'Marseille', 'Aix-en-Provence'}\n"
     ]
    }
   ],
   "source": [
    "my_set = set(my_list)\n",
    "print(my_set)"
   ]
  },
  {
   "cell_type": "code",
   "execution_count": 52,
   "id": "aa85dfae-2b11-4aff-a568-e8c898b699da",
   "metadata": {},
   "outputs": [
    {
     "name": "stdout",
     "output_type": "stream",
     "text": [
      "['Marseille', 'Aix-en-Provence']\n"
     ]
    }
   ],
   "source": [
    "my_new_list = list(my_set)\n",
    "print(my_new_list)"
   ]
  },
  {
   "cell_type": "code",
   "execution_count": 53,
   "id": "8c18c7e2-d077-4043-bc7d-0d36ff71e0fa",
   "metadata": {},
   "outputs": [
    {
     "name": "stdout",
     "output_type": "stream",
     "text": [
      "<class 'dict'>\n"
     ]
    }
   ],
   "source": [
    "empty_dict = {}\n",
    "print(type(empty_dict))"
   ]
  },
  {
   "cell_type": "code",
   "execution_count": 54,
   "id": "28b7619e-0142-48b1-b893-cbf32b62cc51",
   "metadata": {},
   "outputs": [
    {
     "name": "stdout",
     "output_type": "stream",
     "text": [
      "{'nom': 'Kyrie', 'prenom': 'John', 'naissance': 1992, 'equipes': ['Cleveland', 'Boston']}\n"
     ]
    }
   ],
   "source": [
    "my_dict = { \"nom\": \"Kyrie\",\n",
    "\"prenom\": \"John\",\n",
    "\"naissance\": 1992,\n",
    "\"equipes\": [\"Cleveland\", \"Boston\"]}\n",
    "print(my_dict)"
   ]
  },
  {
   "cell_type": "code",
   "execution_count": 55,
   "id": "5eff6c87-a72c-4a69-be1b-cd90d1bde0ef",
   "metadata": {},
   "outputs": [
    {
     "name": "stdout",
     "output_type": "stream",
     "text": [
      "{'Julien-Yacine': 'Data-scientist', 'Sonia': 'Director'}\n"
     ]
    }
   ],
   "source": [
    "x = dict([(\"Julien-Yacine\", \"Data-scientist\"),\n",
    "(\"Sonia\", \"Director\")])\n",
    "print(x)"
   ]
  },
  {
   "cell_type": "code",
   "execution_count": 56,
   "id": "e184e08b-d408-4757-b8ae-7b0c6b549a6a",
   "metadata": {},
   "outputs": [
    {
     "name": "stdout",
     "output_type": "stream",
     "text": [
      "John\n"
     ]
    }
   ],
   "source": [
    "print(my_dict[\"prenom\"])"
   ]
  },
  {
   "cell_type": "code",
   "execution_count": 57,
   "id": "ccb8d5c7-8052-42b2-8805-874896b81025",
   "metadata": {},
   "outputs": [
    {
     "name": "stdout",
     "output_type": "stream",
     "text": [
      "['Cleveland', 'Boston']\n"
     ]
    }
   ],
   "source": [
    "print(my_dict[\"equipes\"])"
   ]
  },
  {
   "cell_type": "code",
   "execution_count": 58,
   "id": "57e6f3ca-ed8c-4415-ac29-5ddd6126ddac",
   "metadata": {},
   "outputs": [
    {
     "ename": "KeyError",
     "evalue": "'age'",
     "output_type": "error",
     "traceback": [
      "\u001b[1;31m---------------------------------------------------------------------------\u001b[0m",
      "\u001b[1;31mKeyError\u001b[0m                                  Traceback (most recent call last)",
      "Cell \u001b[1;32mIn[58], line 1\u001b[0m\n\u001b[1;32m----> 1\u001b[0m \u001b[38;5;28mprint\u001b[39m(my_dict[\u001b[38;5;124m\"\u001b[39m\u001b[38;5;124mage\u001b[39m\u001b[38;5;124m\"\u001b[39m])\n",
      "\u001b[1;31mKeyError\u001b[0m: 'age'"
     ]
    }
   ],
   "source": [
    "print(my_dict[\"age\"])"
   ]
  },
  {
   "cell_type": "code",
   "execution_count": 60,
   "id": "f58c47c0-54f9-447e-882f-d5aaef7720cd",
   "metadata": {},
   "outputs": [
    {
     "name": "stdout",
     "output_type": "stream",
     "text": [
      "True\n"
     ]
    }
   ],
   "source": [
    "print(\"prenom\" in my_dict)\n"
   ]
  },
  {
   "cell_type": "code",
   "execution_count": 61,
   "id": "5b58c80e-e7fa-4347-a12c-51eb26244347",
   "metadata": {},
   "outputs": [
    {
     "name": "stdout",
     "output_type": "stream",
     "text": [
      "False\n"
     ]
    }
   ],
   "source": [
    "print(\"age\" in my_dict)"
   ]
  },
  {
   "cell_type": "code",
   "execution_count": 62,
   "id": "61621737-09c7-45e1-b44b-c0f529cbb496",
   "metadata": {},
   "outputs": [
    {
     "name": "stdout",
     "output_type": "stream",
     "text": [
      "John\n"
     ]
    }
   ],
   "source": [
    "print(my_dict.get(\"prenom\"))"
   ]
  },
  {
   "cell_type": "code",
   "execution_count": 63,
   "id": "38b3da6d-0639-4b63-8d40-8daa8dd4c95d",
   "metadata": {},
   "outputs": [
    {
     "name": "stdout",
     "output_type": "stream",
     "text": [
      "None\n"
     ]
    }
   ],
   "source": [
    " print(my_dict.get(\"age\"))\n"
   ]
  },
  {
   "cell_type": "code",
   "execution_count": 64,
   "id": "8a1280d6-bbee-41f5-bb3c-16e3d7c30005",
   "metadata": {},
   "outputs": [
    {
     "name": "stdout",
     "output_type": "stream",
     "text": [
      "dict_keys(['nom', 'prenom', 'naissance', 'equipes'])\n"
     ]
    }
   ],
   "source": [
    "the_keys = my_dict.keys()\n",
    "print(the_keys)"
   ]
  },
  {
   "cell_type": "code",
   "execution_count": 65,
   "id": "153298ea-0e5b-4cea-9a14-abc703fd1d25",
   "metadata": {},
   "outputs": [
    {
     "name": "stdout",
     "output_type": "stream",
     "text": [
      "<class 'dict_keys'>\n"
     ]
    }
   ],
   "source": [
    "print(type(the_keys))"
   ]
  },
  {
   "cell_type": "code",
   "execution_count": 66,
   "id": "a0ee87a0-3b73-4132-9591-fd4cf14de20c",
   "metadata": {},
   "outputs": [
    {
     "name": "stdout",
     "output_type": "stream",
     "text": [
      "['nom', 'prenom', 'naissance', 'equipes']\n"
     ]
    }
   ],
   "source": [
    "the_keys_list = list(the_keys)\n",
    "print(the_keys_list)"
   ]
  },
  {
   "cell_type": "code",
   "execution_count": 67,
   "id": "e04ec493-0cdc-490f-a4f6-36c10f5baf82",
   "metadata": {},
   "outputs": [
    {
     "name": "stdout",
     "output_type": "stream",
     "text": [
      "dict_values(['Kyrie', 'John', 1992, ['Cleveland', 'Boston']])\n"
     ]
    }
   ],
   "source": [
    "the_values = my_dict.values()\n",
    "print(the_values)"
   ]
  },
  {
   "cell_type": "code",
   "execution_count": 68,
   "id": "8df647e3-a29d-4677-813b-27fc2ab1eee5",
   "metadata": {},
   "outputs": [
    {
     "name": "stdout",
     "output_type": "stream",
     "text": [
      "<class 'dict_values'>\n"
     ]
    }
   ],
   "source": [
    "print(type(the_values))"
   ]
  },
  {
   "cell_type": "code",
   "execution_count": 69,
   "id": "42035795-0a48-4cfc-9063-0bc3a877d3b4",
   "metadata": {},
   "outputs": [
    {
     "name": "stdout",
     "output_type": "stream",
     "text": [
      "dict_items([('nom', 'Kyrie'), ('prenom', 'John'), ('naissance', 1992), ('equipes', ['Cleveland', 'Boston'])])\n"
     ]
    }
   ],
   "source": [
    "the_items = my_dict.items()\n",
    "print(the_items)"
   ]
  },
  {
   "cell_type": "code",
   "execution_count": 70,
   "id": "0da854ff-22bd-4034-9ef4-f65f8c291935",
   "metadata": {},
   "outputs": [
    {
     "name": "stdout",
     "output_type": "stream",
     "text": [
      "<class 'dict_items'>\n"
     ]
    }
   ],
   "source": [
    "print(type(the_items))\n"
   ]
  },
  {
   "cell_type": "code",
   "execution_count": 71,
   "id": "c7ba6948-4d23-4bb0-8390-7380a49d9ffd",
   "metadata": {},
   "outputs": [
    {
     "name": "stdout",
     "output_type": "stream",
     "text": [
      "False\n"
     ]
    }
   ],
   "source": [
    "print(\"age\" in the_keys)"
   ]
  },
  {
   "cell_type": "code",
   "execution_count": 72,
   "id": "afcfc9fa-1d41-43f3-817a-becd725474b9",
   "metadata": {},
   "outputs": [
    {
     "name": "stdout",
     "output_type": "stream",
     "text": [
      "True\n"
     ]
    }
   ],
   "source": [
    "print(\"nom\" in the_keys)"
   ]
  },
  {
   "cell_type": "code",
   "execution_count": 73,
   "id": "84bf0adf-a53b-4d1b-9774-71ae327f314a",
   "metadata": {},
   "outputs": [
    {
     "name": "stdout",
     "output_type": "stream",
     "text": [
      "True\n"
     ]
    }
   ],
   "source": [
    "print(['Cleveland', 'Boston'] in the_values)"
   ]
  },
  {
   "cell_type": "code",
   "execution_count": 74,
   "id": "8b24658a-b138-4c7d-9c17-2f6200ace495",
   "metadata": {},
   "outputs": [
    {
     "name": "stdout",
     "output_type": "stream",
     "text": [
      "{'nom': 'Kyrie', 'prenom': 'John', 'naissance': 1992, 'equipes': ['Montclair Kimberley Academy', 'Cleveland Cavaliers', 'Boston Celtics']}\n"
     ]
    }
   ],
   "source": [
    "my_dict[\"equipes\"] = [\"Montclair Kimberley Academy\",\n",
    "\"Cleveland Cavaliers\", \"Boston Celtics\"]\n",
    "print(my_dict)"
   ]
  },
  {
   "cell_type": "code",
   "execution_count": 75,
   "id": "db1e20f8-9e60-4a02-a38f-f2fbde3f2438",
   "metadata": {},
   "outputs": [
    {
     "name": "stdout",
     "output_type": "stream",
     "text": [
      "{'nom': 'Kyrie', 'prenom': 'John', 'naissance': 1992, 'equipes': ['Montclair Kimberley Academy', 'Cleveland Cavaliers', 'Boston Celtics'], 'taille_cm': 191}\n"
     ]
    }
   ],
   "source": [
    "my_dict[\"taille_cm\"] = 191\n",
    "print(my_dict)"
   ]
  },
  {
   "cell_type": "code",
   "execution_count": 76,
   "id": "ef26eec7-b001-470b-9926-7cef1a3e756f",
   "metadata": {},
   "outputs": [
    {
     "name": "stdout",
     "output_type": "stream",
     "text": [
      "{'masse_kg': 88, 'debut_nba': 2011}\n"
     ]
    }
   ],
   "source": [
    "second_dict = {\"masse_kg\" : 88, \"debut_nba\" : 2011}\n",
    "print(second_dict)"
   ]
  },
  {
   "cell_type": "code",
   "execution_count": 77,
   "id": "fede5128-cd1c-4a55-a847-9361d207d71f",
   "metadata": {},
   "outputs": [
    {
     "name": "stdout",
     "output_type": "stream",
     "text": [
      "{'nom': 'Kyrie', 'prenom': 'John', 'naissance': 1992, 'equipes': ['Montclair Kimberley Academy', 'Cleveland Cavaliers', 'Boston Celtics'], 'taille_cm': 191, 'masse_kg': 88, 'debut_nba': 2011}\n"
     ]
    }
   ],
   "source": [
    "my_dict.update(second_dict)\n",
    "print(my_dict)"
   ]
  },
  {
   "cell_type": "code",
   "execution_count": 79,
   "id": "f5a1c9d7-8a67-4e66-a131-91c1beae240b",
   "metadata": {},
   "outputs": [
    {
     "name": "stdout",
     "output_type": "stream",
     "text": [
      "{'masse_kg': 88, 'debut_nba': 2011, 'poste': 'PG'}\n"
     ]
    }
   ],
   "source": [
    "second_dict[\"poste\"] = \"PG\"\n",
    "print(second_dict)"
   ]
  },
  {
   "cell_type": "code",
   "execution_count": 80,
   "id": "a680e515-f8c3-45c7-b3ae-53bacc65cdfd",
   "metadata": {},
   "outputs": [
    {
     "name": "stdout",
     "output_type": "stream",
     "text": [
      "{'nom': 'Kyrie', 'prenom': 'John', 'naissance': 1992, 'equipes': ['Montclair Kimberley Academy', 'Cleveland Cavaliers', 'Boston Celtics'], 'taille_cm': 191, 'masse_kg': 88, 'debut_nba': 2011}\n"
     ]
    }
   ],
   "source": [
    "print(my_dict)"
   ]
  },
  {
   "cell_type": "code",
   "execution_count": 81,
   "id": "5eb58067-31d2-4e7e-b262-b735b5993e8f",
   "metadata": {},
   "outputs": [
    {
     "name": "stdout",
     "output_type": "stream",
     "text": [
      "{'nom': 'Kyrie', 'prenom': 'John', 'naissance': 1992, 'equipes': ['Montclair Kimberley Academy', 'Cleveland Cavaliers', 'Boston Celtics'], 'taille_cm': 191, 'masse_kg': 88}\n"
     ]
    }
   ],
   "source": [
    "del my_dict[\"debut_nba\"]\n",
    "print(my_dict)"
   ]
  },
  {
   "cell_type": "code",
   "execution_count": 82,
   "id": "d9be8b4f-93bf-472f-9d95-2e2d4f5d9edb",
   "metadata": {},
   "outputs": [
    {
     "name": "stdout",
     "output_type": "stream",
     "text": [
      "{'nom': 'Kyrie', 'prenom': 'John', 'naissance': 1992, 'equipes': ['Montclair Kimberley Academy', 'Cleveland Cavaliers', 'Boston Celtics'], 'taille_cm': 191}\n"
     ]
    }
   ],
   "source": [
    "res = my_dict.pop(\"masse_kg\")\n",
    "print(my_dict)"
   ]
  },
  {
   "cell_type": "code",
   "execution_count": 83,
   "id": "f3f5ef10-363c-48a4-8695-dd5fbace01ef",
   "metadata": {},
   "outputs": [
    {
     "name": "stdout",
     "output_type": "stream",
     "text": [
      "88\n"
     ]
    }
   ],
   "source": [
    "print(res)"
   ]
  },
  {
   "cell_type": "code",
   "execution_count": 84,
   "id": "ef07ee69-ad24-464f-87ea-0ba2b0cff1ff",
   "metadata": {},
   "outputs": [
    {
     "name": "stdout",
     "output_type": "stream",
     "text": [
      "d:  {'Marseille': 13, 'Rennes': 35}\n"
     ]
    }
   ],
   "source": [
    "d = {\"Marseille\": 13, \"Rennes\" : 35}\n",
    "d2 = d.copy()\n",
    "d2[\"Paris\"] = 75\n",
    "print(\"d: \", d)"
   ]
  },
  {
   "cell_type": "code",
   "execution_count": 85,
   "id": "c7982d7c-4d48-49ea-b0e7-750e5a29a415",
   "metadata": {},
   "outputs": [
    {
     "name": "stdout",
     "output_type": "stream",
     "text": [
      "d2:  {'Marseille': 13, 'Rennes': 35, 'Paris': 75}\n"
     ]
    }
   ],
   "source": [
    "print(\"d2: \", d2)"
   ]
  },
  {
   "cell_type": "code",
   "execution_count": null,
   "id": "aa36c8d3-a69d-41e5-9acf-a72dfb5087ab",
   "metadata": {},
   "outputs": [],
   "source": []
  }
 ],
 "metadata": {
  "kernelspec": {
   "display_name": "Python 3 (ipykernel)",
   "language": "python",
   "name": "python3"
  },
  "language_info": {
   "codemirror_mode": {
    "name": "ipython",
    "version": 3
   },
   "file_extension": ".py",
   "mimetype": "text/x-python",
   "name": "python",
   "nbconvert_exporter": "python",
   "pygments_lexer": "ipython3",
   "version": "3.13.5"
  }
 },
 "nbformat": 4,
 "nbformat_minor": 5
}
