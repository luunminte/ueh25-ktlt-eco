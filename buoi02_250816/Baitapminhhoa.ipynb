{
 "cells": [
  {
   "cell_type": "markdown",
   "id": "dd956dc2-b3d6-4afd-81e0-6dabb4fbdd4e",
   "metadata": {},
   "source": [
    "# Bài 02 – Kỹ thuật lập trình Python và Stata"
   ]
  },
  {
   "cell_type": "markdown",
   "id": "8b292837-7960-41d8-aa95-ca752477d9af",
   "metadata": {},
   "source": [
    "# Thực Hành 1"
   ]
  },
  {
   "cell_type": "markdown",
   "id": "cda4161e-e76a-44ac-b4b9-9c4c731c07e3",
   "metadata": {},
   "source": [
    "### 1. Chương trình nhập số và kiểm tra số nguyên tố"
   ]
  },
  {
   "cell_type": "code",
   "execution_count": 1,
   "id": "9964e10c-0c95-454d-a761-20832c2c38cb",
   "metadata": {},
   "outputs": [
    {
     "name": "stdin",
     "output_type": "stream",
     "text": [
      "Nhap vao so nguyen:  5\n"
     ]
    },
    {
     "name": "stdout",
     "output_type": "stream",
     "text": [
      "5 la so nguyen to\n"
     ]
    }
   ],
   "source": [
    "## ham kiem tra so nguyen to\n",
    "def ktsnt(n):\n",
    "    if n < 2:  # 0, 1 khong la so nguyen to\n",
    "        return False\n",
    "    for i in range(2, int(n**0.5) + 1):  # can bac hai cua n\n",
    "        if n % i == 0:\n",
    "            return False\n",
    "    return True\n",
    "\n",
    "### nhap vao so nguyen can kiem tra\n",
    "a = int(input(\"Nhap vao so nguyen: \"))\n",
    "if ktsnt(a):\n",
    "    print(\"%d la so nguyen to\" % a)\n",
    "else:\n",
    "    print(\"%d khong la so nguyen to\" % a)"
   ]
  },
  {
   "cell_type": "markdown",
   "id": "2c010948-a672-4a9d-8c46-e8686f821da4",
   "metadata": {},
   "source": [
    "### 1/a. Liệt kê tất cả các số nguyên tố nhỏ hơn N"
   ]
  },
  {
   "cell_type": "code",
   "execution_count": 2,
   "id": "5557c766-1ce0-45dc-8a1b-38e97b8e0a92",
   "metadata": {},
   "outputs": [
    {
     "name": "stdin",
     "output_type": "stream",
     "text": [
      "Nhap N:  9\n"
     ]
    },
    {
     "name": "stdout",
     "output_type": "stream",
     "text": [
      "2\n",
      "3\n",
      "5\n",
      "7\n"
     ]
    }
   ],
   "source": [
    "## ham kiem tra so nguyen to\n",
    "def ktsnt(n):\n",
    "    if n < 2:\n",
    "        return False\n",
    "    for i in range(2, int(n**0.5) + 1):\n",
    "        if n % i == 0:\n",
    "            return False\n",
    "    return True\n",
    "\n",
    "### ham liet ke cac so nguyen to nho hon k\n",
    "def lietkesnt(k):\n",
    "    if k <= 2:\n",
    "        print(\"Khong co so nguyen to thoa yeu cau\")\n",
    "    else:\n",
    "        for i in range(2, k):\n",
    "            if ktsnt(i):\n",
    "                print(\"%d\" % i)\n",
    "\n",
    "### nhap vao N\n",
    "n = int(input(\"Nhap N: \"))\n",
    "lietkesnt(n)"
   ]
  },
  {
   "cell_type": "markdown",
   "id": "2001258a-0775-4211-a1cd-f87a70b1aae5",
   "metadata": {},
   "source": [
    "### 1/b. In ra M số nguyên tố đầu tiên"
   ]
  },
  {
   "cell_type": "code",
   "execution_count": 3,
   "id": "a69dae2e-4b38-4883-8fd6-86c5adaa6cb8",
   "metadata": {},
   "outputs": [
    {
     "name": "stdin",
     "output_type": "stream",
     "text": [
      "Nhap so M:  5\n"
     ]
    },
    {
     "name": "stdout",
     "output_type": "stream",
     "text": [
      "2 3 5 7 11 "
     ]
    }
   ],
   "source": [
    "## ham kiem tra so nguyen to\n",
    "def ktsnt(n):\n",
    "    if n < 2:\n",
    "        return False\n",
    "    for i in range(2, int(n**0.5) + 1):\n",
    "        if n % i == 0:\n",
    "            return False\n",
    "    return True\n",
    "\n",
    "### ham liet ke M so nguyen to dau tien\n",
    "def lietkeMsnt(M):\n",
    "    bien_dem = 0   # dem tu 0 den M-1\n",
    "    t = 2          # bat dau tu 2 vi 0 va 1 khong la so nguyen to\n",
    "    while bien_dem < M:\n",
    "        if ktsnt(t):\n",
    "            print(\"%d\" % t, end=\" \")\n",
    "            bien_dem += 1\n",
    "        t += 1\n",
    "\n",
    "### nhap vao M\n",
    "M = int(input(\"Nhap so M: \"))\n",
    "lietkeMsnt(M)"
   ]
  },
  {
   "cell_type": "markdown",
   "id": "3618b276-dd64-47eb-9164-34213283648f",
   "metadata": {},
   "source": [
    "### 2. Chương trình in ra tất cả số chẵn trong khoảng (M,N)"
   ]
  },
  {
   "cell_type": "code",
   "execution_count": 4,
   "id": "b24c7912-b8fe-4710-84b9-16942cdb3fca",
   "metadata": {},
   "outputs": [
    {
     "name": "stdin",
     "output_type": "stream",
     "text": [
      "Nhap chan duoi:  14\n",
      "Nhap chan tren:  30\n"
     ]
    },
    {
     "name": "stdout",
     "output_type": "stream",
     "text": [
      "16 18 20 22 24 26 28 "
     ]
    }
   ],
   "source": [
    "### ham in so chan trong khoang (M, N)\n",
    "def insochan(M, N):\n",
    "    for i in range(M + 1, N):\n",
    "        if i % 2 == 0:\n",
    "            print(\"%d\" % i, end=\" \")\n",
    "\n",
    "### nhap vao M, N\n",
    "M = int(input(\"Nhap chan duoi: \"))\n",
    "N = int(input(\"Nhap chan tren: \"))\n",
    "\n",
    "insochan(M, N)"
   ]
  },
  {
   "cell_type": "markdown",
   "id": "62f9ba41-8ba6-4f7e-b55e-b73196ce30b5",
   "metadata": {},
   "source": [
    "### 2/a. Tìm tất cả các số chia hết cho 7 nhưng không phải bội số của 5, nằm trong đoạn [99;999] "
   ]
  },
  {
   "cell_type": "code",
   "execution_count": 5,
   "id": "64999fb7-2ec1-4f9d-b442-18c44c0ab3aa",
   "metadata": {},
   "outputs": [
    {
     "name": "stdout",
     "output_type": "stream",
     "text": [
      "112 119 126 133 147 154 161 168 182 189 196 203 217 224 231 238 252 259 266 273 287 294 301 308 322 329 336 343 357 364 371 378 392 399 406 413 427 434 441 448 462 469 476 483 497 504 511 518 532 539 546 553 567 574 581 588 602 609 616 623 637 644 651 658 672 679 686 693 707 714 721 728 742 749 756 763 777 784 791 798 812 819 826 833 847 854 861 868 882 889 896 903 917 924 931 938 952 959 966 973 987 994 "
     ]
    }
   ],
   "source": [
    "### ham liet ke cac so chia het cho 7 nhung khong phai boi cua 5\n",
    "def lietke1(M, N):\n",
    "    for i in range(M, N + 1):\n",
    "        if (i % 7 == 0) and (i % 5 != 0):\n",
    "            print(\"%d\" % i, end=\" \")\n",
    "\n",
    "### nhap gia tri M va N\n",
    "M = 99\n",
    "N = 999\n",
    "\n",
    "lietke1(M, N)"
   ]
  },
  {
   "cell_type": "markdown",
   "id": "9c430baa-ffdd-47e0-8d93-3daf80367f98",
   "metadata": {},
   "source": [
    "### 2/b.  Tìm số đầu tiên chia hết cho 9 và chia hết cho 7 nằm trong đoạn [M,N]"
   ]
  },
  {
   "cell_type": "code",
   "execution_count": 6,
   "id": "34a613d3-72c3-418b-90b3-8814d8811997",
   "metadata": {},
   "outputs": [
    {
     "name": "stdout",
     "output_type": "stream",
     "text": [
      "126\n"
     ]
    }
   ],
   "source": [
    "### ham tim so dau tien chia het cho 9 va 7 trong doan [M, N]\n",
    "def lietke2(M, N):\n",
    "    q = -1\n",
    "    for i in range(M, N + 1):\n",
    "        if (i % 9 == 0) and (i % 7 == 0):\n",
    "            q = i\n",
    "            break\n",
    "    return q\n",
    "\n",
    "### nhap gia tri M, N\n",
    "M = 64\n",
    "N = 300\n",
    "\n",
    "q = lietke2(M, N)\n",
    "if q == -1:\n",
    "    print(\"Khong co so thoa dieu kien\")\n",
    "else:\n",
    "    print(\"%d\" % q)"
   ]
  },
  {
   "cell_type": "markdown",
   "id": "3547a826-23ed-4c54-b3f5-ccb8105dcb8a",
   "metadata": {},
   "source": [
    "### 3. Nhập một số nguyên, đếm xem số đó có bao nhiêu chữ số và tính tổng các chữ số"
   ]
  },
  {
   "cell_type": "code",
   "execution_count": 8,
   "id": "aa710449-6f85-4b10-a5de-e19f19432f26",
   "metadata": {},
   "outputs": [
    {
     "name": "stdin",
     "output_type": "stream",
     "text": [
      "Nhap n:  4\n"
     ]
    },
    {
     "name": "stdout",
     "output_type": "stream",
     "text": [
      "4\n",
      "So luong chu so: 1\n",
      "Tong cac chu so: 4\n"
     ]
    }
   ],
   "source": [
    "### ham tinh tong va dem so chu so\n",
    "def Tinh(n):\n",
    "    tong = 0\n",
    "    dem = 0\n",
    "    while n > 0:\n",
    "        sodu = n % 10\n",
    "        tong = tong + sodu\n",
    "        dem = dem + 1\n",
    "        n = n // 10\n",
    "        print(sodu)   # in ra từng chữ số (nếu không cần thì có thể bỏ dòng này)\n",
    "    return tong, dem\n",
    "\n",
    "### nhap so nguyen n\n",
    "a = int(input(\"Nhap n: \"))\n",
    "\n",
    "tong, sochuso = Tinh(a)\n",
    "print(\"So luong chu so: %d\" % sochuso)\n",
    "print(\"Tong cac chu so: %d\" % tong)"
   ]
  },
  {
   "cell_type": "markdown",
   "id": "436e6df1-208d-478d-a300-ca92220fb987",
   "metadata": {},
   "source": [
    "### 4. Đệ quy – Tính giai thừa của một số nguyên dương n"
   ]
  },
  {
   "cell_type": "code",
   "execution_count": 9,
   "id": "bfb72a49-9127-4a6d-a8bd-a964863a05c6",
   "metadata": {},
   "outputs": [
    {
     "name": "stdout",
     "output_type": "stream",
     "text": [
      "Giai thua cua 5 la 120\n"
     ]
    }
   ],
   "source": [
    "### ham tinh giai thua bang de quy\n",
    "def giaithua(n):\n",
    "    if n == 1:\n",
    "        return 1\n",
    "    else:\n",
    "        return n * giaithua(n - 1)\n",
    "\n",
    "### vi du tinh giai thua cua 5\n",
    "num = 5\n",
    "print(\"Giai thua cua\", num, \"la\", giaithua(num))"
   ]
  },
  {
   "cell_type": "markdown",
   "id": "0c3e5dd0-626b-4f0f-8b2a-65f85c01c204",
   "metadata": {},
   "source": [
    "### 5. Đệ quy – Tính lũy thừa a^b"
   ]
  },
  {
   "cell_type": "code",
   "execution_count": 10,
   "id": "100e35e2-7cb2-42ff-86af-4acf886d1c2b",
   "metadata": {},
   "outputs": [
    {
     "name": "stdout",
     "output_type": "stream",
     "text": [
      "2 ^ 3 = 8\n"
     ]
    }
   ],
   "source": [
    "### ham tinh luy thua a^b bang de quy\n",
    "def power(a, b):\n",
    "    if b == 0:\n",
    "        return 1\n",
    "    elif a == 0:\n",
    "        return 0\n",
    "    elif b == 1:\n",
    "        return a\n",
    "    else:\n",
    "        return a * power(a, b - 1)\n",
    "\n",
    "### vi du tinh 2^3\n",
    "a = 2\n",
    "b = 3\n",
    "print(a, \"^\", b, \"=\", power(a, b))"
   ]
  },
  {
   "cell_type": "markdown",
   "id": "9712ecb1-d09e-426c-9abb-514bfbbd69ac",
   "metadata": {},
   "source": [
    "## Thực hành 2"
   ]
  },
  {
   "cell_type": "markdown",
   "id": "3a7352ff-0c0b-47e8-befb-0949e06e6a84",
   "metadata": {},
   "source": [
    "### 1. Viết hàm tìm độ dài của một chuỗi (không dùng hàm len())"
   ]
  },
  {
   "cell_type": "code",
   "execution_count": 11,
   "id": "6a88555c-74bb-4e00-acc8-7079a6fd4fb6",
   "metadata": {},
   "outputs": [
    {
     "name": "stdout",
     "output_type": "stream",
     "text": [
      "Chieu dai chuoi : 20\n",
      "Check len() function: 20\n"
     ]
    }
   ],
   "source": [
    "### ham tim do dai chuoi (khong dung len())\n",
    "def chieudaiChuoi(str1):\n",
    "    count = 0\n",
    "    for char in str1:\n",
    "        count += 1\n",
    "    return count\n",
    "\n",
    "### vi du\n",
    "ss = 'hello world ... !!!!'\n",
    "\n",
    "print('Chieu dai chuoi : {}'.format(chieudaiChuoi(ss)))\n",
    "print('Check len() function:', len(ss))"
   ]
  },
  {
   "cell_type": "markdown",
   "id": "f4a150a7-83cd-47e4-aa96-29aa4f5ba255",
   "metadata": {},
   "source": [
    "### 2. Viết chương trình đếm số lượng các từ trong một chuỗi "
   ]
  },
  {
   "cell_type": "code",
   "execution_count": 12,
   "id": "09e6c9c0-24e5-486b-9d4e-2a2b5f7d249e",
   "metadata": {},
   "outputs": [
    {
     "name": "stdout",
     "output_type": "stream",
     "text": [
      "Input:  Tach chuoi dung split\n",
      "Tach tu: ['Tach', 'chuoi', 'dung', 'split']\n",
      "The number of words in string are: 4\n"
     ]
    }
   ],
   "source": [
    "### Dem so luong tu trong mot chuoi (dung split)\n",
    "test_string = \"Tach chuoi dung split\"\n",
    "\n",
    "print(\"Input: \", test_string)\n",
    "\n",
    "# Tach tu dua tren khoang trang\n",
    "temp = test_string.split()\n",
    "print(\"Tach tu:\", temp)\n",
    "\n",
    "# Dem so luong tu\n",
    "res = len(temp)\n",
    "print(\"The number of words in string are:\", res)"
   ]
  },
  {
   "cell_type": "markdown",
   "id": "e80e5c89-1bae-447d-aab6-f3bffb375957",
   "metadata": {},
   "source": [
    "### TH2. Khong dung slipt"
   ]
  },
  {
   "cell_type": "code",
   "execution_count": 13,
   "id": "ec6728b4-5c02-4e99-aac3-d5d1c2ed9ec7",
   "metadata": {},
   "outputs": [
    {
     "name": "stdout",
     "output_type": "stream",
     "text": [
      "The number of words in string are 4\n"
     ]
    }
   ],
   "source": [
    "# TH2: Dem so luong tu trong chuoi (khong dung split)\n",
    "test_string = \"tach chuoi thanh tu\"\n",
    "\n",
    "if len(test_string) == 0 or test_string.isspace():\n",
    "    print(\"The number of words in string are =\", 0)\n",
    "else:\n",
    "    total = 0\n",
    "    test_string = test_string + ' '  # them khoang trang cuoi de de dem\n",
    "    for i in range(len(test_string) - 1):\n",
    "        if test_string[i] != ' ' and test_string[i + 1] == ' ':\n",
    "            total = total + 1\n",
    "    print(\"The number of words in string are\", total)"
   ]
  },
  {
   "cell_type": "markdown",
   "id": "da667472-6685-4184-9a3e-834366469a70",
   "metadata": {},
   "source": [
    "### 3. Viết hàm đếm số lượng nguyên âm (a e i o u), phụ âm có trong chuỗi"
   ]
  },
  {
   "cell_type": "code",
   "execution_count": 15,
   "id": "c0c3514b-4b52-4bdf-a131-d178d1bb5ee0",
   "metadata": {},
   "outputs": [
    {
     "name": "stdout",
     "output_type": "stream",
     "text": [
      "13\n",
      "2 5\n"
     ]
    }
   ],
   "source": [
    "test_string = \"  !! fdafdaf \"\n",
    "valid_symbols = \" !(@#$%^&*().-+={}[]<>/,\"\n",
    "\n",
    "def dem_nguyenam_phuam(string):\n",
    "    nguyenam = 0\n",
    "    phuam = 0\n",
    "    for char in string:\n",
    "        if char != ' ' and char not in valid_symbols:\n",
    "            if char in \"aeiouAEIOU\":\n",
    "                nguyenam += 1\n",
    "            else:\n",
    "                phuam += 1\n",
    "    return nguyenam, phuam\n",
    "\n",
    "print(len(test_string))   # do dai chuoi\n",
    "v, c = dem_nguyenam_phuam(test_string)\n",
    "print(v, c)               # so nguyen am va so phu am"
   ]
  },
  {
   "cell_type": "code",
   "execution_count": 16,
   "id": "2b44f0ef-d688-4236-80b0-37aeeef7a33e",
   "metadata": {},
   "outputs": [
    {
     "name": "stdout",
     "output_type": "stream",
     "text": [
      "Nguyen am: 2\n",
      "Phu am: 5\n"
     ]
    }
   ],
   "source": [
    "def dem_nguyenam_phuam_2(string):\n",
    "    nguyenam = 0\n",
    "    phuam = 0\n",
    "    valid_symbols = \" !(@#$%^&*().-+={}[]<>/,\"\n",
    "\n",
    "    for i in string:\n",
    "        if i != ' ' and i not in valid_symbols:\n",
    "            if (i == 'a' or i == 'e' or i == 'i' or i == 'o' or i == 'u' or\n",
    "                i == 'A' or i == 'E' or i == 'I' or i == 'O' or i == 'U'):\n",
    "                nguyenam += 1\n",
    "            else:\n",
    "                phuam += 1\n",
    "    return nguyenam, phuam\n",
    "\n",
    "### ví dụ chạy thử\n",
    "test_string = \" !! fdafdaf \"\n",
    "v, c = dem_nguyenam_phuam_2(test_string)\n",
    "print(\"Nguyen am:\", v)\n",
    "print(\"Phu am:\", c)"
   ]
  },
  {
   "cell_type": "markdown",
   "id": "901d2b76-1424-4019-afbd-33ff816647ca",
   "metadata": {},
   "source": [
    "## Thực hành 3"
   ]
  },
  {
   "cell_type": "markdown",
   "id": "f509fb35-c58d-4cfa-83f8-9726fb03c1be",
   "metadata": {},
   "source": [
    "### 1. Sắp xếp List dùng string_compare và integer_compare"
   ]
  },
  {
   "cell_type": "code",
   "execution_count": 3,
   "id": "74a41bea-7d7d-4224-a9ed-35b5b92ffb4c",
   "metadata": {},
   "outputs": [
    {
     "name": "stdout",
     "output_type": "stream",
     "text": [
      "Input: ['3', '27', '5', '123', '9', '1']\n",
      "StringSort: ['1', '123', '27', '3', '5', '9']\n",
      "INTSort: ['1', '3', '5', '9', '27', '123']\n"
     ]
    }
   ],
   "source": [
    "### danh sach ban dau\n",
    "A = ['3', '27', '5', '123', '9', '1']\n",
    "\n",
    "print(\"Input:\", A)\n",
    "\n",
    "### sap xep kieu chuoi (string_compare)\n",
    "StringSort = sorted(A)\n",
    "print(\"StringSort:\", StringSort)\n",
    "\n",
    "### ham chuyen doi sang so nguyen de sap xep (integer_compare)\n",
    "def myintSort(a):\n",
    "    return int(a)\n",
    "\n",
    "### sap xep kieu so nguyen\n",
    "INTSort = sorted(A, key=myintSort)\n",
    "print(\"INTSort:\", INTSort)"
   ]
  },
  {
   "cell_type": "markdown",
   "id": "eb7e9759-f409-4c0d-bc40-4f0bcda1aa52",
   "metadata": {},
   "source": [
    "### 2. Viết chương trình in list sau khi đã xóa số tại vị trí thứ 1, thứ 2, thứ 3, thứ 6 trong [12,24,35,70,88,120,155]."
   ]
  },
  {
   "cell_type": "code",
   "execution_count": 2,
   "id": "238b3568-8c11-4842-9f60-e46971596953",
   "metadata": {},
   "outputs": [
    {
     "name": "stdout",
     "output_type": "stream",
     "text": [
      "Input: [12, 24, 35, 70, 88, 120, 155]\n",
      "Sau khi Xoa: [12, 88, 120]\n"
     ]
    }
   ],
   "source": [
    "### danh sach ban dau\n",
    "A = [12, 24, 35, 70, 88, 120, 155]\n",
    "print(\"Input:\", A)\n",
    "\n",
    "### cac vi tri can xoa (theo index bat dau tu 0)\n",
    "indexR = [1, 2, 3, 6]\n",
    "\n",
    "### tao list moi sau khi xoa\n",
    "B = [x for i, x in enumerate(A) if i not in indexR]\n",
    "print(\"Sau khi Xoa:\", B)"
   ]
  },
  {
   "cell_type": "markdown",
   "id": "1e461238-9e78-4b14-8549-5b6112a15391",
   "metadata": {},
   "source": [
    "### 3. Xóa các phần tử trùng nhau trong list"
   ]
  },
  {
   "cell_type": "code",
   "execution_count": 4,
   "id": "ef054ec4-6440-43cd-8ac9-9c3439c7dea1",
   "metadata": {},
   "outputs": [
    {
     "name": "stdout",
     "output_type": "stream",
     "text": [
      "Input: [1, 1, 1, 2, 2, 2, 3, 1, 2, 5, 6, 7, 8, 5, 6, 7]\n",
      "Output_1: [1, 2, 3, 5, 6, 7, 8]\n",
      "Output_2: [1, 2, 3, 5, 6, 7, 8]\n",
      "Output_3: [1, 2, 3, 5, 6, 7, 8]\n",
      "Output_4: [1, 2, 3, 5, 6, 7, 8]\n"
     ]
    }
   ],
   "source": [
    "A = [1, 1, 1, 2, 2, 2, 3, 1, 2, 5, 6, 7, 8, 5, 6, 7]\n",
    "print(\"Input:\", A)\n",
    "\n",
    "# Cách 1: Dùng vòng lặp và list\n",
    "B = []\n",
    "[B.append(x) for x in A if x not in B]\n",
    "print(\"Output_1:\", B)\n",
    "\n",
    "# Cách 2: List comprehension với enumerate\n",
    "newlist = [ii for n, ii in enumerate(A) if ii not in A[:n]]\n",
    "print(\"Output_2:\", newlist)\n",
    "\n",
    "# Cách 3: Dùng tập hợp (set)\n",
    "Newlist_set = list(set(A))\n",
    "print(\"Output_3:\", Newlist_set)\n",
    "\n",
    "# Cách 4: Dùng từ điển (dict)\n",
    "mylist = list(dict.fromkeys(A))\n",
    "print(\"Output_4:\", mylist)"
   ]
  },
  {
   "cell_type": "markdown",
   "id": "262f5ac7-4d6d-4d39-8a2f-941eac7c15b2",
   "metadata": {},
   "source": [
    "### 4. Đếm số lần xuất hiện của các phần tử trong list"
   ]
  },
  {
   "cell_type": "code",
   "execution_count": 5,
   "id": "f8f3b706-ca85-4cb1-998b-8e7f49c50505",
   "metadata": {},
   "outputs": [
    {
     "name": "stdout",
     "output_type": "stream",
     "text": [
      "1 : 4,2 : 4,3 : 2,4 : 2,5 : 2,\n",
      "\n",
      "[[1, 4], [2, 4], [3, 2], [4, 2], [5, 2]]\n",
      "1 : 4,2 : 4,3 : 2,4 : 2,5 : 2,\n",
      "\n",
      "{1: 4, 2: 4, 3: 2, 4: 2, 5: 2}\n",
      "Counter({1: 4, 2: 4, 3: 2, 4: 2, 5: 2})\n"
     ]
    }
   ],
   "source": [
    "A = [1, 1, 1, 1, 2, 2, 2, 2, 3, 3, 4, 4, 5, 5]\n",
    "\n",
    "# Cách 1: Không dùng set và dictionary\n",
    "e = []\n",
    "for i in range(len(A)):\n",
    "    if A[i] not in e:\n",
    "        e.append(A[i])\n",
    "        print(A[i], \":\", A.count(A[i]), end=\",\")\n",
    "print(\"\\n\")\n",
    "\n",
    "# Cách 2: Dùng tập hợp (set)\n",
    "b = [[x, A.count(x)] for x in set(A)]\n",
    "print(b)\n",
    "for i in range(len(b)):\n",
    "    print(b[i][0], \":\", b[i][1], end=\",\")\n",
    "print(\"\\n\")\n",
    "\n",
    "# Cách 3: Dùng từ điển (dictionary)\n",
    "d = {x: A.count(x) for x in A}\n",
    "print(d)\n",
    "\n",
    "# Cách 4: Dùng Counter trong collections\n",
    "import collections\n",
    "ctr = collections.Counter(A)\n",
    "print(ctr)"
   ]
  },
  {
   "cell_type": "markdown",
   "id": "1f5b79ea-6ba9-45a8-8e8b-2038b9ab29d3",
   "metadata": {},
   "source": [
    "## Cấu trúc điều kiện"
   ]
  },
  {
   "cell_type": "code",
   "execution_count": 6,
   "id": "052b216d-90f0-4c31-af61-62ddc0ab9b8c",
   "metadata": {},
   "outputs": [
    {
     "name": "stdin",
     "output_type": "stream",
     "text": [
      "Nhap so bat ky:  5\n"
     ]
    },
    {
     "name": "stdout",
     "output_type": "stream",
     "text": [
      "So nhap vao la: 5\n"
     ]
    }
   ],
   "source": [
    "# 1. Nhập số bất kỳ. Đọc giá trị nếu từ 1 đến 9\n",
    "n = int(input(\"Nhap so bat ky: \"))\n",
    "if 1 <= n <= 9:\n",
    "    print(\"So nhap vao la:\", n)\n",
    "else:\n",
    "    print(\"Khong doc duoc\")"
   ]
  },
  {
   "cell_type": "code",
   "execution_count": 7,
   "id": "b17b3f8a-3317-4ea6-883f-7f71614aeffe",
   "metadata": {},
   "outputs": [
    {
     "name": "stdin",
     "output_type": "stream",
     "text": [
      "Nhap 1 chu cai:  m\n"
     ]
    },
    {
     "name": "stdout",
     "output_type": "stream",
     "text": [
      "Chu hoa: M\n"
     ]
    }
   ],
   "source": [
    "# 2. Nhập một chữ cái. Đổi chữ thường ↔ chữ hoa\n",
    "ch = input(\"Nhap 1 chu cai: \")\n",
    "if ch.islower():\n",
    "    print(\"Chu hoa:\", ch.upper())\n",
    "elif ch.isupper():\n",
    "    print(\"Chu thuong:\", ch.lower())\n",
    "else:\n",
    "    print(\"Khong phai chu cai\")"
   ]
  },
  {
   "cell_type": "code",
   "execution_count": 8,
   "id": "b0e3d538-93c0-42c1-8264-669a450d9c51",
   "metadata": {},
   "outputs": [
    {
     "name": "stdin",
     "output_type": "stream",
     "text": [
      "Nhap a:  8\n",
      "Nhap b:  3\n"
     ]
    },
    {
     "name": "stdout",
     "output_type": "stream",
     "text": [
      "Nghiem x = -0.375\n"
     ]
    }
   ],
   "source": [
    "# 3. Giải phương trình bậc nhất ax + b = 0\n",
    "a = float(input(\"Nhap a: \"))\n",
    "b = float(input(\"Nhap b: \"))\n",
    "if a == 0:\n",
    "    if b == 0:\n",
    "        print(\"Phuong trinh vo so nghiem\")\n",
    "    else:\n",
    "        print(\"Phuong trinh vo nghiem\")\n",
    "else:\n",
    "    print(\"Nghiem x =\", -b/a)"
   ]
  },
  {
   "cell_type": "code",
   "execution_count": 9,
   "id": "575b82ca-1e22-4f2c-ac5d-6ea3305c8ea4",
   "metadata": {},
   "outputs": [
    {
     "name": "stdin",
     "output_type": "stream",
     "text": [
      "Nhap a:  10\n",
      "Nhap b:  27\n",
      "Nhap c:  9\n"
     ]
    },
    {
     "name": "stdout",
     "output_type": "stream",
     "text": [
      "Nghiem x1 = -0.38953136438507274 x2 = -2.310468635614927\n"
     ]
    }
   ],
   "source": [
    "# 4. Giải phương trình bậc 2 ax^2 + bx + c = 0\n",
    "import math\n",
    "a = float(input(\"Nhap a: \"))\n",
    "b = float(input(\"Nhap b: \"))\n",
    "c = float(input(\"Nhap c: \"))\n",
    "if a == 0:\n",
    "    if b == 0:\n",
    "        print(\"Vo nghiem\" if c != 0 else \"Vo so nghiem\")\n",
    "    else:\n",
    "        print(\"Nghiem x =\", -c/b)\n",
    "else:\n",
    "    delta = b**2 - 4*a*c\n",
    "    if delta < 0:\n",
    "        print(\"Vo nghiem\")\n",
    "    elif delta == 0:\n",
    "        print(\"Nghiem kep x =\", -b/(2*a))\n",
    "    else:\n",
    "        x1 = (-b + math.sqrt(delta)) / (2*a)\n",
    "        x2 = (-b - math.sqrt(delta)) / (2*a)\n",
    "        print(\"Nghiem x1 =\", x1, \"x2 =\", x2)"
   ]
  },
  {
   "cell_type": "code",
   "execution_count": 10,
   "id": "13a210d9-06ea-451a-9edf-e88dc4a02c74",
   "metadata": {},
   "outputs": [
    {
     "name": "stdin",
     "output_type": "stream",
     "text": [
      "Nhap 4 so:  4 7 2 1 \n"
     ]
    },
    {
     "name": "stdout",
     "output_type": "stream",
     "text": [
      "So nho nhat la: 1\n"
     ]
    }
   ],
   "source": [
    "# 5. Tìm số nhỏ nhất trong 4 số\n",
    "a, b, c, d = map(int, input(\"Nhap 4 so: \").split())\n",
    "print(\"So nho nhat la:\", min(a, b, c, d))"
   ]
  },
  {
   "cell_type": "code",
   "execution_count": 11,
   "id": "dababf21-0d82-47e3-a1b9-b097065b14f2",
   "metadata": {},
   "outputs": [
    {
     "name": "stdout",
     "output_type": "stream",
     "text": [
      "Day so tang dan: [1, 2, 4, 7]\n"
     ]
    }
   ],
   "source": [
    "# 6. Sắp xếp 4 số theo thứ tự tăng dần\n",
    "nums = [a, b, c, d]\n",
    "nums.sort()\n",
    "print(\"Day so tang dan:\", nums)"
   ]
  },
  {
   "cell_type": "code",
   "execution_count": 12,
   "id": "9005498c-5e4f-4e4f-a74b-8410c4092171",
   "metadata": {},
   "outputs": [
    {
     "name": "stdin",
     "output_type": "stream",
     "text": [
      "Nhap so km:  15\n"
     ]
    },
    {
     "name": "stdout",
     "output_type": "stream",
     "text": [
      "Tien taxi: 179000.0 VND\n"
     ]
    }
   ],
   "source": [
    "# 7. Tính tiền taxi\n",
    "km = float(input(\"Nhap so km: \"))\n",
    "if km <= 1:\n",
    "    tong = km * 15000\n",
    "elif km <= 5:\n",
    "    tong = 15000 + (km-1) * 13500\n",
    "else:\n",
    "    tong = 15000 + 4*13500 + (km-5)*11000\n",
    "\n",
    "if km > 120:\n",
    "    tong *= 0.9\n",
    "\n",
    "print(\"Tien taxi:\", tong, \"VND\")"
   ]
  },
  {
   "cell_type": "code",
   "execution_count": 13,
   "id": "94bc6951-0b68-4269-97e9-3baf937e6d79",
   "metadata": {},
   "outputs": [
    {
     "name": "stdin",
     "output_type": "stream",
     "text": [
      "Nhap thang:  4\n",
      "Nhap nam:  1976\n"
     ]
    },
    {
     "name": "stdout",
     "output_type": "stream",
     "text": [
      "Thang 4 co 30 ngay\n"
     ]
    }
   ],
   "source": [
    "# 8. Nhập vào tháng và năm. Cho biết tháng đó có bao nhiêu ngày\n",
    "thang = int(input(\"Nhap thang: \"))\n",
    "nam = int(input(\"Nhap nam: \"))\n",
    "if thang in [1, 3, 5, 7, 8, 10, 12]:\n",
    "    print(\"Thang\", thang, \"co 31 ngay\")\n",
    "elif thang in [4, 6, 9, 11]:\n",
    "    print(\"Thang\", thang, \"co 30 ngay\")\n",
    "elif thang == 2:\n",
    "    if (nam % 400 == 0) or (nam % 4 == 0 and nam % 100 != 0):\n",
    "        print(\"Thang 2 co 29 ngay\")\n",
    "    else:\n",
    "        print(\"Thang 2 co 28 ngay\")\n",
    "else:\n",
    "    print(\"Thang khong hop le\")"
   ]
  },
  {
   "cell_type": "code",
   "execution_count": 14,
   "id": "d2fe6e0a-c7b9-49ad-841d-20a9dd8d9588",
   "metadata": {},
   "outputs": [
    {
     "name": "stdin",
     "output_type": "stream",
     "text": [
      "Nhap 3 canh:  5 6 10\n"
     ]
    },
    {
     "name": "stdout",
     "output_type": "stream",
     "text": [
      "La tam giac\n",
      "Tam giac thuong\n"
     ]
    }
   ],
   "source": [
    "# 9. Kiểm tra 3 cạnh tam giác\n",
    "a, b, c = map(float, input(\"Nhap 3 canh: \").split())\n",
    "if a + b > c and a + c > b and b + c > a:\n",
    "    print(\"La tam giac\")\n",
    "    if a == b == c:\n",
    "        print(\"Tam giac deu\")\n",
    "    elif a == b or a == c or b == c:\n",
    "        print(\"Tam giac can\")\n",
    "    elif a*a + b*b == c*c or a*a + c*c == b*b or b*b + c*c == a*a:\n",
    "        print(\"Tam giac vuong\")\n",
    "    else:\n",
    "        print(\"Tam giac thuong\")\n",
    "else:\n",
    "    print(\"Khong phai tam giac\")"
   ]
  },
  {
   "cell_type": "markdown",
   "id": "6fec9694-9fa9-47ff-8c40-d661e74ea59f",
   "metadata": {},
   "source": [
    "## Cấu trúc lặp"
   ]
  },
  {
   "cell_type": "code",
   "execution_count": 16,
   "id": "b6fe98bd-4832-45dc-a561-2bfeae1a59f9",
   "metadata": {},
   "outputs": [
    {
     "name": "stdin",
     "output_type": "stream",
     "text": [
      "Nhap so nguyen duong n (>0):  10\n"
     ]
    },
    {
     "name": "stdout",
     "output_type": "stream",
     "text": [
      "10 khong la so doi xung\n",
      "10 khong la so chinh phuong\n",
      "10 khong la so nguyen to\n",
      "Chu so lon nhat: 1\n",
      "Chu so nho nhat: 0\n",
      "Cac chu so giam dan\n"
     ]
    }
   ],
   "source": [
    "# --- Bài 1 ---\n",
    "n = int(input(\"Nhap so nguyen duong n (>0): \"))\n",
    "\n",
    "# 1.1 Kiểm tra số đối xứng\n",
    "if str(n) == str(n)[::-1]:\n",
    "    print(n, \"la so doi xung\")\n",
    "else:\n",
    "    print(n, \"khong la so doi xung\")\n",
    "\n",
    "# 1.2 Kiểm tra số chính phương\n",
    "if int(math.sqrt(n))**2 == n:\n",
    "    print(n, \"la so chinh phuong\")\n",
    "else:\n",
    "    print(n, \"khong la so chinh phuong\")\n",
    "\n",
    "# 1.3 Kiểm tra số nguyên tố\n",
    "def is_prime(x):\n",
    "    if x < 2:\n",
    "        return False\n",
    "    for i in range(2, int(math.sqrt(x)) + 1):\n",
    "        if x % i == 0:\n",
    "            return False\n",
    "    return True\n",
    "\n",
    "if is_prime(n):\n",
    "    print(n, \"la so nguyen to\")\n",
    "else:\n",
    "    print(n, \"khong la so nguyen to\")\n",
    "\n",
    "# 1.4 Chữ số lớn nhất và nhỏ nhất\n",
    "digits = [int(d) for d in str(n)]\n",
    "print(\"Chu so lon nhat:\", max(digits))\n",
    "print(\"Chu so nho nhat:\", min(digits))\n",
    "\n",
    "# 1.5 Các chữ số tăng dần hay giảm dần?\n",
    "if digits == sorted(digits):\n",
    "    print(\"Cac chu so tang dan\")\n",
    "elif digits == sorted(digits, reverse=True):\n",
    "    print(\"Cac chu so giam dan\")\n",
    "else:\n",
    "    print(\"Cac chu so khong tang/giam dan\")"
   ]
  },
  {
   "cell_type": "code",
   "execution_count": 17,
   "id": "1d287601-50c2-41c1-9e58-6b119abe3fec",
   "metadata": {},
   "outputs": [
    {
     "name": "stdin",
     "output_type": "stream",
     "text": [
      "\n",
      "Nhap n de tinh toan:  54\n"
     ]
    },
    {
     "name": "stdout",
     "output_type": "stream",
     "text": [
      "S_a = 1485\n",
      "S_b = 53955\n",
      "S_c = 4.57543039374427\n",
      "S_d = 230843697339241380472092742683027581083278564571807941132288000000000000\n",
      "S_e = 235200820952278866843442297568322826562475214315697749687568920420940313\n"
     ]
    }
   ],
   "source": [
    "# --- Bài 2 ---\n",
    "n = int(input(\"\\nNhap n de tinh toan: \"))\n",
    "\n",
    "# a. S = 1 + 2 + ... + n\n",
    "S_a = sum(range(1, n+1))\n",
    "print(\"S_a =\", S_a)\n",
    "\n",
    "# b. S = 1^2 + 2^2 + ... + n^2\n",
    "S_b = sum(i**2 for i in range(1, n+1))\n",
    "print(\"S_b =\", S_b)\n",
    "\n",
    "# c. S = 1 + 1/2 + ... + 1/n\n",
    "S_c = sum(1/i for i in range(1, n+1))\n",
    "print(\"S_c =\", S_c)\n",
    "\n",
    "# d. S = 1*2*...*n = n!\n",
    "S_d = math.factorial(n)\n",
    "print(\"S_d =\", S_d)\n",
    "\n",
    "# e. S = 1! + 2! + ... + n!\n",
    "S_e = sum(math.factorial(i) for i in range(1, n+1))\n",
    "print(\"S_e =\", S_e)"
   ]
  },
  {
   "cell_type": "code",
   "execution_count": 19,
   "id": "87af9c91-07ca-4365-b7d9-c43e7cfb4ce7",
   "metadata": {},
   "outputs": [
    {
     "name": "stdin",
     "output_type": "stream",
     "text": [
      "\n",
      "Nhap a, b, n (voi a,b < n):  12 28 50\n"
     ]
    },
    {
     "name": "stdout",
     "output_type": "stream",
     "text": [
      "Tong cac so < n chia het cho a nhung khong chia het cho b: 120\n"
     ]
    }
   ],
   "source": [
    "# --- Bài 3 ---\n",
    "a, b, n = map(int, input(\"\\nNhap a, b, n (voi a,b < n): \").split())\n",
    "tong = sum(i for i in range(n) if i % a == 0 and i % b != 0)\n",
    "print(\"Tong cac so < n chia het cho a nhung khong chia het cho b:\", tong)"
   ]
  },
  {
   "cell_type": "code",
   "execution_count": 20,
   "id": "26fa0edf-4436-4e7a-a99f-6847200916b4",
   "metadata": {},
   "outputs": [
    {
     "name": "stdin",
     "output_type": "stream",
     "text": [
      "\n",
      "Nhap n (0 < n < 50):  38\n"
     ]
    },
    {
     "name": "stdout",
     "output_type": "stream",
     "text": [
      "Tong cac so nguyen to nho hon n: 197\n"
     ]
    }
   ],
   "source": [
    "# --- Bài 4 ---\n",
    "n = int(input(\"\\nNhap n (0 < n < 50): \"))\n",
    "tong_nguyento = sum(i for i in range(2, n) if is_prime(i))\n",
    "print(\"Tong cac so nguyen to nho hon n:\", tong_nguyento)"
   ]
  },
  {
   "cell_type": "code",
   "execution_count": 21,
   "id": "c81c5cc4-26d8-4948-8a9d-f4baa1afcc45",
   "metadata": {},
   "outputs": [
    {
     "name": "stdin",
     "output_type": "stream",
     "text": [
      "Nhap so nguyen duong n:  26\n"
     ]
    },
    {
     "name": "stdout",
     "output_type": "stream",
     "text": [
      "So nguoc lai: 62\n"
     ]
    }
   ],
   "source": [
    "# --- Bài 5 ---\n",
    "# Nhập số nguyên dương n. Xuất ra số ngược lại\n",
    "n = int(input(\"Nhap so nguyen duong n: \"))\n",
    "so_nguoc = int(str(n)[::-1])\n",
    "print(\"So nguoc lai:\", so_nguoc)"
   ]
  },
  {
   "cell_type": "code",
   "execution_count": 22,
   "id": "a71d2705-51ae-4e6c-a2aa-418379d4aaaf",
   "metadata": {},
   "outputs": [
    {
     "name": "stdout",
     "output_type": "stream",
     "text": [
      "\n",
      "Cac so co 2 chu so thoa dieu kien:\n",
      "36 44 63 \n"
     ]
    }
   ],
   "source": [
    "# --- Bài 6 ---\n",
    "# Tìm các số có 2 chữ số sao cho tích = 2 * tổng\n",
    "print(\"\\nCac so co 2 chu so thoa dieu kien:\")\n",
    "for x in range(10, 100):\n",
    "    a = x // 10   # chữ số hàng chục\n",
    "    b = x % 10    # chữ số hàng đơn vị\n",
    "    if a * b == 2 * (a + b):\n",
    "        print(x, end=\" \")\n",
    "print()"
   ]
  },
  {
   "cell_type": "code",
   "execution_count": 23,
   "id": "83db8975-dd5a-48c8-b7a6-7ae6cb6a1a2b",
   "metadata": {},
   "outputs": [
    {
     "name": "stdin",
     "output_type": "stream",
     "text": [
      "\n",
      "Nhap 2 so nguyen duong a, b:  3 7\n"
     ]
    },
    {
     "name": "stdout",
     "output_type": "stream",
     "text": [
      "Uoc so chung lon nhat (GCD) = 1\n"
     ]
    }
   ],
   "source": [
    "# --- Bài 7 ---\n",
    "# Tìm ước số chung lớn nhất (GCD)\n",
    "import math\n",
    "a, b = map(int, input(\"\\nNhap 2 so nguyen duong a, b: \").split())\n",
    "print(\"Uoc so chung lon nhat (GCD) =\", math.gcd(a, b))"
   ]
  },
  {
   "cell_type": "code",
   "execution_count": 24,
   "id": "3c24acb6-0c9e-4888-9101-2ff039fb007f",
   "metadata": {},
   "outputs": [
    {
     "name": "stdin",
     "output_type": "stream",
     "text": [
      "\n",
      "Nhap n:  14\n"
     ]
    },
    {
     "name": "stdout",
     "output_type": "stream",
     "text": [
      "Day Fibonacci: [1, 1, 2, 3, 5, 8, 13, 21, 34, 55, 89, 144, 233, 377]\n"
     ]
    }
   ],
   "source": [
    "# --- Bài 8 ---\n",
    "# In n số đầu tiên trong dãy Fibonacci\n",
    "n = int(input(\"\\nNhap n: \"))\n",
    "fibo = [1, 1]\n",
    "for i in range(2, n):\n",
    "    fibo.append(fibo[-1] + fibo[-2])\n",
    "print(\"Day Fibonacci:\", fibo[:n])"
   ]
  },
  {
   "cell_type": "markdown",
   "id": "f430470c-6850-4fce-9ad8-590f678f29a5",
   "metadata": {},
   "source": [
    "## Ma Trận 2 Chiều"
   ]
  },
  {
   "cell_type": "markdown",
   "id": "9f7a648b-8194-4253-b064-1414dbd35b52",
   "metadata": {},
   "source": [
    "### 1. Nhập xuất mảng 2 chiều "
   ]
  },
  {
   "cell_type": "code",
   "execution_count": 25,
   "id": "0ce169b8-1d9c-459f-a002-1aef46d370d3",
   "metadata": {},
   "outputs": [
    {
     "name": "stdout",
     "output_type": "stream",
     "text": [
      "Writing NhapXuatMang2C.in0\n"
     ]
    }
   ],
   "source": [
    "%%writefile NhapXuatMang2C.in0\n",
    "2 3\n",
    "1 2 3\n",
    "4 5 6"
   ]
  },
  {
   "cell_type": "code",
   "execution_count": 26,
   "id": "ac65fe31-9935-4543-b53e-f4345523ff3e",
   "metadata": {},
   "outputs": [
    {
     "name": "stdout",
     "output_type": "stream",
     "text": [
      "Array A:\n",
      "1 2 3\n",
      "4 5 6\n"
     ]
    }
   ],
   "source": [
    "!python NhapXuatMang2C.py < NhapXuatMang2C.in0"
   ]
  },
  {
   "cell_type": "markdown",
   "id": "cc24a4be-9c3c-4069-a2ac-5bc2a40a4f67",
   "metadata": {},
   "source": [
    "### 2. Tính trung bình cộng mảng 2 chiều"
   ]
  },
  {
   "cell_type": "code",
   "execution_count": 27,
   "id": "020580f6-4d34-4d8c-9a08-f770a9cffb3e",
   "metadata": {},
   "outputs": [
    {
     "name": "stdout",
     "output_type": "stream",
     "text": [
      "Writing TrungBinhCongMang2C.in0\n"
     ]
    }
   ],
   "source": [
    "%%writefile TrungBinhCongMang2C.in0\n",
    "3 4\n",
    "1.5 -3.2 4.8 9.1\n",
    "-1.8 3.9 2.7 4.5\n",
    "3.3 9.6 -2.8 -4.9"
   ]
  },
  {
   "cell_type": "code",
   "execution_count": 28,
   "id": "496b5ed3-4d86-446b-8454-a707eb0fc1b5",
   "metadata": {},
   "outputs": [
    {
     "name": "stdout",
     "output_type": "stream",
     "text": [
      "Trung binh cong cac so duong: 4.925\n"
     ]
    }
   ],
   "source": [
    "!python TrungBinhCongMang2C.py < TrungBinhCongMang2C.in0"
   ]
  },
  {
   "cell_type": "markdown",
   "id": "0fd0488d-fab0-45f3-9391-17e03d94a811",
   "metadata": {},
   "source": [
    "### 3. Ma trận toàn chẵn"
   ]
  },
  {
   "cell_type": "code",
   "execution_count": 29,
   "id": "7214de41-c697-4f0b-98d9-51630e1fd81f",
   "metadata": {},
   "outputs": [
    {
     "name": "stdout",
     "output_type": "stream",
     "text": [
      "Writing MaTranToanChan.in0\n"
     ]
    }
   ],
   "source": [
    "%%writefile MaTranToanChan.in0\n",
    "2 3\n",
    "2 4 6\n",
    "8 10 12"
   ]
  },
  {
   "cell_type": "code",
   "execution_count": 31,
   "id": "7e776d37-3dd0-4297-b830-12174d7082f0",
   "metadata": {},
   "outputs": [
    {
     "name": "stdout",
     "output_type": "stream",
     "text": [
      "Writing MaTranToanChan.in1\n"
     ]
    }
   ],
   "source": [
    "%%writefile MaTranToanChan.in1\n",
    "2 3\n",
    "2 4 6 \n",
    "8 10 13"
   ]
  },
  {
   "cell_type": "code",
   "execution_count": 32,
   "id": "d71f790a-f71b-40b3-a9e4-193dceee11fa",
   "metadata": {},
   "outputs": [
    {
     "name": "stdout",
     "output_type": "stream",
     "text": [
      "Mang A toan chan!\n",
      "Mang A khong toan chan!\n"
     ]
    }
   ],
   "source": [
    "!python MaTranToanChan.py < MaTranToanChan.in0\n",
    "!python MaTranToanChan.py < MaTranToanChan.in1"
   ]
  },
  {
   "cell_type": "markdown",
   "id": "001a4e48-3fc2-4281-84f5-cda992519529",
   "metadata": {},
   "source": [
    "### 4. Dòng nhiều nguyên âm nhất"
   ]
  },
  {
   "cell_type": "code",
   "execution_count": 33,
   "id": "91c2da2f-3091-4a41-b2e0-87d53358653b",
   "metadata": {},
   "outputs": [
    {
     "name": "stdout",
     "output_type": "stream",
     "text": [
      "Writing DongNhieuNguyenAmNhat.in0\n"
     ]
    }
   ],
   "source": [
    "%%writefile DongNhieuNguyenAmNhat.in0\n",
    "3 3\n",
    "A c e\n",
    "d b g\n",
    "U i E"
   ]
  },
  {
   "cell_type": "code",
   "execution_count": 34,
   "id": "038555ad-a227-499b-8b14-2d3893e95e71",
   "metadata": {},
   "outputs": [
    {
     "name": "stdout",
     "output_type": "stream",
     "text": [
      "Dong 3 co nhieu nguyen am nhat voi so luong nguyen am la 3.\n"
     ]
    }
   ],
   "source": [
    "!python DongNhieuNguyenAmNhat.py < DongNhieuNguyenAmNhat.in0"
   ]
  },
  {
   "cell_type": "markdown",
   "id": "8108bcd1-0139-4920-bd45-deb109c73044",
   "metadata": {},
   "source": [
    "### 5. Cột có nhiều nguyên tố nhất"
   ]
  },
  {
   "cell_type": "code",
   "execution_count": 35,
   "id": "c519ced8-42d2-4cdb-af93-677cfda68fb3",
   "metadata": {},
   "outputs": [
    {
     "name": "stdout",
     "output_type": "stream",
     "text": [
      "Writing CotNhieuNguyenToNhat.in0\n"
     ]
    }
   ],
   "source": [
    "%%writefile CotNhieuNguyenToNhat.in0\n",
    "5 4\n",
    "19 4 6 13\n",
    "8 6 3 2\n",
    "7 5 7 8\n",
    "11 2 7 6\n",
    "3 9 2 15"
   ]
  },
  {
   "cell_type": "code",
   "execution_count": 36,
   "id": "f86c9aaa-0735-4f77-9a21-6842ed7c4983",
   "metadata": {},
   "outputs": [
    {
     "name": "stdout",
     "output_type": "stream",
     "text": [
      "Cac cot nhieu nguyen to nhat: 0 2\n"
     ]
    }
   ],
   "source": [
    "!python CotNhieuNguyenToNhat.py < CotNhieuNguyenToNhat.in0"
   ]
  },
  {
   "cell_type": "markdown",
   "id": "c07b38cf-cdf4-4e5b-ab15-2abcb80c078a",
   "metadata": {},
   "source": [
    "## Ma Trận Vuông"
   ]
  },
  {
   "cell_type": "markdown",
   "id": "0bb09980-9b40-4bc9-9b88-50e9ab2aafd4",
   "metadata": {},
   "source": [
    "### 1. In chéo chính, phụ"
   ]
  },
  {
   "cell_type": "code",
   "execution_count": 37,
   "id": "324ba0a7-ec31-49a0-a30c-81ed04750b43",
   "metadata": {},
   "outputs": [
    {
     "name": "stdout",
     "output_type": "stream",
     "text": [
      "Writing InCheoChinhPhu.in0\n"
     ]
    }
   ],
   "source": [
    "%%writefile InCheoChinhPhu.in0\n",
    "5\n",
    "5 5 5 0 0\n",
    "0 5 0 1 1\n",
    "0 0 5 0 0\n",
    "0 0 0 2 3\n",
    "1 1 4 7 7"
   ]
  },
  {
   "cell_type": "code",
   "execution_count": 38,
   "id": "edfdc891-3404-4c4d-98e3-20509d87f237",
   "metadata": {},
   "outputs": [
    {
     "name": "stdout",
     "output_type": "stream",
     "text": [
      "Cac phan tu tren cheo chinh: 5 5 5 2 7\n",
      "Cac phan tu tren cheo phu: 0 1 5 0 1\n"
     ]
    }
   ],
   "source": [
    "!python InCheoChinhPhu.py < InCheoChinhPhu.in0"
   ]
  },
  {
   "cell_type": "markdown",
   "id": "be7accbf-4bb9-4942-b58d-734e995658a2",
   "metadata": {},
   "source": [
    "### 2. In tam giác trên chéo chính, phụ"
   ]
  },
  {
   "cell_type": "code",
   "execution_count": 40,
   "id": "6fad4740-02a2-4d61-9dd9-662d4ce2b257",
   "metadata": {},
   "outputs": [
    {
     "name": "stdout",
     "output_type": "stream",
     "text": [
      "Writing InTamGiacTrenChinhPhu.in0\n"
     ]
    }
   ],
   "source": [
    "%%writefile InTamGiacTrenChinhPhu.in0\n",
    "5\n",
    "5 5 5 0 0\n",
    "0 5 0 1 1\n",
    "0 0 5 0 0\n",
    "0 0 0 2 3\n",
    "1 1 4 7 7"
   ]
  },
  {
   "cell_type": "code",
   "execution_count": 41,
   "id": "29ced7e6-029f-49e0-8412-7c6bbc0673b5",
   "metadata": {},
   "outputs": [
    {
     "name": "stdout",
     "output_type": "stream",
     "text": [
      "Tam giac tren cheo chinh: 5 5 0 0 0 1 1 0 0 3\n",
      "Tam giac tren cheo phu: 5 5 5 0 0 5 0 0 0 0\n"
     ]
    }
   ],
   "source": [
    "!python InTamGiacTrenChinhPhu.py < InTamGiacTrenChinhPhu.in0"
   ]
  },
  {
   "cell_type": "markdown",
   "id": "1a317a9b-879a-4c8e-8138-da9ec8181899",
   "metadata": {},
   "source": [
    "### 3. Đếm loại số tam giác trên chéo chính "
   ]
  },
  {
   "cell_type": "code",
   "execution_count": 42,
   "id": "833be408-52c9-4822-8631-f050f2341f4a",
   "metadata": {},
   "outputs": [
    {
     "name": "stdout",
     "output_type": "stream",
     "text": [
      "Writing DemSoTamGiacTren.in0\n"
     ]
    }
   ],
   "source": [
    "%%writefile DemSoTamGiacTren.in0\n",
    "5\n",
    "5 5 5 0 0\n",
    "0 5 0 1 1\n",
    "0 0 5 0 0\n",
    "0 0 0 2 3\n",
    "1 1 4 7 7"
   ]
  },
  {
   "cell_type": "code",
   "execution_count": 43,
   "id": "37fbf61a-c57b-4050-9eb0-3591fb003d83",
   "metadata": {},
   "outputs": [
    {
     "name": "stdout",
     "output_type": "stream",
     "text": [
      "Trong nua tam giac tren cheo chinh:\n",
      "+ 0 so am\n",
      "+ 5 so duong\n",
      "+ 5 so khong\n"
     ]
    }
   ],
   "source": [
    "!python DemSoTamGiacTren.py < DemSoTamGiacTren.in0"
   ]
  },
  {
   "cell_type": "markdown",
   "id": "339fa83d-0f4a-4312-b3cc-f1f2a6954bf7",
   "metadata": {},
   "source": [
    "### 4. In các đường song song chéo chính, phụ "
   ]
  },
  {
   "cell_type": "code",
   "execution_count": 44,
   "id": "0daf426b-22f9-4605-b66b-488b4d785928",
   "metadata": {},
   "outputs": [
    {
     "name": "stdout",
     "output_type": "stream",
     "text": [
      "Writing InCacDuongChinhPhu.in0\n"
     ]
    }
   ],
   "source": [
    "%%writefile InCacDuongChinhPhu.in0\n",
    "5\n",
    "1 2 3 4 5\n",
    "6 7 8 9 10\n",
    "11 12 13 14 15\n",
    "16 17 18 19 20\n",
    "21 22 23 24 25"
   ]
  },
  {
   "cell_type": "code",
   "execution_count": 45,
   "id": "67888feb-d6e3-4c12-bba7-4aec16b47bdd",
   "metadata": {},
   "outputs": [
    {
     "name": "stdout",
     "output_type": "stream",
     "text": [
      "Cac duong song song cheo chinh: [[5], [4, 10], [3, 9, 15], [2, 8, 14, 20], [1, 7, 13, 19, 25], [6, 12, 18, 24], [11, 17, 23], [16, 22], [21]]\n",
      "Cac duong song song cheo phu: [[1], [2, 6], [3, 7, 11], [4, 8, 12, 16], [5, 9, 13, 17, 21], [10, 14, 18, 22], [15, 19, 23], [20, 24], [25]]\n"
     ]
    }
   ],
   "source": [
    "!python InCacDuongChinhPhu.py < InCacDuongChinhPhu.in0"
   ]
  },
  {
   "cell_type": "markdown",
   "id": "53c4e3e9-30c9-45c0-8d8c-3d0a7ecd4fff",
   "metadata": {},
   "source": [
    "### 5. In các cột, dòng theo hình "
   ]
  },
  {
   "cell_type": "code",
   "execution_count": 46,
   "id": "b96bddbe-e6d4-43ea-be43-85e7f709dcea",
   "metadata": {},
   "outputs": [
    {
     "name": "stdout",
     "output_type": "stream",
     "text": [
      "Writing InCacCotDongTheoHinh.in0\n"
     ]
    }
   ],
   "source": [
    "%%writefile InCacCotDongTheoHinh.in0\n",
    "5\n",
    "1 2 3 4 5\n",
    "6 7 8 9 10\n",
    "11 12 13 14 15\n",
    "16 17 18 19 20\n",
    "21 22 23 24 25"
   ]
  },
  {
   "cell_type": "code",
   "execution_count": 47,
   "id": "a2e62d6c-2821-4e07-8e81-3fb45c27b6e7",
   "metadata": {},
   "outputs": [
    {
     "name": "stdout",
     "output_type": "stream",
     "text": [
      "Cac dong: [[1, 2, 3, 4, 5], [10, 9, 8, 7, 6], [11, 12, 13, 14, 15], [20, 19, 18, 17, 16], [21, 22, 23, 24, 25]]\n",
      "Cac cot: [[1, 6, 11, 16, 21], [22, 17, 12, 7, 2], [3, 8, 13, 18, 23], [24, 19, 14, 9, 4], [5, 10, 15, 20, 25]]\n"
     ]
    }
   ],
   "source": [
    "!python InCacCotDongTheoHinh.py < InCacCotDongTheoHinh.in0"
   ]
  },
  {
   "cell_type": "markdown",
   "id": "809921c8-fd02-425a-841d-18123bf1e450",
   "metadata": {},
   "source": [
    "## Các cấu trúc dữ liệu cơ sở trong Python (List, Tuple, Set, Dictionary)"
   ]
  },
  {
   "cell_type": "markdown",
   "id": "13fcd178-3e12-4ecb-b504-74e1a9c3f2c1",
   "metadata": {},
   "source": [
    "### Tần Số Xuất Hiện Của Từ"
   ]
  },
  {
   "cell_type": "code",
   "execution_count": 48,
   "id": "e3383c45-9c84-4da6-b9c6-8c4043b45756",
   "metadata": {},
   "outputs": [
    {
     "name": "stdout",
     "output_type": "stream",
     "text": [
      "Writing WordHistogram.in0\n"
     ]
    }
   ],
   "source": [
    "%%writefile WordHistogram.in0\n",
    "2\n",
    "Hôm nay, trời đẹp quá!\n",
    "Hôm qua, trời mưa phải không?"
   ]
  },
  {
   "cell_type": "code",
   "execution_count": 49,
   "id": "8605c7c8-60fa-45c7-8956-710e013a29e7",
   "metadata": {},
   "outputs": [
    {
     "name": "stdout",
     "output_type": "stream",
     "text": [
      "hôm: 2\n",
      "nay: 1\n",
      "trời: 2\n",
      "đẹp: 1\n",
      "quá: 1\n",
      "qua: 1\n",
      "mưa: 1\n",
      "phải: 1\n",
      "không: 1\n"
     ]
    }
   ],
   "source": [
    "!python WordHistogram.py < WordHistogram.in0"
   ]
  },
  {
   "cell_type": "markdown",
   "id": "518fe3f3-d7c8-4194-a837-bb32481b4016",
   "metadata": {},
   "source": [
    "### Đảo Từ"
   ]
  },
  {
   "cell_type": "code",
   "execution_count": 50,
   "id": "b294e2f1-9637-4ca7-9ef9-51b802d6b5e0",
   "metadata": {},
   "outputs": [
    {
     "name": "stdout",
     "output_type": "stream",
     "text": [
      "Writing ReverseWord.in0\n"
     ]
    }
   ],
   "source": [
    "%%writefile ReverseWord.in0\n",
    "1\n",
    "CA AN KIEN"
   ]
  },
  {
   "cell_type": "code",
   "execution_count": 51,
   "id": "4fd6b9c5-db90-4e3f-973d-8ff5005b85a7",
   "metadata": {},
   "outputs": [
    {
     "name": "stdout",
     "output_type": "stream",
     "text": [
      "KIEN AN CA\n"
     ]
    }
   ],
   "source": [
    "!python ReverseWord.py < ReverseWord.in0"
   ]
  },
  {
   "cell_type": "markdown",
   "id": "4049c6cd-4cea-4fe9-bcaa-1f309624ecc8",
   "metadata": {},
   "source": [
    "### Phần tử quan trọng"
   ]
  },
  {
   "cell_type": "code",
   "execution_count": 52,
   "id": "cc55e319-99d4-4868-b850-e86e4da208d8",
   "metadata": {},
   "outputs": [
    {
     "name": "stdout",
     "output_type": "stream",
     "text": [
      "Writing MajorityElement.in0\n"
     ]
    }
   ],
   "source": [
    "%%writefile MajorityElement.in0\n",
    "3\n",
    "3 2 3"
   ]
  },
  {
   "cell_type": "code",
   "execution_count": 53,
   "id": "29833d5c-2758-4706-8788-3c7cd9d3fd2c",
   "metadata": {},
   "outputs": [
    {
     "name": "stdout",
     "output_type": "stream",
     "text": [
      "3\n"
     ]
    }
   ],
   "source": [
    "!python MajorityElement.py < MajorityElement.in0"
   ]
  },
  {
   "cell_type": "markdown",
   "id": "3a1b3d49-2d7f-4330-9361-0421ff205a3c",
   "metadata": {},
   "source": [
    "### Số Hạnh Phúc"
   ]
  },
  {
   "cell_type": "code",
   "execution_count": 1,
   "id": "04aff308-1f1b-4aef-ba37-a7e26eea54cd",
   "metadata": {},
   "outputs": [
    {
     "name": "stdout",
     "output_type": "stream",
     "text": [
      "Writing HappyNumber.in0\n"
     ]
    }
   ],
   "source": [
    "%%writefile HappyNumber.in0\n",
    "19"
   ]
  },
  {
   "cell_type": "code",
   "execution_count": 2,
   "id": "b0f0cb0f-679e-4b23-80ab-0d0a205a4d7a",
   "metadata": {},
   "outputs": [
    {
     "name": "stdout",
     "output_type": "stream",
     "text": [
      "True\n"
     ]
    }
   ],
   "source": [
    "!python HappyNumber.py < HappyNumber.in0"
   ]
  },
  {
   "cell_type": "markdown",
   "id": "417d41cd-3f0a-4dec-a5e7-28b05b90f6ef",
   "metadata": {},
   "source": [
    "### Chuỗi Đẳng Cấu"
   ]
  },
  {
   "cell_type": "code",
   "execution_count": 3,
   "id": "722ee7a9-97b1-4b71-9792-bc28a620a6eb",
   "metadata": {},
   "outputs": [
    {
     "name": "stdout",
     "output_type": "stream",
     "text": [
      "Writing IsomorphicStrings.in0\n"
     ]
    }
   ],
   "source": [
    "%%writefile IsomorphicStrings.in0\n",
    "egg\n",
    "add"
   ]
  },
  {
   "cell_type": "code",
   "execution_count": 4,
   "id": "31b26b56-fc41-43f7-9874-60953d137a19",
   "metadata": {},
   "outputs": [
    {
     "name": "stdout",
     "output_type": "stream",
     "text": [
      "True\n"
     ]
    }
   ],
   "source": [
    "!python IsomorphicStrings.py < IsomorphicStrings.in0"
   ]
  },
  {
   "cell_type": "markdown",
   "id": "570d1aac-2535-48bc-a3bd-c9c290120955",
   "metadata": {},
   "source": [
    "# Kết thúc"
   ]
  },
  {
   "cell_type": "code",
   "execution_count": 5,
   "id": "ffe0be11-e31d-4345-99c1-16318c2ac582",
   "metadata": {},
   "outputs": [
    {
     "name": "stdout",
     "output_type": "stream",
     "text": [
      "[NbConvertApp] Converting notebook Baitapminhhoa.ipynb to html\n",
      "[NbConvertApp] Writing 447935 bytes to Baitapminhhoa.html\n"
     ]
    }
   ],
   "source": [
    "!jupyter nbconvert Baitapminhhoa.ipynb --to html"
   ]
  }
 ],
 "metadata": {
  "kernelspec": {
   "display_name": "Python 3 (ipykernel)",
   "language": "python",
   "name": "python3"
  },
  "language_info": {
   "codemirror_mode": {
    "name": "ipython",
    "version": 3
   },
   "file_extension": ".py",
   "mimetype": "text/x-python",
   "name": "python",
   "nbconvert_exporter": "python",
   "pygments_lexer": "ipython3",
   "version": "3.12.1"
  }
 },
 "nbformat": 4,
 "nbformat_minor": 5
}
