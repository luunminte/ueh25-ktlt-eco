{
 "cells": [
  {
   "cell_type": "markdown",
   "id": "b834cffa-ea15-40ba-b2b3-5bc019b76584",
   "metadata": {},
   "source": [
    "# BÀI TẬP MẪU"
   ]
  },
  {
   "cell_type": "markdown",
   "id": "e2bd284c-e5c2-4fd7-bf19-6fc3548086a1",
   "metadata": {},
   "source": [
    "### Bài 1. In chuỗi"
   ]
  },
  {
   "cell_type": "code",
   "execution_count": 1,
   "id": "fcf7487d-d563-4cbc-ac8f-de8ff4d22762",
   "metadata": {},
   "outputs": [
    {
     "name": "stdout",
     "output_type": "stream",
     "text": [
      "Whoever is happy will make others happy too\n",
      "--Anne Frank\n"
     ]
    }
   ],
   "source": [
    "%run InChuoi.py"
   ]
  },
  {
   "cell_type": "markdown",
   "id": "32137077-8f4d-47f8-940f-ebfdebfbbee1",
   "metadata": {},
   "source": [
    "### Bài 2. Biểu thức tính toán "
   ]
  },
  {
   "cell_type": "code",
   "execution_count": 1,
   "id": "5feb6356-ee41-4937-b235-19c6a2989be7",
   "metadata": {},
   "outputs": [
    {
     "name": "stdin",
     "output_type": "stream",
     "text": [
      "Moi ban nhap so a:  5\n",
      "Moi ban nhap so b:  6\n"
     ]
    },
    {
     "name": "stdout",
     "output_type": "stream",
     "text": [
      "Cac ket qua tinh toan: \n",
      "5     +     6 =    11\n",
      "5     -     6 =    -1\n",
      "5     *     6 =    30\n",
      "5     /     6 =     0\n",
      "5     /     6 =     5\n",
      "5     /     6 =  0.83\n"
     ]
    }
   ],
   "source": [
    "%run BieuThuc.py"
   ]
  },
  {
   "cell_type": "markdown",
   "id": "23dc63c2-a852-48f0-8a7b-c111174d25a6",
   "metadata": {},
   "source": [
    "### Bài 3. Biểu thức so sánh"
   ]
  },
  {
   "cell_type": "code",
   "execution_count": 4,
   "id": "98e45356-ee72-4306-9ac4-1c195f4640ca",
   "metadata": {},
   "outputs": [
    {
     "name": "stdin",
     "output_type": "stream",
     "text": [
      "Moi ban nhap so a:  2.5\n",
      "Moi ban nhap so b:  6.8\n"
     ]
    },
    {
     "name": "stdout",
     "output_type": "stream",
     "text": [
      "Ket qua so sanh hai so thuc 2.50 va 6.80:\n",
      "2.50     <     6.80:     True\n",
      "2.50     <=     6.80:     True\n",
      "2.50     >     6.80:    False\n",
      "2.50     >=     6.80:    False\n",
      "2.50     ==     6.80:    False\n",
      "2.50     !=     6.80:     True\n"
     ]
    }
   ],
   "source": [
    "%run SoSanh.py"
   ]
  },
  {
   "cell_type": "markdown",
   "id": "c1a5e00c-d30b-4b5e-a214-67ad3a452f34",
   "metadata": {},
   "source": [
    "### Bài 4. Tính giá trị hàm số"
   ]
  },
  {
   "cell_type": "code",
   "execution_count": 7,
   "id": "48266767-1fb8-4cce-8fc9-e98bedd3cdf0",
   "metadata": {},
   "outputs": [
    {
     "name": "stdin",
     "output_type": "stream",
     "text": [
      "Moi ban nhap vao gia tri cua bien so x:  2.3\n"
     ]
    },
    {
     "name": "stdout",
     "output_type": "stream",
     "text": [
      "Gia tri cua ham so f(2.30) = 3.27.\n"
     ]
    }
   ],
   "source": [
    "%run HamSo.py"
   ]
  },
  {
   "cell_type": "markdown",
   "id": "7d37929b-d551-4151-915e-0f38679fe9b4",
   "metadata": {},
   "source": [
    "### Bài 5. Tổng chữ số"
   ]
  },
  {
   "cell_type": "code",
   "execution_count": 12,
   "id": "6dd2f906-6620-4c7f-aed7-f1c21ab45d79",
   "metadata": {},
   "outputs": [
    {
     "name": "stdin",
     "output_type": "stream",
     "text": [
      "Moi ban nhap so nguyen n (co bon chu so):  1234\n"
     ]
    },
    {
     "name": "stdout",
     "output_type": "stream",
     "text": [
      "1234 = 1 + 2 + 3 + 4 = 10\n"
     ]
    }
   ],
   "source": [
    "%run TongChuSo.py"
   ]
  },
  {
   "cell_type": "markdown",
   "id": "3e8db310-3aeb-4bb3-8a8e-a153a1b93aa1",
   "metadata": {},
   "source": [
    "# BÀI TẬP THỰC HÀNH"
   ]
  },
  {
   "cell_type": "markdown",
   "id": "df050151-4fdc-4e93-b22a-d6a3797e198e",
   "metadata": {},
   "source": [
    "### Bài 1. In nhãn"
   ]
  },
  {
   "cell_type": "code",
   "execution_count": 4,
   "id": "b9a5d9f9-a80c-466e-b510-635cd975879e",
   "metadata": {},
   "outputs": [
    {
     "name": "stdout",
     "output_type": "stream",
     "text": [
      "*******************************\n",
      "* Truong: Dai Hoc UEH         *\n",
      "* Khoa: CNTT                  *\n",
      "* Ho ten:                     *\n",
      "*******************************\n"
     ]
    }
   ],
   "source": [
    "!python InNhan.py"
   ]
  },
  {
   "cell_type": "markdown",
   "id": "0e56f400-b893-4c41-9674-70c70bdd1ab5",
   "metadata": {},
   "source": [
    "### Bài 2. Tính diện tích và chu hình tròn "
   ]
  },
  {
   "cell_type": "code",
   "execution_count": 2,
   "id": "19d48146-58fd-4db7-b242-db9d54f97f68",
   "metadata": {},
   "outputs": [
    {
     "name": "stdout",
     "output_type": "stream",
     "text": [
      "Overwriting HinhTron.in0\n"
     ]
    }
   ],
   "source": [
    "%%writefile HinhTron.in0\n",
    "5"
   ]
  },
  {
   "cell_type": "code",
   "execution_count": 8,
   "id": "bc6b0b11-2a34-4f16-abb8-d33f8c1497a7",
   "metadata": {},
   "outputs": [
    {
     "name": "stdout",
     "output_type": "stream",
     "text": [
      "Dien tich S = 78.5\n",
      "Chu vi P = 31.4\n"
     ]
    }
   ],
   "source": [
    "!python HinhTron.py < HinhTron.in0"
   ]
  },
  {
   "cell_type": "markdown",
   "id": "4e5fe108-862b-4dfb-8f9a-4984f0acfd5f",
   "metadata": {},
   "source": [
    "### Bài 3. Đổi sang giây "
   ]
  },
  {
   "cell_type": "code",
   "execution_count": 6,
   "id": "df25ba2b-c70f-4df7-87ae-a78d28056c34",
   "metadata": {},
   "outputs": [
    {
     "name": "stdout",
     "output_type": "stream",
     "text": [
      "Writing DoiSangGiay.in0\n"
     ]
    }
   ],
   "source": [
    "%%writefile DoiSangGiay.in0\n",
    "1\n",
    "20\n",
    "10"
   ]
  },
  {
   "cell_type": "code",
   "execution_count": 17,
   "id": "e4465fe9-6f05-41bb-bc48-077077b18634",
   "metadata": {},
   "outputs": [
    {
     "name": "stdout",
     "output_type": "stream",
     "text": [
      "Tong so giay cua 1:20:10 la 4810 giay\n"
     ]
    }
   ],
   "source": [
    "!python DoiSangGiay.py < DoiSangGiay.in0"
   ]
  },
  {
   "cell_type": "markdown",
   "id": "1a88c6ff-070d-4256-9c64-2ecd0912e678",
   "metadata": {},
   "source": [
    "### Bài 4. Đổi sang giờ phút giây"
   ]
  },
  {
   "cell_type": "code",
   "execution_count": 10,
   "id": "801ff119-6286-4795-a4a0-8e194570bd1a",
   "metadata": {},
   "outputs": [
    {
     "name": "stdout",
     "output_type": "stream",
     "text": [
      "Writing DoiSangGioPhutGiay.in0\n"
     ]
    }
   ],
   "source": [
    "%%writefile DoiSangGioPhutGiay.in0\n",
    "4810"
   ]
  },
  {
   "cell_type": "code",
   "execution_count": 20,
   "id": "5f89b0e0-0b94-47de-8153-bfbc357107c7",
   "metadata": {},
   "outputs": [
    {
     "name": "stdout",
     "output_type": "stream",
     "text": [
      "4810 co dang 1:20:10\n"
     ]
    }
   ],
   "source": [
    "!python DoiSangGioPhutGiay.py < DoiSangGioPhutGiay.in0"
   ]
  },
  {
   "cell_type": "markdown",
   "id": "874dba4e-8f70-4f26-a72b-78701f4ccd1a",
   "metadata": {},
   "source": [
    "### Bài 5. Tính diện tích tam giác"
   ]
  },
  {
   "cell_type": "code",
   "execution_count": 15,
   "id": "ea3dcec9-a005-4a9e-a703-6e1d164f8d48",
   "metadata": {},
   "outputs": [
    {
     "name": "stdout",
     "output_type": "stream",
     "text": [
      "Writing DienTichTamGiac.in0\n"
     ]
    }
   ],
   "source": [
    "%%writefile DienTichTamGiac.in0\n",
    "2\n",
    "4\n",
    "3"
   ]
  },
  {
   "cell_type": "code",
   "execution_count": 21,
   "id": "930fd472-088e-412c-b03c-18503318304b",
   "metadata": {},
   "outputs": [
    {
     "name": "stdout",
     "output_type": "stream",
     "text": [
      "Dien tich tam giac S = 2.90\n"
     ]
    }
   ],
   "source": [
    "!python DienTichTamGiac.py < DienTichTamGiac.in0"
   ]
  },
  {
   "cell_type": "markdown",
   "id": "560a4bd1-707c-4975-92c8-9fe5d4ade3ca",
   "metadata": {},
   "source": [
    "### Bài 6. Hàm Mũ"
   ]
  },
  {
   "cell_type": "code",
   "execution_count": 1,
   "id": "59987031-6da3-4d87-a45a-dd0ddc57fb7d",
   "metadata": {},
   "outputs": [
    {
     "name": "stdout",
     "output_type": "stream",
     "text": [
      "Writing TinhMu.in0\n"
     ]
    }
   ],
   "source": [
    "%%writefile TinhMu.in0\n",
    "2\n",
    "4"
   ]
  },
  {
   "cell_type": "code",
   "execution_count": 2,
   "id": "f9243104-b32c-4cec-a896-e95b500dee37",
   "metadata": {},
   "outputs": [
    {
     "name": "stdout",
     "output_type": "stream",
     "text": [
      "Nhap so thuc a: Nhap so mu n: Ket qua 2.0^4 = 16\n"
     ]
    }
   ],
   "source": [
    "!python TinhMu.py < TinhMu.in0"
   ]
  },
  {
   "cell_type": "markdown",
   "id": "68026be7-1bdf-40ae-9964-3e7c5425f724",
   "metadata": {},
   "source": [
    "### Bài 7. Đảo số "
   ]
  },
  {
   "cell_type": "code",
   "execution_count": 3,
   "id": "f1b60f67-5f4e-46ed-824d-6417176d11e7",
   "metadata": {},
   "outputs": [
    {
     "name": "stdout",
     "output_type": "stream",
     "text": [
      "Writing DaoSo.in0\n"
     ]
    }
   ],
   "source": [
    "%%writefile DaoSo.in0\n",
    "1234"
   ]
  },
  {
   "cell_type": "code",
   "execution_count": 4,
   "id": "fbfb1d15-61de-4a09-b7da-418f17a72ce7",
   "metadata": {},
   "outputs": [
    {
     "name": "stdout",
     "output_type": "stream",
     "text": [
      "Nhap so nguyen x (4 chu so): So dao cua 1234 la: 4321\n"
     ]
    }
   ],
   "source": [
    "!python DaoSo.py < DaoSo.in0"
   ]
  },
  {
   "cell_type": "markdown",
   "id": "58c44aeb-d1f2-4873-81dc-1b47a2248da0",
   "metadata": {},
   "source": [
    "### Bài 8. Độ sang Radian"
   ]
  },
  {
   "cell_type": "code",
   "execution_count": 5,
   "id": "e779d572-d3c6-44ba-a0fd-f1a66fdc531f",
   "metadata": {},
   "outputs": [
    {
     "name": "stdout",
     "output_type": "stream",
     "text": [
      "Writing DoSangRadian.in0\n"
     ]
    }
   ],
   "source": [
    "%%writefile DoSangRadian.in0\n",
    "180"
   ]
  },
  {
   "cell_type": "code",
   "execution_count": 6,
   "id": "b8e96034-b46a-4acd-8cda-282bfee96f24",
   "metadata": {},
   "outputs": [
    {
     "name": "stdout",
     "output_type": "stream",
     "text": [
      "Nhap goc (do): 180 do = 3.14159 rad\n"
     ]
    }
   ],
   "source": [
    "!python DoSangRadian.py < DoSangRadian.in0"
   ]
  },
  {
   "cell_type": "markdown",
   "id": "eeb44218-c406-4e06-8cc5-d8e969761f6c",
   "metadata": {},
   "source": [
    "### Bài 9. Hàm số 1"
   ]
  },
  {
   "cell_type": "code",
   "execution_count": 7,
   "id": "fc347985-26f2-46ef-82fc-472fdec1b684",
   "metadata": {},
   "outputs": [
    {
     "name": "stdout",
     "output_type": "stream",
     "text": [
      "Writing HamSo1.in0\n"
     ]
    }
   ],
   "source": [
    "%%writefile HamSo1.in0\n",
    "2"
   ]
  },
  {
   "cell_type": "code",
   "execution_count": 8,
   "id": "29c763de-fad1-4ba6-bd48-16b644911633",
   "metadata": {},
   "outputs": [
    {
     "name": "stdout",
     "output_type": "stream",
     "text": [
      "Nhap x (so thuc): y1 = 100.57\n",
      "y2 = 0.04\n"
     ]
    }
   ],
   "source": [
    "!python HamSo1.py < HamSo1.in0"
   ]
  },
  {
   "cell_type": "markdown",
   "id": "c64be7a4-df6f-4234-9139-f2a306bf2849",
   "metadata": {},
   "source": [
    "### Bài 10. Khoảng cách"
   ]
  },
  {
   "cell_type": "code",
   "execution_count": 9,
   "id": "85fb308d-686e-4f0d-bf10-4540c011a9df",
   "metadata": {},
   "outputs": [
    {
     "name": "stdout",
     "output_type": "stream",
     "text": [
      "Writing KhoangCach.in0\n"
     ]
    }
   ],
   "source": [
    "%%writefile KhoangCach.in0\n",
    "1\n",
    "2\n",
    "3\n",
    "4"
   ]
  },
  {
   "cell_type": "code",
   "execution_count": 10,
   "id": "c7abd506-b923-4396-a938-e8bf98c0960e",
   "metadata": {},
   "outputs": [
    {
     "name": "stdout",
     "output_type": "stream",
     "text": [
      "Nhap x1: Nhap y1: Nhap x2: Nhap y2: Khoang cach AB = 2.82843\n"
     ]
    }
   ],
   "source": [
    "!python KhoangCach.py < KhoangCach.in0"
   ]
  },
  {
   "cell_type": "markdown",
   "id": "732b8025-7b4f-4806-be83-427c09cccfe8",
   "metadata": {},
   "source": [
    "# BÀI TẬP TRÊN LỚP"
   ]
  },
  {
   "cell_type": "markdown",
   "id": "cbb7d977-8e6b-4dd9-b787-925e716aca67",
   "metadata": {},
   "source": [
    "### Bài 1. Tìm giá trị lớn nhất"
   ]
  },
  {
   "cell_type": "code",
   "execution_count": 16,
   "id": "9648d1a6-f9eb-4277-8939-15179f27a46b",
   "metadata": {},
   "outputs": [
    {
     "name": "stdout",
     "output_type": "stream",
     "text": [
      "Overwriting Max3Num.in0\n"
     ]
    }
   ],
   "source": [
    "%%writefile Max3Num.in0\n",
    "2\n",
    "5\n",
    "4"
   ]
  },
  {
   "cell_type": "code",
   "execution_count": 18,
   "id": "ef643de4-6518-4269-945c-a0e52c90d49a",
   "metadata": {},
   "outputs": [
    {
     "name": "stdout",
     "output_type": "stream",
     "text": [
      "a = b = c = Max(2, 5, 4) = 5\n"
     ]
    }
   ],
   "source": [
    "!python Max3Num.py <Max3Num.in0"
   ]
  },
  {
   "cell_type": "markdown",
   "id": "9bff3327-eed9-4bce-ac6e-8b8844f05d44",
   "metadata": {},
   "source": [
    "### Bài 2. Sắp xếp"
   ]
  },
  {
   "cell_type": "code",
   "execution_count": 19,
   "id": "94999147-c9c5-4d38-913f-3f6e5b8b22e5",
   "metadata": {},
   "outputs": [
    {
     "name": "stdout",
     "output_type": "stream",
     "text": [
      "Writing Sort3Num.in0\n"
     ]
    }
   ],
   "source": [
    "%%writefile Sort3Num.in0\n",
    "4\n",
    "2\n",
    "3"
   ]
  },
  {
   "cell_type": "code",
   "execution_count": 21,
   "id": "c967d8ae-c7a8-4d66-b870-4a544f133ad1",
   "metadata": {},
   "outputs": [
    {
     "name": "stdout",
     "output_type": "stream",
     "text": [
      "Max(4, 2, 3) = 4\n"
     ]
    }
   ],
   "source": [
    "!python Sort3Num.py < Sort3Num.in0"
   ]
  },
  {
   "cell_type": "markdown",
   "id": "c2acdbe2-7579-4155-a49b-be0ebfb25da9",
   "metadata": {},
   "source": [
    "### Bài 3. Giải phuơng trình bậc 1 "
   ]
  },
  {
   "cell_type": "code",
   "execution_count": 22,
   "id": "81c25d8e-cb94-4c60-8a47-765c465399a5",
   "metadata": {},
   "outputs": [
    {
     "name": "stdout",
     "output_type": "stream",
     "text": [
      "Writing Solve1Deg.in0\n"
     ]
    }
   ],
   "source": [
    "%%writefile Solve1Deg.in0\n",
    "1\n",
    "5"
   ]
  },
  {
   "cell_type": "code",
   "execution_count": 23,
   "id": "6f147a15-9139-4a56-8a19-627ef5161da6",
   "metadata": {},
   "outputs": [
    {
     "name": "stdout",
     "output_type": "stream",
     "text": [
      "Writing Solve1Deg.in1\n"
     ]
    }
   ],
   "source": [
    "%%writefile Solve1Deg.in1\n",
    "0\n",
    "0"
   ]
  },
  {
   "cell_type": "code",
   "execution_count": 24,
   "id": "53535ee1-7e9a-48c3-b7de-1b6620757ab6",
   "metadata": {},
   "outputs": [
    {
     "name": "stdout",
     "output_type": "stream",
     "text": [
      "Writing Solve1Deg.in2\n"
     ]
    }
   ],
   "source": [
    "%%writefile Solve1Deg.in2\n",
    "0\n",
    "10"
   ]
  },
  {
   "cell_type": "code",
   "execution_count": 26,
   "id": "e5d885fc-c14a-4f44-9706-2aadfdef57b3",
   "metadata": {},
   "outputs": [
    {
     "name": "stdout",
     "output_type": "stream",
     "text": [
      "1.00x + 5.00 = 0: x = -5.00\n",
      "0.00x + 0.00 = 0: unlimited solutions\n",
      "0.00x + 10.00 = 0: no solution\n"
     ]
    }
   ],
   "source": [
    "!python Solve1Deg.py < Solve1Deg.in0\n",
    "!python Solve1Deg.py < Solve1Deg.in1\n",
    "!python Solve1Deg.py < Solve1Deg.in2"
   ]
  },
  {
   "cell_type": "markdown",
   "id": "43dc680e-7c85-4d7e-8123-17b22a5b15ce",
   "metadata": {},
   "source": [
    "### Bài 4. Tìm số ngày của năm (dùng rẽ nhánh)"
   ]
  },
  {
   "cell_type": "code",
   "execution_count": 27,
   "id": "f0b3e4e2-7043-454b-8ef1-cfcabd7e1744",
   "metadata": {},
   "outputs": [
    {
     "name": "stdout",
     "output_type": "stream",
     "text": [
      "Writing TotalDayYear.in0\n"
     ]
    }
   ],
   "source": [
    "%%writefile TotalDayYear.in0\n",
    "1992"
   ]
  },
  {
   "cell_type": "code",
   "execution_count": 28,
   "id": "91230d46-4b23-47d9-a194-fb37fbe2e549",
   "metadata": {},
   "outputs": [
    {
     "name": "stdout",
     "output_type": "stream",
     "text": [
      "Writing TotalDayYear.in1\n"
     ]
    }
   ],
   "source": [
    "%%writefile TotalDayYear.in1\n",
    "2000"
   ]
  },
  {
   "cell_type": "code",
   "execution_count": 29,
   "id": "c347b1a2-1f15-4701-8d8c-fde7222d0d01",
   "metadata": {},
   "outputs": [
    {
     "name": "stdout",
     "output_type": "stream",
     "text": [
      "Writing TotalDayYear.in2\n"
     ]
    }
   ],
   "source": [
    "%%writefile TotalDayYear.in2\n",
    "1997"
   ]
  },
  {
   "cell_type": "code",
   "execution_count": 38,
   "id": "2d5f3137-3945-4745-9aa5-2a2a75dd3ac2",
   "metadata": {},
   "outputs": [
    {
     "name": "stdout",
     "output_type": "stream",
     "text": [
      "366\n",
      "366\n",
      "365\n"
     ]
    }
   ],
   "source": [
    "!python TotalDayYear.py < TotalDayYear.in0\n",
    "!python TotalDayYear.py < TotalDayYear.in1\n",
    "!python TotalDayYear.py < TotalDayYear.in2"
   ]
  },
  {
   "cell_type": "markdown",
   "id": "d01e5700-3efd-4c2d-ad5e-c7fcee76f389",
   "metadata": {},
   "source": [
    "### Bài 5. Tính toán"
   ]
  },
  {
   "cell_type": "code",
   "execution_count": 33,
   "id": "33daddee-8f95-47af-a22a-09c7512f2c2b",
   "metadata": {},
   "outputs": [
    {
     "name": "stdout",
     "output_type": "stream",
     "text": [
      "Overwriting Calculation.in0\n"
     ]
    }
   ],
   "source": [
    "%%writefile Calculation.in0\n",
    "8\n",
    "3\n",
    "+"
   ]
  },
  {
   "cell_type": "code",
   "execution_count": 34,
   "id": "8c241648-397d-486c-9059-d37464ecadb2",
   "metadata": {},
   "outputs": [
    {
     "name": "stdout",
     "output_type": "stream",
     "text": [
      "Writing Calculation.in1\n"
     ]
    }
   ],
   "source": [
    "%%writefile Calculation.in1\n",
    "8\n",
    "3\n",
    "-"
   ]
  },
  {
   "cell_type": "code",
   "execution_count": 35,
   "id": "90f9776d-8ae7-4e3c-9b97-8a5934e2fc10",
   "metadata": {},
   "outputs": [
    {
     "name": "stdout",
     "output_type": "stream",
     "text": [
      "Writing Calculation.in2\n"
     ]
    }
   ],
   "source": [
    "%%writefile Calculation.in2\n",
    "8\n",
    "3\n",
    "*"
   ]
  },
  {
   "cell_type": "code",
   "execution_count": 36,
   "id": "1f0f972b-4081-4d9e-91dc-5eac8f2b2c12",
   "metadata": {},
   "outputs": [
    {
     "name": "stdout",
     "output_type": "stream",
     "text": [
      "Writing Calculation.in3\n"
     ]
    }
   ],
   "source": [
    "%%writefile Calculation.in3\n",
    "8\n",
    "3\n",
    "/"
   ]
  },
  {
   "cell_type": "code",
   "execution_count": 37,
   "id": "500b4091-17b2-4258-b6b1-cd84edff0d00",
   "metadata": {},
   "outputs": [
    {
     "name": "stdout",
     "output_type": "stream",
     "text": [
      "8 + 3 = 11.00\n",
      "8 - 3 = 5.00\n",
      "8 * 3 = 24.00\n",
      "8 / 3 = 2.67\n"
     ]
    }
   ],
   "source": [
    "!python Calculation.py < Calculation.in0\n",
    "!python Calculation.py < Calculation.in1\n",
    "!python Calculation.py < Calculation.in2\n",
    "!python Calculation.py < Calculation.in3"
   ]
  },
  {
   "cell_type": "markdown",
   "id": "2e3ad839-c724-4a7a-962b-1cb90b0d20d8",
   "metadata": {},
   "source": [
    "### Bài 6. Tính tiền điện tiêu thụ trong hộ gia đình "
   ]
  },
  {
   "cell_type": "code",
   "execution_count": 39,
   "id": "1e4c20c4-fd21-42da-9646-faeacc86e6bf",
   "metadata": {},
   "outputs": [
    {
     "name": "stdout",
     "output_type": "stream",
     "text": [
      "Writing ElectricPrice.in0\n"
     ]
    }
   ],
   "source": [
    "%%writefile ElectricPrice.in0\n",
    "3\n",
    "190"
   ]
  },
  {
   "cell_type": "code",
   "execution_count": 40,
   "id": "0fb46c76-c17c-407c-b3e0-9cf4cf6e69bc",
   "metadata": {},
   "outputs": [
    {
     "name": "stdout",
     "output_type": "stream",
     "text": [
      "Writing ElectricPrice.in1\n"
     ]
    }
   ],
   "source": [
    "%%writefile ElectricPrice.in1\n",
    "0\n",
    "50"
   ]
  },
  {
   "cell_type": "code",
   "execution_count": 41,
   "id": "7188889d-63f0-443b-b1f1-3a848da5540c",
   "metadata": {},
   "outputs": [
    {
     "name": "stdout",
     "output_type": "stream",
     "text": [
      "Writing ElectricPrice.in2\n"
     ]
    }
   ],
   "source": [
    "%%writefile ElectricPrice.in2\n",
    "100\n",
    "250"
   ]
  },
  {
   "cell_type": "code",
   "execution_count": 42,
   "id": "65b93cbd-456c-4fa5-bd63-a016dbcb1dda",
   "metadata": {},
   "outputs": [
    {
     "name": "stdout",
     "output_type": "stream",
     "text": [
      "The amount to pay for 187 kWh consumed in the month is 275,536 VND.\n",
      "The amount to pay for 50 kWh consumed in the month is 68,310 VND.\n",
      "The amount to pay for 150 kWh consumed in the month is 208,340 VND.\n"
     ]
    }
   ],
   "source": [
    "!python ElectricPrice.py < ElectricPrice.in0\n",
    "!python ElectricPrice.py < ElectricPrice.in1\n",
    "!python ElectricPrice.py < ElectricPrice.in2"
   ]
  },
  {
   "cell_type": "markdown",
   "id": "49fa600a-2af4-4063-825f-64da6ff4d8d4",
   "metadata": {},
   "source": [
    "### Bài 7. Ngày trước"
   ]
  },
  {
   "cell_type": "code",
   "execution_count": 43,
   "id": "97e4e530-0393-451e-9745-e1aa74dbe056",
   "metadata": {},
   "outputs": [
    {
     "name": "stdout",
     "output_type": "stream",
     "text": [
      "Writing PreviousDay.in0\n"
     ]
    }
   ],
   "source": [
    "%%writefile PreviousDay.in0\n",
    "1\n",
    "2\n",
    "2015"
   ]
  },
  {
   "cell_type": "code",
   "execution_count": 44,
   "id": "9d88786b-e2c2-4a28-bcd0-9684db3a63bf",
   "metadata": {},
   "outputs": [
    {
     "name": "stdout",
     "output_type": "stream",
     "text": [
      "Writing PreviousDay.in1\n"
     ]
    }
   ],
   "source": [
    "%%writefile PreviousDay.in1\n",
    "1\n",
    "1\n",
    "2015"
   ]
  },
  {
   "cell_type": "code",
   "execution_count": 45,
   "id": "6ab0a4c0-7b5a-4812-8227-2f3351fc4260",
   "metadata": {},
   "outputs": [
    {
     "name": "stdout",
     "output_type": "stream",
     "text": [
      "Previous day of 1/2/2015 is 31/1/2015.\n",
      "Previous day of 1/1/2015 is 31/12/2014.\n"
     ]
    }
   ],
   "source": [
    "!python PreviousDay.py < PreviousDay.in0\n",
    "!python PreviousDay.py < PreviousDay.in1"
   ]
  },
  {
   "cell_type": "markdown",
   "id": "de380569-c9d0-467a-a983-a4cffabdd982",
   "metadata": {},
   "source": [
    "### Bài 8. Kiểm tra tam giác"
   ]
  },
  {
   "cell_type": "code",
   "execution_count": 49,
   "id": "508da603-56ae-40dc-ad11-fb4fd56fcaae",
   "metadata": {},
   "outputs": [
    {
     "name": "stdout",
     "output_type": "stream",
     "text": [
      "Overwriting CheckTriangle.in0\n"
     ]
    }
   ],
   "source": [
    "%%writefile CheckTriangle.in0\n",
    "5\n",
    "3\n",
    "4"
   ]
  },
  {
   "cell_type": "code",
   "execution_count": 50,
   "id": "0d8bdb4c-3fbe-40e8-8ccc-c5bcbfb20ba2",
   "metadata": {},
   "outputs": [
    {
     "name": "stdout",
     "output_type": "stream",
     "text": [
      "Overwriting CheckTriangle.in1\n"
     ]
    }
   ],
   "source": [
    "%%writefile CheckTriangle.in1\n",
    "2\n",
    "5\n",
    "4"
   ]
  },
  {
   "cell_type": "code",
   "execution_count": 51,
   "id": "25ec1e95-29a5-4853-b9c9-98aa867a1ce2",
   "metadata": {},
   "outputs": [
    {
     "name": "stdout",
     "output_type": "stream",
     "text": [
      "Writing CheckTriangle.in2\n"
     ]
    }
   ],
   "source": [
    "%%writefile CheckTriangle.in2\n",
    "1\n",
    "2\n",
    "3"
   ]
  },
  {
   "cell_type": "code",
   "execution_count": 52,
   "id": "d0bb8dd2-0370-44fb-b54c-a33d78cb7d31",
   "metadata": {},
   "outputs": [
    {
     "name": "stdout",
     "output_type": "stream",
     "text": [
      "Max(5, 3, 4)= 5.\n",
      "Yes\n",
      "Max(2, 5, 4)= 5.\n",
      "Yes\n",
      "Max(1, 2, 3)= 3.\n",
      "No\n"
     ]
    }
   ],
   "source": [
    "!python CheckTriangle.py < CheckTriangle.in0\n",
    "!python CheckTriangle.py < CheckTriangle.in1\n",
    "!python CheckTriangle.py < CheckTriangle.in2"
   ]
  },
  {
   "cell_type": "markdown",
   "id": "d48a5cca-597d-4a90-af1b-31ab970ee513",
   "metadata": {},
   "source": [
    "# BÀI TẬP THÊM"
   ]
  },
  {
   "cell_type": "markdown",
   "id": "a4387789-e9ff-4608-a34d-59d10199b0c7",
   "metadata": {},
   "source": [
    "### Bài 1. Tìm giá trị lớn nhất, nhỏ nhất của 5 số"
   ]
  },
  {
   "cell_type": "code",
   "execution_count": 53,
   "id": "a950976b-98ca-4d00-aa37-8a21388250a2",
   "metadata": {},
   "outputs": [
    {
     "name": "stdout",
     "output_type": "stream",
     "text": [
      "Writing MaxMin5.in0\n"
     ]
    }
   ],
   "source": [
    "%%writefile MaxMin5.in0\n",
    "1\n",
    "5\n",
    "6\n",
    "2\n",
    "8"
   ]
  },
  {
   "cell_type": "code",
   "execution_count": 54,
   "id": "1fab1cf3-cf30-4748-bc3c-5742c60cbb47",
   "metadata": {},
   "outputs": [
    {
     "name": "stdout",
     "output_type": "stream",
     "text": [
      "1 8\n"
     ]
    }
   ],
   "source": [
    "!python MaxMin5.py < MaxMin5.in0"
   ]
  },
  {
   "cell_type": "markdown",
   "id": "f0547de2-a760-4991-95af-298ddd2cdde1",
   "metadata": {},
   "source": [
    "### Bài 2. Giải phương trình bậc 2 "
   ]
  },
  {
   "cell_type": "code",
   "execution_count": 14,
   "id": "dd8641d2-7fca-417f-ad8f-f315c465affc",
   "metadata": {},
   "outputs": [
    {
     "name": "stdout",
     "output_type": "stream",
     "text": [
      "Writing SolvQuadEq.in0\n"
     ]
    }
   ],
   "source": [
    "%%writefile SolvQuadEq.in0\n",
    "0\n",
    "0\n",
    "0"
   ]
  },
  {
   "cell_type": "code",
   "execution_count": 15,
   "id": "34ab3b2e-7d94-4fc2-8bf6-689f645b4ad2",
   "metadata": {},
   "outputs": [
    {
     "name": "stdout",
     "output_type": "stream",
     "text": [
      "Writing SolvQuadEq.in1\n"
     ]
    }
   ],
   "source": [
    "%%writefile SolvQuadEq.in1\n",
    "1\n",
    "-5\n",
    "6"
   ]
  },
  {
   "cell_type": "code",
   "execution_count": 16,
   "id": "c2299dbb-f6ed-4222-b9c4-0713bb609686",
   "metadata": {},
   "outputs": [
    {
     "name": "stdout",
     "output_type": "stream",
     "text": [
      "Writing SolvQuadEq.in2\n"
     ]
    }
   ],
   "source": [
    "%%writefile SolvQuadEq.in2\n",
    "1\n",
    "-2\n",
    "1"
   ]
  },
  {
   "cell_type": "code",
   "execution_count": 17,
   "id": "fbfe620f-b2cf-488a-84e6-974a8e62e206",
   "metadata": {},
   "outputs": [
    {
     "name": "stdout",
     "output_type": "stream",
     "text": [
      "Writing SolvQuadEq.in3\n"
     ]
    }
   ],
   "source": [
    "%%writefile SolvQuadEq.in3\n",
    "1\n",
    "9\n",
    "1"
   ]
  },
  {
   "cell_type": "code",
   "execution_count": 18,
   "id": "a6d5c144-1f01-438b-ae64-5e3a7ea923d0",
   "metadata": {},
   "outputs": [
    {
     "name": "stdout",
     "output_type": "stream",
     "text": [
      "Unlimited solutions\n",
      "x1=2.00, x2=3.00\n",
      "x1=1.00\n",
      "x1=-8.89, x2=-0.11\n"
     ]
    }
   ],
   "source": [
    "!python SolvQuadEq.py < SolvQuadEq.in0\n",
    "!python SolvQuadEq.py < SolvQuadEq.in1\n",
    "!python SolvQuadEq.py < SolvQuadEq.in2\n",
    "!python SolvQuadEq.py < SolvQuadEq.in3"
   ]
  },
  {
   "cell_type": "markdown",
   "id": "38d30ea3-f726-4d74-af16-70440860bbc2",
   "metadata": {},
   "source": [
    "### Bài 3. Tím số ngày của tháng (dùng rẽ nhánh)"
   ]
  },
  {
   "cell_type": "code",
   "execution_count": 19,
   "id": "f4d10be9-7dd0-4fd9-a0c8-69eefd36b5c7",
   "metadata": {},
   "outputs": [
    {
     "name": "stdout",
     "output_type": "stream",
     "text": [
      "Writing TotalDayMonth.in0\n"
     ]
    }
   ],
   "source": [
    "%%writefile TotalDayMonth.in0\n",
    "1\n",
    "2015"
   ]
  },
  {
   "cell_type": "code",
   "execution_count": 20,
   "id": "ec6ba9ac-cfde-4ae8-afbb-e2235ce8f986",
   "metadata": {},
   "outputs": [
    {
     "name": "stdout",
     "output_type": "stream",
     "text": [
      "Writing TotalDayMonth.in1\n"
     ]
    }
   ],
   "source": [
    "%%writefile TotalDayMonth.in1\n",
    "2\n",
    "2000"
   ]
  },
  {
   "cell_type": "code",
   "execution_count": 21,
   "id": "9491468f-779a-4544-bc60-b2f05922c15f",
   "metadata": {},
   "outputs": [
    {
     "name": "stdout",
     "output_type": "stream",
     "text": [
      "Writing TotalDayMonth.in2\n"
     ]
    }
   ],
   "source": [
    "%%writefile TotalDayMonth.in2\n",
    "2\n",
    "1900"
   ]
  },
  {
   "cell_type": "code",
   "execution_count": 23,
   "id": "69ac8066-f821-4b42-98fb-0763ee1bcd9a",
   "metadata": {},
   "outputs": [
    {
     "name": "stdout",
     "output_type": "stream",
     "text": [
      "31\n",
      "29\n",
      "28\n"
     ]
    }
   ],
   "source": [
    "!python TotalDayMonth.py < TotalDayMonth.in0\n",
    "!python TotalDayMonth.py < TotalDayMonth.in1\n",
    "!python TotalDayMonth.py < TotalDayMonth.in2"
   ]
  },
  {
   "cell_type": "markdown",
   "id": "a7a3dcc5-96a1-4ab9-bc28-4320ca21a735",
   "metadata": {},
   "source": [
    "### Bài 4. Chữ số lớn nhất"
   ]
  },
  {
   "cell_type": "code",
   "execution_count": 24,
   "id": "d2319cc9-baac-4845-a6b9-111bdc2c9286",
   "metadata": {},
   "outputs": [
    {
     "name": "stdout",
     "output_type": "stream",
     "text": [
      "Writing MaxDigit.in0\n"
     ]
    }
   ],
   "source": [
    "%%writefile MaxDigit.in0\n",
    "2387"
   ]
  },
  {
   "cell_type": "code",
   "execution_count": 25,
   "id": "68c017b5-1186-4e73-bbf9-de7e917d3582",
   "metadata": {},
   "outputs": [
    {
     "name": "stdout",
     "output_type": "stream",
     "text": [
      "Writing MaxDigit.in1\n"
     ]
    }
   ],
   "source": [
    "%%writefile MaxDigit.in1\n",
    "1002"
   ]
  },
  {
   "cell_type": "code",
   "execution_count": 26,
   "id": "363fd00a-8c1f-45ce-ba54-95458b8e3c8a",
   "metadata": {},
   "outputs": [
    {
     "name": "stdout",
     "output_type": "stream",
     "text": [
      "Writing MaxDigit.in2\n"
     ]
    }
   ],
   "source": [
    "%%writefile MaxDigit.in2\n",
    "9999"
   ]
  },
  {
   "cell_type": "code",
   "execution_count": 27,
   "id": "241a9578-5296-4cdc-a00f-bd92f34bc712",
   "metadata": {},
   "outputs": [
    {
     "name": "stdout",
     "output_type": "stream",
     "text": [
      "8\n",
      "2\n",
      "9\n"
     ]
    }
   ],
   "source": [
    "!python MaxDigit.py < MaxDigit.in0\n",
    "!python MaxDigit.py < MaxDigit.in1\n",
    "!python MaxDigit.py < MaxDigit.in2"
   ]
  },
  {
   "cell_type": "markdown",
   "id": "73c84734-20dc-4880-8c5f-17a4c996e6a6",
   "metadata": {},
   "source": [
    "### Bài 5. Điểm trung bình"
   ]
  },
  {
   "cell_type": "code",
   "execution_count": 28,
   "id": "a70383b3-5a4c-4910-bc0f-ba12ebe99aed",
   "metadata": {},
   "outputs": [
    {
     "name": "stdout",
     "output_type": "stream",
     "text": [
      "Writing GPA.in0\n"
     ]
    }
   ],
   "source": [
    "%%writefile GPA.in0\n",
    "7\n",
    "6\n",
    "8"
   ]
  },
  {
   "cell_type": "code",
   "execution_count": 32,
   "id": "06fa4b09-3147-45a3-b23f-1344a0798a28",
   "metadata": {},
   "outputs": [
    {
     "name": "stdout",
     "output_type": "stream",
     "text": [
      "Overwriting GPA.in1\n"
     ]
    }
   ],
   "source": [
    "%%writefile GPA.in1\n",
    "9\n",
    "9\n",
    "9\n"
   ]
  },
  {
   "cell_type": "code",
   "execution_count": 30,
   "id": "c938b374-ad14-4570-8f65-0199d4f0b476",
   "metadata": {},
   "outputs": [
    {
     "name": "stdout",
     "output_type": "stream",
     "text": [
      "Writing GPA.in2\n"
     ]
    }
   ],
   "source": [
    "%%writefile GPA.in2\n",
    "5\n",
    "5\n",
    "5"
   ]
  },
  {
   "cell_type": "code",
   "execution_count": 31,
   "id": "fbc51361-6f0d-4c61-8f3c-35eca319f0ec",
   "metadata": {},
   "outputs": [
    {
     "name": "stdout",
     "output_type": "stream",
     "text": [
      "Average point = 6.67, rating Pretty.\n",
      "Average point = 9.00, rating Good.\n",
      "Average point = 5.00, rating Average.\n"
     ]
    }
   ],
   "source": [
    "!python GPA.py < GPA.in0\n",
    "!python GPA.py < GPA.in1\n",
    "!python GPA.py < GPA.in2"
   ]
  },
  {
   "cell_type": "markdown",
   "id": "13f07585-4033-4243-bf85-76d5b3fa0566",
   "metadata": {},
   "source": [
    "### Bài 6. Tính tiền nước tiêu thụ trong hộ gia đình"
   ]
  },
  {
   "cell_type": "code",
   "execution_count": 33,
   "id": "d8373f6a-2092-4fb7-b374-2ad4401a54bf",
   "metadata": {},
   "outputs": [
    {
     "name": "stdout",
     "output_type": "stream",
     "text": [
      "Writing WaterPayment.in0\n"
     ]
    }
   ],
   "source": [
    "%%writefile WaterPayment.in0\n",
    "100\n",
    "120\n",
    "3"
   ]
  },
  {
   "cell_type": "code",
   "execution_count": 34,
   "id": "e87824dd-e73a-46cb-813f-4832b736e7bf",
   "metadata": {},
   "outputs": [
    {
     "name": "stdout",
     "output_type": "stream",
     "text": [
      "Writing WaterPayment.in1\n"
     ]
    }
   ],
   "source": [
    "%%writefile WaterPayment.in1\n",
    "0\n",
    "10\n",
    "2"
   ]
  },
  {
   "cell_type": "code",
   "execution_count": 35,
   "id": "e06647f2-5e48-41ac-9003-a48e156034cf",
   "metadata": {},
   "outputs": [
    {
     "name": "stdout",
     "output_type": "stream",
     "text": [
      "Writing WaterPayment.in2\n"
     ]
    }
   ],
   "source": [
    "%%writefile WaterPayment.in2\n",
    "50\n",
    "80\n",
    "4"
   ]
  },
  {
   "cell_type": "code",
   "execution_count": 36,
   "id": "481bb4a3-249e-467e-85d4-3f08e4b8485d",
   "metadata": {},
   "outputs": [
    {
     "name": "stdout",
     "output_type": "stream",
     "text": [
      "The amount to pay for 20 m3 consumed in the month is 142,140 VND.\n",
      "The amount to pay for 10 m3 consumed in the month is 59,570 VND.\n",
      "The amount to pay for 30 m3 consumed in the month is 229,770 VND.\n"
     ]
    }
   ],
   "source": [
    "!python WaterPayment.py < WaterPayment.in0\n",
    "!python WaterPayment.py < WaterPayment.in1\n",
    "!python WaterPayment.py < WaterPayment.in2"
   ]
  },
  {
   "cell_type": "markdown",
   "id": "d09a26a6-6d5b-4865-b19c-0d610d66100b",
   "metadata": {},
   "source": [
    "### Bài 7. Ngày sau"
   ]
  },
  {
   "cell_type": "code",
   "execution_count": 37,
   "id": "4787af03-24ab-4c18-9cca-f69b919de67a",
   "metadata": {},
   "outputs": [
    {
     "name": "stdout",
     "output_type": "stream",
     "text": [
      "Writing NextDay.in0\n"
     ]
    }
   ],
   "source": [
    "%%writefile NextDay.in0\n",
    "31\n",
    "1\n",
    "2015"
   ]
  },
  {
   "cell_type": "code",
   "execution_count": 38,
   "id": "e08c85a7-1be0-43b2-9f97-603f18836917",
   "metadata": {},
   "outputs": [
    {
     "name": "stdout",
     "output_type": "stream",
     "text": [
      "Writing NextDay.in1\n"
     ]
    }
   ],
   "source": [
    "%%writefile NextDay.in1\n",
    "28\n",
    "2\n",
    "2015"
   ]
  },
  {
   "cell_type": "code",
   "execution_count": 39,
   "id": "65b238b0-e07e-45a1-84a9-22761026beb7",
   "metadata": {},
   "outputs": [
    {
     "name": "stdout",
     "output_type": "stream",
     "text": [
      "Writing NextDay.in2\n"
     ]
    }
   ],
   "source": [
    "%%writefile NextDay.in2\n",
    "28\n",
    "2\n",
    "2016"
   ]
  },
  {
   "cell_type": "code",
   "execution_count": 40,
   "id": "313f2e22-f736-43c4-92f8-43ecdf14c434",
   "metadata": {},
   "outputs": [
    {
     "name": "stdout",
     "output_type": "stream",
     "text": [
      "Writing NextDay.in3\n"
     ]
    }
   ],
   "source": [
    "%%writefile NextDay.in3\n",
    "31\n",
    "12\n",
    "2019"
   ]
  },
  {
   "cell_type": "code",
   "execution_count": 41,
   "id": "4cc6b552-6690-4d7f-945b-9b7bcbf3464c",
   "metadata": {},
   "outputs": [
    {
     "name": "stdout",
     "output_type": "stream",
     "text": [
      "1/2/2015\n",
      "1/3/2015\n",
      "29/2/2016\n",
      "1/1/2020\n"
     ]
    }
   ],
   "source": [
    "!python NextDay.py < NextDay.in0\n",
    "!python NextDay.py < NextDay.in1\n",
    "!python NextDay.py < NextDay.in2\n",
    "!python NextDay.py < NextDay.in3"
   ]
  },
  {
   "cell_type": "markdown",
   "id": "e71e929b-1c9d-4960-a94c-1dfcacb692d1",
   "metadata": {},
   "source": [
    "### Bài 8. Tính chất số (1)"
   ]
  },
  {
   "cell_type": "code",
   "execution_count": 42,
   "id": "2215c730-b4f7-4260-be15-d80fe1d726fc",
   "metadata": {},
   "outputs": [
    {
     "name": "stdout",
     "output_type": "stream",
     "text": [
      "Writing NumberInfo.in0\n"
     ]
    }
   ],
   "source": [
    "%%writefile NumberInfo.in0\n",
    "156"
   ]
  },
  {
   "cell_type": "code",
   "execution_count": 43,
   "id": "0035a80e-97d3-43ec-a04f-30a347ec8118",
   "metadata": {},
   "outputs": [
    {
     "name": "stdout",
     "output_type": "stream",
     "text": [
      "Writing NumberInfo.in1\n"
     ]
    }
   ],
   "source": [
    "%%writefile NumberInfo.in1\n",
    "7"
   ]
  },
  {
   "cell_type": "code",
   "execution_count": 44,
   "id": "e68f9dff-4c84-428c-82f1-07c57036ae0b",
   "metadata": {},
   "outputs": [
    {
     "name": "stdout",
     "output_type": "stream",
     "text": [
      "Writing NumberInfo.in2\n"
     ]
    }
   ],
   "source": [
    "%%writefile NumberInfo.in2\n",
    "999"
   ]
  },
  {
   "cell_type": "code",
   "execution_count": 45,
   "id": "9a4e638a-608f-42c8-a989-9323257ffacd",
   "metadata": {},
   "outputs": [
    {
     "name": "stdout",
     "output_type": "stream",
     "text": [
      "156 has 3 digits.\n",
      "1 + 5 + 6 = 12.\n",
      "Last digit is 6.\n",
      "First digit is 1.\n",
      "7 has 1 digits.\n",
      "7 = 7.\n",
      "Last digit is 7.\n",
      "First digit is 7.\n",
      "999 has 3 digits.\n",
      "9 + 9 + 9 = 27.\n",
      "Last digit is 9.\n",
      "First digit is 9.\n"
     ]
    }
   ],
   "source": [
    "!python NumberInfo.py < NumberInfo.in0\n",
    "!python NumberInfo.py < NumberInfo.in1\n",
    "!python NumberInfo.py < NumberInfo.in2"
   ]
  },
  {
   "cell_type": "markdown",
   "id": "c02ac103-5c63-4900-8aa9-a057187ba9ad",
   "metadata": {},
   "source": [
    "# CẤU TRÚC LẶP VÀ LIST"
   ]
  },
  {
   "cell_type": "markdown",
   "id": "24ac049e-d08f-431d-b5a9-3bda88f033ed",
   "metadata": {},
   "source": [
    "### Bài 1"
   ]
  },
  {
   "cell_type": "code",
   "execution_count": 46,
   "id": "500d0d61-4186-4f0b-ab0b-160eef06dc50",
   "metadata": {},
   "outputs": [
    {
     "name": "stdout",
     "output_type": "stream",
     "text": [
      "Original list: ['3', '27', '5', '123', '9', '1']\n",
      "Sorted by string compare: ['1', '123', '27', '3', '5', '9']\n",
      "Sorted by integer compare: ['1', '3', '5', '9', '27', '123']\n"
     ]
    }
   ],
   "source": [
    "!python SortList.py"
   ]
  },
  {
   "cell_type": "markdown",
   "id": "543779e4-1fbc-4bc4-983c-b084921c4571",
   "metadata": {},
   "source": [
    "### Bài 2"
   ]
  },
  {
   "cell_type": "code",
   "execution_count": 47,
   "id": "dc39323c-19a6-4a17-a8ed-74533a14aeb5",
   "metadata": {},
   "outputs": [
    {
     "name": "stdout",
     "output_type": "stream",
     "text": [
      "Original list: [12, 24, 35, 70, 88, 120, 155]\n",
      "After removing positions 1,2,3,6: [70, 88, 155]\n"
     ]
    }
   ],
   "source": [
    "!python RemovePositions.py"
   ]
  },
  {
   "cell_type": "markdown",
   "id": "ded8ce7d-2d75-4ebb-ae8b-f245dff091a5",
   "metadata": {},
   "source": [
    "### Bài 3"
   ]
  },
  {
   "cell_type": "code",
   "execution_count": 48,
   "id": "d1d8d731-a8e2-4056-aeaa-3756a62fbfa8",
   "metadata": {},
   "outputs": [
    {
     "name": "stdout",
     "output_type": "stream",
     "text": [
      "Input A = [1, 2, 3, 1, 2, 5, 6, 7, 8]\n",
      "Output B = [1, 2, 3, 5, 6, 7, 8]\n"
     ]
    }
   ],
   "source": [
    "!python RemoveDuplicates.py"
   ]
  },
  {
   "cell_type": "markdown",
   "id": "81ccef4b-e094-4e79-b11e-33e3c37c034c",
   "metadata": {},
   "source": [
    "### Bài 4"
   ]
  }
 ],
 "metadata": {
  "kernelspec": {
   "display_name": "Python 3 (ipykernel)",
   "language": "python",
   "name": "python3"
  },
  "language_info": {
   "codemirror_mode": {
    "name": "ipython",
    "version": 3
   },
   "file_extension": ".py",
   "mimetype": "text/x-python",
   "name": "python",
   "nbconvert_exporter": "python",
   "pygments_lexer": "ipython3",
   "version": "3.12.1"
  }
 },
 "nbformat": 4,
 "nbformat_minor": 5
}
