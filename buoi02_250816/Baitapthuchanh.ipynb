{
 "cells": [
  {
   "cell_type": "markdown",
   "id": "b834cffa-ea15-40ba-b2b3-5bc019b76584",
   "metadata": {},
   "source": [
    "# BÀI TẬP MẪU"
   ]
  },
  {
   "cell_type": "markdown",
   "id": "e2bd284c-e5c2-4fd7-bf19-6fc3548086a1",
   "metadata": {},
   "source": [
    "### Bài 1. In chuỗi"
   ]
  },
  {
   "cell_type": "code",
   "execution_count": 1,
   "id": "fcf7487d-d563-4cbc-ac8f-de8ff4d22762",
   "metadata": {},
   "outputs": [
    {
     "name": "stdout",
     "output_type": "stream",
     "text": [
      "Whoever is happy will make others happy too\n",
      "--Anne Frank\n"
     ]
    }
   ],
   "source": [
    "%run InChuoi.py"
   ]
  },
  {
   "cell_type": "markdown",
   "id": "32137077-8f4d-47f8-940f-ebfdebfbbee1",
   "metadata": {},
   "source": [
    "### Bài 2. Biểu thức tính toán "
   ]
  },
  {
   "cell_type": "code",
   "execution_count": 1,
   "id": "5feb6356-ee41-4937-b235-19c6a2989be7",
   "metadata": {},
   "outputs": [
    {
     "name": "stdin",
     "output_type": "stream",
     "text": [
      "Moi ban nhap so a:  5\n",
      "Moi ban nhap so b:  6\n"
     ]
    },
    {
     "name": "stdout",
     "output_type": "stream",
     "text": [
      "Cac ket qua tinh toan: \n",
      "5     +     6 =    11\n",
      "5     -     6 =    -1\n",
      "5     *     6 =    30\n",
      "5     /     6 =     0\n",
      "5     /     6 =     5\n",
      "5     /     6 =  0.83\n"
     ]
    }
   ],
   "source": [
    "%run BieuThuc.py"
   ]
  },
  {
   "cell_type": "markdown",
   "id": "23dc63c2-a852-48f0-8a7b-c111174d25a6",
   "metadata": {},
   "source": [
    "### Bài 3. Biểu thức so sánh"
   ]
  },
  {
   "cell_type": "code",
   "execution_count": 4,
   "id": "98e45356-ee72-4306-9ac4-1c195f4640ca",
   "metadata": {},
   "outputs": [
    {
     "name": "stdin",
     "output_type": "stream",
     "text": [
      "Moi ban nhap so a:  2.5\n",
      "Moi ban nhap so b:  6.8\n"
     ]
    },
    {
     "name": "stdout",
     "output_type": "stream",
     "text": [
      "Ket qua so sanh hai so thuc 2.50 va 6.80:\n",
      "2.50     <     6.80:     True\n",
      "2.50     <=     6.80:     True\n",
      "2.50     >     6.80:    False\n",
      "2.50     >=     6.80:    False\n",
      "2.50     ==     6.80:    False\n",
      "2.50     !=     6.80:     True\n"
     ]
    }
   ],
   "source": [
    "%run SoSanh.py"
   ]
  },
  {
   "cell_type": "markdown",
   "id": "c1a5e00c-d30b-4b5e-a214-67ad3a452f34",
   "metadata": {},
   "source": [
    "### Bài 4. Tính giá trị hàm số"
   ]
  },
  {
   "cell_type": "code",
   "execution_count": 7,
   "id": "48266767-1fb8-4cce-8fc9-e98bedd3cdf0",
   "metadata": {},
   "outputs": [
    {
     "name": "stdin",
     "output_type": "stream",
     "text": [
      "Moi ban nhap vao gia tri cua bien so x:  2.3\n"
     ]
    },
    {
     "name": "stdout",
     "output_type": "stream",
     "text": [
      "Gia tri cua ham so f(2.30) = 3.27.\n"
     ]
    }
   ],
   "source": [
    "%run HamSo.py"
   ]
  },
  {
   "cell_type": "markdown",
   "id": "7d37929b-d551-4151-915e-0f38679fe9b4",
   "metadata": {},
   "source": [
    "### Bài 5. Tổng chữ số"
   ]
  },
  {
   "cell_type": "code",
   "execution_count": 12,
   "id": "6dd2f906-6620-4c7f-aed7-f1c21ab45d79",
   "metadata": {},
   "outputs": [
    {
     "name": "stdin",
     "output_type": "stream",
     "text": [
      "Moi ban nhap so nguyen n (co bon chu so):  1234\n"
     ]
    },
    {
     "name": "stdout",
     "output_type": "stream",
     "text": [
      "1234 = 1 + 2 + 3 + 4 = 10\n"
     ]
    }
   ],
   "source": [
    "%run TongChuSo.py"
   ]
  },
  {
   "cell_type": "markdown",
   "id": "3e8db310-3aeb-4bb3-8a8e-a153a1b93aa1",
   "metadata": {},
   "source": [
    "# BÀI TẬP THỰC HÀNH"
   ]
  },
  {
   "cell_type": "markdown",
   "id": "df050151-4fdc-4e93-b22a-d6a3797e198e",
   "metadata": {},
   "source": [
    "### Bài 1. In nhãn"
   ]
  },
  {
   "cell_type": "code",
   "execution_count": 4,
   "id": "b9a5d9f9-a80c-466e-b510-635cd975879e",
   "metadata": {},
   "outputs": [
    {
     "name": "stdout",
     "output_type": "stream",
     "text": [
      "*******************************\n",
      "* Truong: Dai Hoc UEH         *\n",
      "* Khoa: CNTT                  *\n",
      "* Ho ten:                     *\n",
      "*******************************\n"
     ]
    }
   ],
   "source": [
    "!python InNhan.py"
   ]
  },
  {
   "cell_type": "markdown",
   "id": "0e56f400-b893-4c41-9674-70c70bdd1ab5",
   "metadata": {},
   "source": [
    "### Bài 2. Tính diện tích và chu hình tròn "
   ]
  },
  {
   "cell_type": "code",
   "execution_count": 2,
   "id": "19d48146-58fd-4db7-b242-db9d54f97f68",
   "metadata": {},
   "outputs": [
    {
     "name": "stdout",
     "output_type": "stream",
     "text": [
      "Overwriting HinhTron.in0\n"
     ]
    }
   ],
   "source": [
    "%%writefile HinhTron.in0\n",
    "5"
   ]
  },
  {
   "cell_type": "code",
   "execution_count": 8,
   "id": "bc6b0b11-2a34-4f16-abb8-d33f8c1497a7",
   "metadata": {},
   "outputs": [
    {
     "name": "stdout",
     "output_type": "stream",
     "text": [
      "Dien tich S = 78.5\n",
      "Chu vi P = 31.4\n"
     ]
    }
   ],
   "source": [
    "!python HinhTron.py < HinhTron.in0"
   ]
  },
  {
   "cell_type": "markdown",
   "id": "4e5fe108-862b-4dfb-8f9a-4984f0acfd5f",
   "metadata": {},
   "source": [
    "### Bài 3. Đổi sang giây "
   ]
  },
  {
   "cell_type": "code",
   "execution_count": 6,
   "id": "df25ba2b-c70f-4df7-87ae-a78d28056c34",
   "metadata": {},
   "outputs": [
    {
     "name": "stdout",
     "output_type": "stream",
     "text": [
      "Writing DoiSangGiay.in0\n"
     ]
    }
   ],
   "source": [
    "%%writefile DoiSangGiay.in0\n",
    "1\n",
    "20\n",
    "10"
   ]
  },
  {
   "cell_type": "code",
   "execution_count": 17,
   "id": "e4465fe9-6f05-41bb-bc48-077077b18634",
   "metadata": {},
   "outputs": [
    {
     "name": "stdout",
     "output_type": "stream",
     "text": [
      "Tong so giay cua 1:20:10 la 4810 giay\n"
     ]
    }
   ],
   "source": [
    "!python DoiSangGiay.py < DoiSangGiay.in0"
   ]
  },
  {
   "cell_type": "markdown",
   "id": "1a88c6ff-070d-4256-9c64-2ecd0912e678",
   "metadata": {},
   "source": [
    "### Bài 4. Đổi sang giờ phút giây"
   ]
  },
  {
   "cell_type": "code",
   "execution_count": 10,
   "id": "801ff119-6286-4795-a4a0-8e194570bd1a",
   "metadata": {},
   "outputs": [
    {
     "name": "stdout",
     "output_type": "stream",
     "text": [
      "Writing DoiSangGioPhutGiay.in0\n"
     ]
    }
   ],
   "source": [
    "%%writefile DoiSangGioPhutGiay.in0\n",
    "4810"
   ]
  },
  {
   "cell_type": "code",
   "execution_count": 20,
   "id": "5f89b0e0-0b94-47de-8153-bfbc357107c7",
   "metadata": {},
   "outputs": [
    {
     "name": "stdout",
     "output_type": "stream",
     "text": [
      "4810 co dang 1:20:10\n"
     ]
    }
   ],
   "source": [
    "!python DoiSangGioPhutGiay.py < DoiSangGioPhutGiay.in0"
   ]
  },
  {
   "cell_type": "markdown",
   "id": "874dba4e-8f70-4f26-a72b-78701f4ccd1a",
   "metadata": {},
   "source": [
    "### Bài 5. Tính diện tích tam giác"
   ]
  },
  {
   "cell_type": "code",
   "execution_count": 15,
   "id": "ea3dcec9-a005-4a9e-a703-6e1d164f8d48",
   "metadata": {},
   "outputs": [
    {
     "name": "stdout",
     "output_type": "stream",
     "text": [
      "Writing DienTichTamGiac.in0\n"
     ]
    }
   ],
   "source": [
    "%%writefile DienTichTamGiac.in0\n",
    "2\n",
    "4\n",
    "3"
   ]
  },
  {
   "cell_type": "code",
   "execution_count": 21,
   "id": "930fd472-088e-412c-b03c-18503318304b",
   "metadata": {},
   "outputs": [
    {
     "name": "stdout",
     "output_type": "stream",
     "text": [
      "Dien tich tam giac S = 2.90\n"
     ]
    }
   ],
   "source": [
    "!python DienTichTamGiac.py < DienTichTamGiac.in0"
   ]
  },
  {
   "cell_type": "markdown",
   "id": "560a4bd1-707c-4975-92c8-9fe5d4ade3ca",
   "metadata": {},
   "source": [
    "### Bài 6. Hàm Mũ"
   ]
  },
  {
   "cell_type": "code",
   "execution_count": 1,
   "id": "59987031-6da3-4d87-a45a-dd0ddc57fb7d",
   "metadata": {},
   "outputs": [
    {
     "name": "stdout",
     "output_type": "stream",
     "text": [
      "Writing TinhMu.in0\n"
     ]
    }
   ],
   "source": [
    "%%writefile TinhMu.in0\n",
    "2\n",
    "4"
   ]
  },
  {
   "cell_type": "code",
   "execution_count": 2,
   "id": "f9243104-b32c-4cec-a896-e95b500dee37",
   "metadata": {},
   "outputs": [
    {
     "name": "stdout",
     "output_type": "stream",
     "text": [
      "Nhap so thuc a: Nhap so mu n: Ket qua 2.0^4 = 16\n"
     ]
    }
   ],
   "source": [
    "!python TinhMu.py < TinhMu.in0"
   ]
  },
  {
   "cell_type": "markdown",
   "id": "68026be7-1bdf-40ae-9964-3e7c5425f724",
   "metadata": {},
   "source": [
    "### Bài 7. Đảo số "
   ]
  },
  {
   "cell_type": "code",
   "execution_count": 3,
   "id": "f1b60f67-5f4e-46ed-824d-6417176d11e7",
   "metadata": {},
   "outputs": [
    {
     "name": "stdout",
     "output_type": "stream",
     "text": [
      "Writing DaoSo.in0\n"
     ]
    }
   ],
   "source": [
    "%%writefile DaoSo.in0\n",
    "1234"
   ]
  },
  {
   "cell_type": "code",
   "execution_count": 4,
   "id": "fbfb1d15-61de-4a09-b7da-418f17a72ce7",
   "metadata": {},
   "outputs": [
    {
     "name": "stdout",
     "output_type": "stream",
     "text": [
      "Nhap so nguyen x (4 chu so): So dao cua 1234 la: 4321\n"
     ]
    }
   ],
   "source": [
    "!python DaoSo.py < DaoSo.in0"
   ]
  },
  {
   "cell_type": "markdown",
   "id": "58c44aeb-d1f2-4873-81dc-1b47a2248da0",
   "metadata": {},
   "source": [
    "### Bài 8. Độ sang Radian"
   ]
  },
  {
   "cell_type": "code",
   "execution_count": 5,
   "id": "e779d572-d3c6-44ba-a0fd-f1a66fdc531f",
   "metadata": {},
   "outputs": [
    {
     "name": "stdout",
     "output_type": "stream",
     "text": [
      "Writing DoSangRadian.in0\n"
     ]
    }
   ],
   "source": [
    "%%writefile DoSangRadian.in0\n",
    "180"
   ]
  },
  {
   "cell_type": "code",
   "execution_count": 6,
   "id": "b8e96034-b46a-4acd-8cda-282bfee96f24",
   "metadata": {},
   "outputs": [
    {
     "name": "stdout",
     "output_type": "stream",
     "text": [
      "Nhap goc (do): 180 do = 3.14159 rad\n"
     ]
    }
   ],
   "source": [
    "!python DoSangRadian.py < DoSangRadian.in0"
   ]
  },
  {
   "cell_type": "markdown",
   "id": "eeb44218-c406-4e06-8cc5-d8e969761f6c",
   "metadata": {},
   "source": [
    "### Bài 9. Hàm số 1"
   ]
  },
  {
   "cell_type": "code",
   "execution_count": 7,
   "id": "fc347985-26f2-46ef-82fc-472fdec1b684",
   "metadata": {},
   "outputs": [
    {
     "name": "stdout",
     "output_type": "stream",
     "text": [
      "Writing HamSo1.in0\n"
     ]
    }
   ],
   "source": [
    "%%writefile HamSo1.in0\n",
    "2"
   ]
  },
  {
   "cell_type": "code",
   "execution_count": 8,
   "id": "29c763de-fad1-4ba6-bd48-16b644911633",
   "metadata": {},
   "outputs": [
    {
     "name": "stdout",
     "output_type": "stream",
     "text": [
      "Nhap x (so thuc): y1 = 100.57\n",
      "y2 = 0.04\n"
     ]
    }
   ],
   "source": [
    "!python HamSo1.py < HamSo1.in0"
   ]
  },
  {
   "cell_type": "markdown",
   "id": "c64be7a4-df6f-4234-9139-f2a306bf2849",
   "metadata": {},
   "source": [
    "### Bài 10. Khoảng cách"
   ]
  },
  {
   "cell_type": "code",
   "execution_count": 9,
   "id": "85fb308d-686e-4f0d-bf10-4540c011a9df",
   "metadata": {},
   "outputs": [
    {
     "name": "stdout",
     "output_type": "stream",
     "text": [
      "Writing KhoangCach.in0\n"
     ]
    }
   ],
   "source": [
    "%%writefile KhoangCach.in0\n",
    "1\n",
    "2\n",
    "3\n",
    "4"
   ]
  },
  {
   "cell_type": "code",
   "execution_count": 10,
   "id": "c7abd506-b923-4396-a938-e8bf98c0960e",
   "metadata": {},
   "outputs": [
    {
     "name": "stdout",
     "output_type": "stream",
     "text": [
      "Nhap x1: Nhap y1: Nhap x2: Nhap y2: Khoang cach AB = 2.82843\n"
     ]
    }
   ],
   "source": [
    "!python KhoangCach.py < KhoangCach.in0"
   ]
  }
 ],
 "metadata": {
  "kernelspec": {
   "display_name": "Python 3 (ipykernel)",
   "language": "python",
   "name": "python3"
  },
  "language_info": {
   "codemirror_mode": {
    "name": "ipython",
    "version": 3
   },
   "file_extension": ".py",
   "mimetype": "text/x-python",
   "name": "python",
   "nbconvert_exporter": "python",
   "pygments_lexer": "ipython3",
   "version": "3.12.1"
  }
 },
 "nbformat": 4,
 "nbformat_minor": 5
}
