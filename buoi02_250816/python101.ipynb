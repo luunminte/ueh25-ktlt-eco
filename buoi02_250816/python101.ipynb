{
 "cells": [
  {
   "cell_type": "markdown",
   "metadata": {
    "id": "WusqGcALw_4Q"
   },
   "source": [
    "# Python 101"
   ]
  },
  {
   "cell_type": "markdown",
   "metadata": {
    "id": "eU_6A4JkxKKn"
   },
   "source": [
    "## NGÔN NGỮ PYTHON"
   ]
  },
  {
   "cell_type": "code",
   "execution_count": 14,
   "metadata": {
    "colab": {
     "base_uri": "https://localhost:8080/"
    },
    "id": "YH2DOCYtCBiK",
    "outputId": "b0a8ed33-70c7-4bd2-9d9f-a3780da2fd05"
   },
   "outputs": [
    {
     "name": "stdout",
     "output_type": "stream",
     "text": [
      "Drive already mounted at /content/drive; to attempt to forcibly remount, call drive.mount(\"/content/drive\", force_remount=True).\n"
     ]
    }
   ],
   "source": [
    "from google.colab import drive\n",
    "drive.mount('/content/drive')"
   ]
  },
  {
   "cell_type": "code",
   "execution_count": 15,
   "metadata": {
    "colab": {
     "base_uri": "https://localhost:8080/"
    },
    "id": "5W11HPcw0SBs",
    "outputId": "41040adb-0237-4add-f8d6-3ef6032e6b66"
   },
   "outputs": [
    {
     "name": "stdout",
     "output_type": "stream",
     "text": [
      "Hello World\n"
     ]
    }
   ],
   "source": [
    "print('Hello World')"
   ]
  },
  {
   "cell_type": "code",
   "execution_count": 16,
   "metadata": {
    "colab": {
     "base_uri": "https://localhost:8080/"
    },
    "id": "DwrQcUOA4Yk4",
    "outputId": "8cfc6cca-02ca-4c20-8081-bf80a52e4cd8"
   },
   "outputs": [
    {
     "name": "stdout",
     "output_type": "stream",
     "text": [
      "194.87\n"
     ]
    }
   ],
   "source": [
    "# Future Value\n",
    "pv = 100\n",
    "r = 0.1\n",
    "n =7\n",
    "fv = pv * ((1 + (r)) ** n)\n",
    "print(round(fv, 2))"
   ]
  },
  {
   "cell_type": "code",
   "execution_count": 17,
   "metadata": {
    "colab": {
     "base_uri": "https://localhost:8080/"
    },
    "id": "Xrw46ZgR_h_2",
    "outputId": "401865b9-6d71-4a2b-b379-60054f738808"
   },
   "outputs": [
    {
     "name": "stdout",
     "output_type": "stream",
     "text": [
      "194.87\n"
     ]
    }
   ],
   "source": [
    "amount = 100\n",
    "interest = 10 #10% = 0.01 * 10\n",
    "years = 7\n",
    "future_value = amount * ((1 + (0.01 * interest)) ** years)\n",
    "print(round(future_value, 2))"
   ]
  },
  {
   "cell_type": "code",
   "execution_count": 18,
   "metadata": {
    "colab": {
     "base_uri": "https://localhost:8080/"
    },
    "id": "ZmjobXeHAIQJ",
    "outputId": "4bff17c7-9cca-4ea4-f1ae-2403739d1459"
   },
   "outputs": [
    {
     "name": "stdout",
     "output_type": "stream",
     "text": [
      "194.87\n"
     ]
    }
   ],
   "source": [
    "# Python Function def\n",
    "def getfv(pv, r, n):\n",
    "  fv = pv * ((1 + (r)) ** n)\n",
    "  return fv\n",
    "fv = getfv(100, 0.1, 7)\n",
    "print(round(fv, 2))"
   ]
  },
  {
   "cell_type": "code",
   "execution_count": 19,
   "metadata": {
    "colab": {
     "base_uri": "https://localhost:8080/"
    },
    "id": "53I5fTSAAhvp",
    "outputId": "a02479e8-a84b-4874-f1f7-9dbda898363f"
   },
   "outputs": [
    {
     "name": "stdout",
     "output_type": "stream",
     "text": [
      "Pass\n"
     ]
    }
   ],
   "source": [
    "# Python if else\n",
    "score = 80\n",
    "if score >=60 :\n",
    "  print(\"Pass\")\n",
    "else:\n",
    "  print(\"Fail\")"
   ]
  },
  {
   "cell_type": "code",
   "execution_count": 20,
   "metadata": {
    "colab": {
     "base_uri": "https://localhost:8080/"
    },
    "id": "fjSYFiUAnfLv",
    "outputId": "abde58a5-ab2b-4e02-98c4-b873db1c5e12"
   },
   "outputs": [
    {
     "name": "stdout",
     "output_type": "stream",
     "text": [
      "Pass\n"
     ]
    }
   ],
   "source": [
    "score = 80\n",
    "if score >=60 :\n",
    "  print(\"Pass\")"
   ]
  },
  {
   "cell_type": "code",
   "execution_count": 21,
   "metadata": {
    "colab": {
     "base_uri": "https://localhost:8080/"
    },
    "id": "h1gY88QkonqR",
    "outputId": "d17616cd-5d3b-4815-e84a-a0117cca0d48"
   },
   "outputs": [
    {
     "name": "stdout",
     "output_type": "stream",
     "text": [
      "2 2.5 Hello\n",
      "x =2, price=(2.5, <class 'float'>), word=('Hello', <class 'str'>)\n"
     ]
    }
   ],
   "source": [
    "# Python Variables\n",
    "x = 2\n",
    "price = 2.5\n",
    "word = 'Hello'\n",
    "\n",
    "word = 'Hello'\n",
    "word = \"Hello\"\n",
    "word = '''Hello'''\n",
    "print(x, price, word)\n",
    "print(f'x ={x}, price={price, type(price)}, word={word, type(word)}')\n"
   ]
  },
  {
   "cell_type": "code",
   "execution_count": 22,
   "metadata": {
    "colab": {
     "base_uri": "https://localhost:8080/"
    },
    "id": "qtuDHOLAovfb",
    "outputId": "6d4ce13b-0dc7-4659-d644-048fae48681d"
   },
   "outputs": [
    {
     "name": "stdout",
     "output_type": "stream",
     "text": [
      "2 3\n"
     ]
    }
   ],
   "source": [
    "x = 2\n",
    "y = x + 1\n",
    "print(x,y)"
   ]
  },
  {
   "cell_type": "code",
   "execution_count": 23,
   "metadata": {
    "colab": {
     "base_uri": "https://localhost:8080/"
    },
    "id": "Tb75wbUaqJ0Q",
    "outputId": "9b4ed312-5764-4f45-9ee4-7686cc593d27"
   },
   "outputs": [
    {
     "name": "stdout",
     "output_type": "stream",
     "text": [
      "Python Version: 3.11.13\n"
     ]
    }
   ],
   "source": [
    "# comment\n",
    "from platform import python_version\n",
    "print(\"Python Version:\", python_version())"
   ]
  },
  {
   "cell_type": "code",
   "execution_count": 24,
   "metadata": {
    "colab": {
     "base_uri": "https://localhost:8080/"
    },
    "id": "oQ1ySp-Yqc_Y",
    "outputId": "e26d9776-c277-4940-cdb7-4818a616d80b"
   },
   "outputs": [
    {
     "name": "stdout",
     "output_type": "stream",
     "text": [
      "Help on function python_version in module platform:\n",
      "\n",
      "python_version()\n",
      "    Returns the Python version as string 'major.minor.patchlevel'\n",
      "    \n",
      "    Note that unlike the Python sys.version, the returned value\n",
      "    will always include the patchlevel (it defaults to 0).\n",
      "\n"
     ]
    }
   ],
   "source": [
    "help(python_version)"
   ]
  },
  {
   "cell_type": "code",
   "execution_count": 25,
   "metadata": {
    "colab": {
     "base_uri": "https://localhost:8080/"
    },
    "id": "08Z8Z7ShqlpJ",
    "outputId": "a11346a5-4b86-4f53-a473-8d0625d580b5"
   },
   "outputs": [
    {
     "name": "stdout",
     "output_type": "stream",
     "text": [
      "Hello World <class 'str'>\n",
      "2 <class 'int'>\n",
      "2.5 <class 'float'>\n",
      "7j <class 'complex'>\n"
     ]
    }
   ],
   "source": [
    "x = \"Hello World\"\n",
    "print(x, type(x))\n",
    "x = 2\n",
    "print(x, type(x))\n",
    "x = 2.5\n",
    "print(x, type(x))\n",
    "x = 7j\n",
    "print(x, type(x))"
   ]
  },
  {
   "cell_type": "code",
   "execution_count": 26,
   "metadata": {
    "colab": {
     "base_uri": "https://localhost:8080/"
    },
    "id": "52-06ih4rMiL",
    "outputId": "63580c74-eedf-4be1-8c0e-4c1ce83837f0"
   },
   "outputs": [
    {
     "name": "stdout",
     "output_type": "stream",
     "text": [
      "['apple', 'banana', 'cherry', 'hello'] <class 'list'> ['banana', 'cherry']\n",
      "('apple', 'banana', 'cherry') <class 'tuple'> ('banana', 'cherry')\n",
      "{'name': 'Tom', 'age': 20} <class 'dict'> Tom 20\n",
      "{'banana', 'apple', 'hello', 'cherry'} <class 'set'>\n",
      "frozenset({'banana', 'apple', 'cherry'}) <class 'frozenset'>\n"
     ]
    }
   ],
   "source": [
    "x = [\"apple\", \"banana\", \"cherry\"]\n",
    "x.append('hello')\n",
    "print(x, type(x), x[1:3])\n",
    "\n",
    "x = (\"apple\", \"banana\", \"cherry\") # immutable\n",
    "# x.append('hello')\n",
    "print(x, type(x), x[1:3])\n",
    "\n",
    "x = {\"name\" : \"Tom\", \"age\" : 20} # dictionary\n",
    "print(x, type(x), x['name'], x['age'])\n",
    "\n",
    "x = {\"apple\", \"banana\", \"cherry\"} # set\n",
    "x.add('hello')\n",
    "print(x, type(x))\n",
    "\n",
    "x = frozenset({\"apple\", \"banana\", \"cherry\"}) # fronzenset\n",
    "print(x, type(x))\n",
    "\n"
   ]
  },
  {
   "cell_type": "code",
   "execution_count": 27,
   "metadata": {
    "colab": {
     "base_uri": "https://localhost:8080/"
    },
    "id": "v9gHsQFUs1rk",
    "outputId": "5f1afe25-c6f7-48df-f0d6-7829320d35dc"
   },
   "outputs": [
    {
     "name": "stdout",
     "output_type": "stream",
     "text": [
      "True <class 'bool'>\n",
      "b'Hello' <class 'bytes'>\n",
      "bytearray(b'\\x00\\x00\\x00\\x00\\x00') <class 'bytearray'>\n",
      "<memory at 0x7e5c9777e980> <class 'memoryview'> 0x7e5c9777e980\n",
      "None <class 'NoneType'>\n"
     ]
    }
   ],
   "source": [
    "x = True\n",
    "print(x, type(x))\n",
    "\n",
    "x = b\"Hello\" #bytes\n",
    "print(x, type(x))\n",
    "\n",
    "x = bytearray(5) #bytearray\n",
    "print(x, type(x))\n",
    "\n",
    "x = memoryview(bytes(5)) #memoryview\n",
    "print(x, type(x), hex(id(x)))\n",
    "\n",
    "x = None #NoneType\n",
    "print(x, type(x))"
   ]
  },
  {
   "cell_type": "code",
   "execution_count": 27,
   "metadata": {
    "id": "adxOyiScuRjx"
   },
   "outputs": [],
   "source": []
  },
  {
   "cell_type": "code",
   "execution_count": 28,
   "metadata": {
    "colab": {
     "base_uri": "https://localhost:8080/"
    },
    "id": "5aDRuIoatgoU",
    "outputId": "0bb56208-7068-45a2-9e5b-d4c56dc5042d"
   },
   "outputs": [
    {
     "name": "stdout",
     "output_type": "stream",
     "text": [
      "3 <class 'str'>\n",
      "4 <class 'int'>\n",
      "3.0 <class 'float'>\n"
     ]
    }
   ],
   "source": [
    " x = str(3)\n",
    " y = int(4.3)\n",
    " z = float(3)\n",
    "\n",
    " print(x, type(x))\n",
    " print(y, type(y))\n",
    " print(z, type(z))"
   ]
  },
  {
   "cell_type": "code",
   "execution_count": 29,
   "metadata": {
    "colab": {
     "base_uri": "https://localhost:8080/"
    },
    "id": "upf5kRXnt0nQ",
    "outputId": "3ad8f3b4-0435-4cf9-d1f2-4a4bceae5e24"
   },
   "outputs": [
    {
     "name": "stdout",
     "output_type": "stream",
     "text": [
      "2 <class 'int'>\n",
      "3.4 <class 'float'>\n",
      "(3.5+7j) <class 'complex'>\n"
     ]
    }
   ],
   "source": [
    " x = 2\n",
    " print(x, type(x))\n",
    "\n",
    " y = 3.4\n",
    " print(y, type(y))\n",
    "\n",
    " z = 7j + 3.5\n",
    " print(z, type(z))"
   ]
  },
  {
   "cell_type": "code",
   "execution_count": 30,
   "metadata": {
    "colab": {
     "base_uri": "https://localhost:8080/"
    },
    "id": "zMJ_Bz33uVrr",
    "outputId": "11211980-04bd-4e41-caad-b42dd74fb432"
   },
   "outputs": [
    {
     "name": "stdout",
     "output_type": "stream",
     "text": [
      "9\n",
      "5\n",
      "14\n",
      "3.5\n",
      "3\n",
      "1\n",
      "49\n"
     ]
    }
   ],
   "source": [
    "# Operator\n",
    "print(7+2)\n",
    "print(7-2)\n",
    "print(7*2)\n",
    "print(7/2)\n",
    "print(7//2)\n",
    "print(7%2)\n",
    "print(7**2)"
   ]
  },
  {
   "cell_type": "code",
   "execution_count": 31,
   "metadata": {
    "colab": {
     "base_uri": "https://localhost:8080/"
    },
    "id": "H4MApO0Du4g9",
    "outputId": "e3f0510b-2251-4b5a-8d9f-c98632d5938a"
   },
   "outputs": [
    {
     "name": "stdout",
     "output_type": "stream",
     "text": [
      "True\n",
      "False\n",
      "False\n",
      "True\n"
     ]
    }
   ],
   "source": [
    "# Comparision\n",
    "print(3 > 2)\n",
    "print(3 == 2)\n",
    "print(3 < 2)\n",
    "print(3 != 2)"
   ]
  },
  {
   "cell_type": "code",
   "execution_count": 32,
   "metadata": {
    "colab": {
     "base_uri": "https://localhost:8080/"
    },
    "id": "QnIa24fRvD5I",
    "outputId": "90f31954-6aa4-4991-c75e-d072a038043e"
   },
   "outputs": [
    {
     "name": "stdout",
     "output_type": "stream",
     "text": [
      "Your BMI is: 20.76\n"
     ]
    }
   ],
   "source": [
    "# bmi\n",
    "# input\n",
    "height_cm = 170\n",
    "weight_kg = 60\n",
    "\n",
    "# process\n",
    "height_m= height_cm/100\n",
    "bmi = (weight_kg/(height_m**2))\n",
    "print(\"Your BMI is: \" + str(round(bmi,2)))"
   ]
  },
  {
   "cell_type": "code",
   "execution_count": 33,
   "metadata": {
    "colab": {
     "base_uri": "https://localhost:8080/"
    },
    "id": "d4PqP-shvfKr",
    "outputId": "fb65a61b-cbdd-4f5f-f579-38f3c71cd29c"
   },
   "outputs": [
    {
     "name": "stdout",
     "output_type": "stream",
     "text": [
      "fv =  194.87\n"
     ]
    }
   ],
   "source": [
    "# 100$ sau 7 nam\n",
    "fv = 100 * (1 + 0.1) ** 7\n",
    "print('fv = ', round(fv, 2))"
   ]
  },
  {
   "cell_type": "code",
   "execution_count": 34,
   "metadata": {
    "colab": {
     "base_uri": "https://localhost:8080/"
    },
    "id": "I2mveH5evwMy",
    "outputId": "24c01125-7139-4d79-9022-4e50dcef3ebd"
   },
   "outputs": [
    {
     "name": "stdout",
     "output_type": "stream",
     "text": [
      "194.87\n"
     ]
    }
   ],
   "source": [
    "# input\n",
    "pv = 100\n",
    "r = 0.1\n",
    "n =7\n",
    "\n",
    "# process\n",
    "fv = pv * ((1 + r)**n)\n",
    "print(round(fv, 2))"
   ]
  },
  {
   "cell_type": "code",
   "execution_count": 35,
   "metadata": {
    "colab": {
     "base_uri": "https://localhost:8080/"
    },
    "id": "JHKVayYawCK4",
    "outputId": "4526538d-6f07-4700-8458-a1784d7af211"
   },
   "outputs": [
    {
     "name": "stdout",
     "output_type": "stream",
     "text": [
      "future_value =  194.87\n"
     ]
    }
   ],
   "source": [
    "# input\n",
    "amount = 100\n",
    "interest = 10 # 10%\n",
    "years = 7\n",
    "\n",
    "# process\n",
    "future_value = amount * ((1 + (0.01 * interest)) ** years)\n",
    "print('future_value = ', round(future_value, 2))"
   ]
  },
  {
   "cell_type": "markdown",
   "metadata": {
    "id": "U4t1eZw1xZO-"
   },
   "source": [
    "## CẤU TRÚC DỮ LIỆU"
   ]
  },
  {
   "cell_type": "code",
   "execution_count": 36,
   "metadata": {
    "colab": {
     "base_uri": "https://localhost:8080/"
    },
    "id": "1JFOJd9gw42w",
    "outputId": "c1f178c1-058e-4ab7-d222-c43c4c93d260"
   },
   "outputs": [
    {
     "name": "stdout",
     "output_type": "stream",
     "text": [
      "['apple', 'banana', 'cherry'] <class 'list'>\n",
      "('apple', 'banana', 'cherry') <class 'tuple'>\n",
      "{'name': 'Tom', 'age': 20} <class 'dict'>\n",
      "{'banana', 'apple', 'cherry'} <class 'set'>\n"
     ]
    }
   ],
   "source": [
    "x = [\"apple\", \"banana\", \"cherry\"] # list\n",
    "print(x, type(x))\n",
    "\n",
    "x = (\"apple\", \"banana\", \"cherry\") # tuple\n",
    "print(x, type(x))\n",
    "\n",
    "x = {\"name\" : \"Tom\", \"age\" : 20} # dictionary\n",
    "print(x, type(x))\n",
    "\n",
    "x = {\"apple\", \"banana\", \"cherry\"} # set\n",
    "print(x, type(x))"
   ]
  },
  {
   "cell_type": "code",
   "execution_count": 37,
   "metadata": {
    "colab": {
     "base_uri": "https://localhost:8080/"
    },
    "id": "55Pgv6hMyEjW",
    "outputId": "b13ac5a7-fb0f-4bd3-a261-04b7185a4bce"
   },
   "outputs": [
    {
     "name": "stdout",
     "output_type": "stream",
     "text": [
      "4\n",
      "60\n",
      "70\n",
      "90\n"
     ]
    }
   ],
   "source": [
    "# List\n",
    "x = [60, 70, 80, 90]\n",
    "print(len(x))\n",
    "print(x[0])\n",
    "print(x[1])\n",
    "print(x[-1])"
   ]
  },
  {
   "cell_type": "code",
   "execution_count": 38,
   "metadata": {
    "colab": {
     "base_uri": "https://localhost:8080/"
    },
    "id": "ZUDU1QlmyQ5-",
    "outputId": "8b457011-2b2c-4f9b-a5b4-913d7da70094"
   },
   "outputs": [
    {
     "name": "stdout",
     "output_type": "stream",
     "text": [
      "5\n",
      "10\n",
      "20\n",
      "50\n"
     ]
    }
   ],
   "source": [
    "# tuple\n",
    "x = (10, 20, 30, 40, 50)\n",
    "print(len(x))\n",
    "print(x[0])\n",
    "print(x[1])\n",
    "print(x[-1])\n",
    "# x[0] = 50 # error"
   ]
  },
  {
   "cell_type": "code",
   "execution_count": 39,
   "metadata": {
    "colab": {
     "base_uri": "https://localhost:8080/"
    },
    "id": "SisCwnrny2e6",
    "outputId": "531bdfef-cadf-4b0b-82d4-b57443250c39"
   },
   "outputs": [
    {
     "name": "stdout",
     "output_type": "stream",
     "text": [
      "True\n",
      "False\n",
      "True\n",
      "3\n",
      "3\n",
      "2\n"
     ]
    }
   ],
   "source": [
    "# set\n",
    "animals = {'cat', 'dog'}\n",
    "print('cat'in animals)\n",
    "print('fish' in animals)\n",
    "animals.add('fish')\n",
    "print('fish'in animals)\n",
    "print(len(animals))\n",
    "animals.add('cat')\n",
    "print(len(animals))\n",
    "animals.remove('cat')\n",
    "print(len(animals))"
   ]
  },
  {
   "cell_type": "code",
   "execution_count": 40,
   "metadata": {
    "colab": {
     "base_uri": "https://localhost:8080/"
    },
    "id": "A_k_YBuGznrv",
    "outputId": "6328c380-9808-4259-cc12-c0e1d73681ad"
   },
   "outputs": [
    {
     "name": "stdout",
     "output_type": "stream",
     "text": [
      "English\n"
     ]
    }
   ],
   "source": [
    "# dictionary\n",
    "k = { 'EN':'English', 'FR':'French'}\n",
    "print(k['EN'])"
   ]
  },
  {
   "cell_type": "code",
   "execution_count": 41,
   "metadata": {
    "id": "nFhXahj0z5iJ"
   },
   "outputs": [],
   "source": [
    "# data types\n",
    "fruits = [\"apple\", \"banana\", \"cherry\"] #lists []\n",
    "colors = (\"red\", \"green\", \"blue\")      #tuples ()\n",
    "animals = {'cat', 'dog'}               #sets {}\n",
    "person = {\"name\" : \"Tom\", \"age\" : 20}  #dictionaries {}"
   ]
  },
  {
   "cell_type": "code",
   "execution_count": 42,
   "metadata": {
    "colab": {
     "base_uri": "https://localhost:8080/"
    },
    "id": "9839JkIQ0aGD",
    "outputId": "7c5f26ac-9c8f-4163-ab80-25ca75219933"
   },
   "outputs": [
    {
     "name": "stdout",
     "output_type": "stream",
     "text": [
      "Total expenses: 293.5\n"
     ]
    }
   ],
   "source": [
    "# lists\n",
    "expenses = [72.50, 80.75, 50.00, 90.25]\n",
    "total_expenses = sum(expenses)\n",
    "print(\"Total expenses:\", total_expenses)"
   ]
  },
  {
   "cell_type": "code",
   "execution_count": 43,
   "metadata": {
    "colab": {
     "base_uri": "https://localhost:8080/"
    },
    "id": "YOTjT4mr0tQk",
    "outputId": "a1a619d7-8830-4bfa-8487-9c7ce426b894"
   },
   "outputs": [
    {
     "name": "stdout",
     "output_type": "stream",
     "text": [
      "Account name: Cash - Account number: 1001\n",
      "Account name: Accounts Receivable - Account number: 1002\n",
      "Account name: Inventory - Account number: 1003\n"
     ]
    }
   ],
   "source": [
    "# tuples\n",
    "accounts = ((\"Cash\", 1001), (\"Accounts Receivable\", 1002), (\"Inventory\", 1003))\n",
    "for account in accounts:\n",
    "  print(\"Account name:\", account[0], \"- Account number:\", account[1])"
   ]
  },
  {
   "cell_type": "code",
   "execution_count": 44,
   "metadata": {
    "colab": {
     "base_uri": "https://localhost:8080/"
    },
    "id": "qpdVJdvc1NLy",
    "outputId": "b9f30827-a88d-4259-8e09-438d3f74dcdc"
   },
   "outputs": [
    {
     "name": "stdout",
     "output_type": "stream",
     "text": [
      "{1001, 1002, 1003}\n",
      "Account number 1004 is not in use\n"
     ]
    }
   ],
   "source": [
    "# set\n",
    "account_numbers = set([acc[1] for acc in accounts]) # set comprehensive\n",
    "print(account_numbers)\n",
    "new_acc_number = 1004\n",
    "if new_acc_number not in account_numbers:\n",
    "  print(f'Account number {new_acc_number} is not in use')"
   ]
  },
  {
   "cell_type": "code",
   "execution_count": 45,
   "metadata": {
    "colab": {
     "base_uri": "https://localhost:8080/"
    },
    "id": "ZjXvj_NR2ftY",
    "outputId": "5ffdea48-339f-4ba3-d2d6-3766d280cd23"
   },
   "outputs": [
    {
     "name": "stdout",
     "output_type": "stream",
     "text": [
      "--------------------------------------------------\n",
      "Account number:  1001\n",
      "Account name:  Cash\n",
      "Account balance:  500.0\n",
      "Account type:  Asset\n",
      "--------------------------------------------------\n",
      "Account number:  1002\n",
      "Account name:  Accounts Receivable\n",
      "Account balance:  1000.0\n",
      "Account type:  Asset\n",
      "--------------------------------------------------\n",
      "Account number:  2001\n",
      "Account name:  Accounts Payable\n",
      "Account balance:  750.0\n",
      "Account type:  Liability\n"
     ]
    }
   ],
   "source": [
    "# dictionary\n",
    "accounts = {\n",
    "    \"1001\": {\"name\": \"Cash\", \"balance\": 500.00, \"type\": \"Asset\"},\n",
    "    \"1002\": {\"name\": \"Accounts Receivable\", \"balance\": 1000.00, \"type\": \"Asset\"},\n",
    "    \"2001\": {\"name\": \"Accounts Payable\", \"balance\": 750.00, \"type\": \"Liability\"}}\n",
    "for acc_num, acc_info in accounts.items():\n",
    "  print('-'*50)\n",
    "  print('Account number: ', acc_num)\n",
    "  print('Account name: ', acc_info['name'])\n",
    "  print('Account balance: ', acc_info['balance'])\n",
    "  print('Account type: ', acc_info['type'])"
   ]
  },
  {
   "cell_type": "code",
   "execution_count": 46,
   "metadata": {
    "colab": {
     "base_uri": "https://localhost:8080/"
    },
    "id": "MlPdaFx64vch",
    "outputId": "bc2046da-f7f2-4d11-8048-8ae7a4c92ac8"
   },
   "outputs": [
    {
     "name": "stdout",
     "output_type": "stream",
     "text": [
      "Pass\n"
     ]
    }
   ],
   "source": [
    "# if\n",
    "score = 80\n",
    "if score >= 60:\n",
    "  print('Pass')\n",
    "else: # score < 60\n",
    "  print('Fail')"
   ]
  },
  {
   "cell_type": "code",
   "execution_count": 47,
   "metadata": {
    "colab": {
     "base_uri": "https://localhost:8080/"
    },
    "id": "8dCGmCWF5ICY",
    "outputId": "3abb3be5-74ac-41f0-984b-32c11cadfb83"
   },
   "outputs": [
    {
     "name": "stdout",
     "output_type": "stream",
     "text": [
      "Pass\n"
     ]
    }
   ],
   "source": [
    "# if\n",
    "score = 80\n",
    "if score >= 90:\n",
    "  print('A')\n",
    "if score >= 60: # score < 90 and score >= 60\n",
    "  print('Pass')\n",
    "else: # score < 60\n",
    "  print('Fail')"
   ]
  },
  {
   "cell_type": "code",
   "execution_count": 48,
   "metadata": {
    "colab": {
     "base_uri": "https://localhost:8080/"
    },
    "id": "Tv9bhbJI5gqs",
    "outputId": "2c8b3bcc-c941-4067-e66a-22fadd96dcc8"
   },
   "outputs": [
    {
     "name": "stdout",
     "output_type": "stream",
     "text": [
      "Grade:  A\n"
     ]
    }
   ],
   "source": [
    "# if\n",
    "score = 90\n",
    "grade = ''\n",
    "if score >= 90:\n",
    "  grade = 'A'\n",
    "elif score >= 80: # score < 90 and score >= 80\n",
    "  grade = 'B'\n",
    "elif score >= 70: # [70, 80]\n",
    "  grade ='C'\n",
    "elif score >= 60: # [60, 70]\n",
    "  grade = 'D'\n",
    "else: # score < 60\n",
    "  grade = 'E'\n",
    "print('Grade: ', grade)"
   ]
  },
  {
   "cell_type": "code",
   "execution_count": 49,
   "metadata": {
    "colab": {
     "base_uri": "https://localhost:8080/"
    },
    "id": "Ijiax-Eq6amj",
    "outputId": "a29c7194-9e14-4cf5-c9fc-c831d68fbe68"
   },
   "outputs": [
    {
     "name": "stdout",
     "output_type": "stream",
     "text": [
      "1\n",
      "2\n",
      "3\n",
      "4\n",
      "5\n"
     ]
    }
   ],
   "source": [
    "# loop\n",
    "for i in range(1, 6): # 1<=1<6\n",
    "  print(i)"
   ]
  },
  {
   "cell_type": "code",
   "execution_count": 50,
   "metadata": {
    "colab": {
     "base_uri": "https://localhost:8080/"
    },
    "id": "wXRvArA_6j9P",
    "outputId": "aafaf402-d928-4aee-c4b7-c74d87815c62"
   },
   "outputs": [
    {
     "name": "stdout",
     "output_type": "stream",
     "text": [
      "1 * 1 = 1\n",
      "1 * 2 = 2\n",
      "1 * 3 = 3\n",
      "1 * 4 = 4\n",
      "1 * 5 = 5\n",
      "1 * 6 = 6\n",
      "1 * 7 = 7\n",
      "1 * 8 = 8\n",
      "1 * 9 = 9\n",
      "2 * 1 = 2\n",
      "2 * 2 = 4\n",
      "2 * 3 = 6\n",
      "2 * 4 = 8\n",
      "2 * 5 = 10\n",
      "2 * 6 = 12\n",
      "2 * 7 = 14\n",
      "2 * 8 = 16\n",
      "2 * 9 = 18\n",
      "3 * 1 = 3\n",
      "3 * 2 = 6\n",
      "3 * 3 = 9\n",
      "3 * 4 = 12\n",
      "3 * 5 = 15\n",
      "3 * 6 = 18\n",
      "3 * 7 = 21\n",
      "3 * 8 = 24\n",
      "3 * 9 = 27\n",
      "4 * 1 = 4\n",
      "4 * 2 = 8\n",
      "4 * 3 = 12\n",
      "4 * 4 = 16\n",
      "4 * 5 = 20\n",
      "4 * 6 = 24\n",
      "4 * 7 = 28\n",
      "4 * 8 = 32\n",
      "4 * 9 = 36\n",
      "5 * 1 = 5\n",
      "5 * 2 = 10\n",
      "5 * 3 = 15\n",
      "5 * 4 = 20\n",
      "5 * 5 = 25\n",
      "5 * 6 = 30\n",
      "5 * 7 = 35\n",
      "5 * 8 = 40\n",
      "5 * 9 = 45\n",
      "6 * 1 = 6\n",
      "6 * 2 = 12\n",
      "6 * 3 = 18\n",
      "6 * 4 = 24\n",
      "6 * 5 = 30\n",
      "6 * 6 = 36\n",
      "6 * 7 = 42\n",
      "6 * 8 = 48\n",
      "6 * 9 = 54\n",
      "7 * 1 = 7\n",
      "7 * 2 = 14\n",
      "7 * 3 = 21\n",
      "7 * 4 = 28\n",
      "7 * 5 = 35\n",
      "7 * 6 = 42\n",
      "7 * 7 = 49\n",
      "7 * 8 = 56\n",
      "7 * 9 = 63\n",
      "8 * 1 = 8\n",
      "8 * 2 = 16\n",
      "8 * 3 = 24\n",
      "8 * 4 = 32\n",
      "8 * 5 = 40\n",
      "8 * 6 = 48\n",
      "8 * 7 = 56\n",
      "8 * 8 = 64\n",
      "8 * 9 = 72\n",
      "9 * 1 = 9\n",
      "9 * 2 = 18\n",
      "9 * 3 = 27\n",
      "9 * 4 = 36\n",
      "9 * 5 = 45\n",
      "9 * 6 = 54\n",
      "9 * 7 = 63\n",
      "9 * 8 = 72\n",
      "9 * 9 = 81\n",
      "--------------------------------------------------\n"
     ]
    }
   ],
   "source": [
    " # 2 loop\n",
    "for i in range(1, 10): # i: 1->9\n",
    "    for j in range(1, 10): # j: 1->9\n",
    "      print(f'{i} * {j} = {i*j}')\n",
    "print('-'*50)"
   ]
  },
  {
   "cell_type": "code",
   "execution_count": 51,
   "metadata": {
    "colab": {
     "base_uri": "https://localhost:8080/"
    },
    "id": "E1ZkOJnWCunM",
    "outputId": "c2b2c879-09ed-4c7b-bc31-230b3031add8"
   },
   "outputs": [
    {
     "name": "stdout",
     "output_type": "stream",
     "text": [
      "10\n",
      "11\n",
      "12\n",
      "13\n",
      "14\n",
      "15\n",
      "16\n",
      "17\n",
      "18\n",
      "19\n"
     ]
    }
   ],
   "source": [
    "# while\n",
    "age = 10\n",
    "while age < 20:\n",
    "  print(age)\n",
    "  age = age + 1"
   ]
  },
  {
   "cell_type": "markdown",
   "metadata": {
    "id": "XHiwwBAhDEB2"
   },
   "source": [
    "## Module & Function"
   ]
  },
  {
   "cell_type": "code",
   "execution_count": 52,
   "metadata": {
    "colab": {
     "base_uri": "https://localhost:8080/"
    },
    "id": "9ypChtUxC1ev",
    "outputId": "a6308a3d-0ebd-49da-924b-01ebc6ac1c03"
   },
   "outputs": [
    {
     "name": "stdout",
     "output_type": "stream",
     "text": [
      "Future value =  194.87\n"
     ]
    }
   ],
   "source": [
    "# Function\n",
    "def getfv(pv, r, n):\n",
    "  fv = pv * ((1+ (r)) ** n)\n",
    "  return fv\n",
    "  pass\n",
    "\n",
    "fv = getfv(100, 0.1, 7)\n",
    "print('Future value = ', round(fv, 2))"
   ]
  },
  {
   "cell_type": "code",
   "execution_count": 53,
   "metadata": {
    "colab": {
     "base_uri": "https://localhost:8080/"
    },
    "id": "7xTXIHOyDB2k",
    "outputId": "e53af4d6-1a36-405f-9d76-2f29252c80c8"
   },
   "outputs": [
    {
     "name": "stdout",
     "output_type": "stream",
     "text": [
      "5\n"
     ]
    }
   ],
   "source": [
    "# class: properties (variable) + methods (funtions)\n",
    "class MyClass:\n",
    "  x = 5\n",
    "\n",
    "c1 = MyClass()\n",
    "print(c1.x)"
   ]
  },
  {
   "cell_type": "code",
   "execution_count": 54,
   "metadata": {
    "colab": {
     "base_uri": "https://localhost:8080/"
    },
    "id": "VnH-gPW1D3o-",
    "outputId": "c589f4a5-1955-4936-aedc-1d830d1bd37a"
   },
   "outputs": [
    {
     "name": "stdout",
     "output_type": "stream",
     "text": [
      "Alan 20\n"
     ]
    }
   ],
   "source": [
    "# class\n",
    "class Person:\n",
    "  def __init__(self, name, age): # constructor (ham tao doi tuong)\n",
    "    self.name= name\n",
    "    self.age= age\n",
    "\n",
    "p1 = Person(\"Alan\", 20)\n",
    "print(p1.name, p1.age)"
   ]
  },
  {
   "cell_type": "code",
   "execution_count": 55,
   "metadata": {
    "colab": {
     "base_uri": "https://localhost:8080/"
    },
    "id": "81TyJOV6EU7T",
    "outputId": "e898504f-cc08-43ad-dada-f453d7b6fabc"
   },
   "outputs": [
    {
     "name": "stdout",
     "output_type": "stream",
     "text": [
      "Alan 20\n",
      "Hello my name is  Alan\n"
     ]
    }
   ],
   "source": [
    "# class\n",
    "class Person:\n",
    "  def __init__(self, name, age): # constructor (ham tao doi tuong)\n",
    "    self.name = name\n",
    "    self.age = age\n",
    "\n",
    "  def myfunc(self):\n",
    "    print('Hello my name is ', self.name)\n",
    "    pass\n",
    "\n",
    "p1 = Person('Alan', 20)\n",
    "print(p1.name, p1.age)\n",
    "p1.myfunc()"
   ]
  },
  {
   "cell_type": "code",
   "execution_count": 56,
   "metadata": {
    "colab": {
     "base_uri": "https://localhost:8080/"
    },
    "id": "cY7GDpcMl99L",
    "outputId": "153b7031-3d7f-43db-a72d-b49fc023204b"
   },
   "outputs": [
    {
     "name": "stdout",
     "output_type": "stream",
     "text": [
      "Fer is a red convertible worth $60000.00\n",
      "Jump is a van blue worth $10000.00\n"
     ]
    }
   ],
   "source": [
    "class Vehicle:\n",
    "    def __init__(self, name=\"\", kind=\"car\", color=\"\", value=100.0):\n",
    "      self.name = name\n",
    "      self.kind = kind\n",
    "      self.color = color\n",
    "      self.value = value\n",
    "\n",
    "    def description(self):\n",
    "        desc_str = f'{self.name} is a {self.color} {self.kind} worth ${self.value:.2f}'\n",
    "        return desc_str\n",
    "\n",
    "car1 = Vehicle()\n",
    "car1.name = 'Fer'\n",
    "car1.color = 'red'\n",
    "car1.kind = 'convertible'\n",
    "car1.value = 60000.0\n",
    "\n",
    "car2 = Vehicle(\"Jump\", \"blue\", \"van\", 10000.0)\n",
    "\n",
    "print(car1.description())\n",
    "print(car2.description())"
   ]
  },
  {
   "cell_type": "code",
   "execution_count": 57,
   "metadata": {
    "colab": {
     "base_uri": "https://localhost:8080/"
    },
    "id": "0w2845-uGzTs",
    "outputId": "0e6310d6-9258-45b9-9645-dcbefecb5223"
   },
   "outputs": [
    {
     "name": "stdout",
     "output_type": "stream",
     "text": [
      "Writing mymodule.py\n"
     ]
    }
   ],
   "source": [
    "%%writefile mymodule.py\n",
    "def greeting(name):\n",
    "  print(\"Hello, \" + name)\n",
    "\n",
    "def greeting_vn(name):\n",
    "  print(\"Xin chao, \" + name)"
   ]
  },
  {
   "cell_type": "code",
   "execution_count": 58,
   "metadata": {
    "colab": {
     "base_uri": "https://localhost:8080/"
    },
    "id": "IdOzQRoCHJIl",
    "outputId": "a53fbe6f-75d7-48b3-9eca-cb6bb6b00821"
   },
   "outputs": [
    {
     "name": "stdout",
     "output_type": "stream",
     "text": [
      "def greeting(name):\n",
      "  print(\"Hello, \" + name)\n",
      "\n",
      "def greeting_vn(name):\n",
      "  print(\"Xin chao, \" + name)\n"
     ]
    }
   ],
   "source": [
    "!cat mymodule.py"
   ]
  },
  {
   "cell_type": "code",
   "execution_count": 59,
   "metadata": {
    "colab": {
     "base_uri": "https://localhost:8080/"
    },
    "id": "Ez6q5MhIHgF4",
    "outputId": "e259d362-f7a7-4be6-faf6-c53bd5a3cfa7"
   },
   "outputs": [
    {
     "name": "stdout",
     "output_type": "stream",
     "text": [
      "Hello, Alan\n",
      "Xin chao, Alan\n"
     ]
    }
   ],
   "source": [
    "import mymodule as m1\n",
    "import importlib\n",
    "importlib.reload(m1)\n",
    "m1.greeting('Alan')\n",
    "m1.greeting_vn(\"Alan\")"
   ]
  },
  {
   "cell_type": "markdown",
   "metadata": {
    "id": "m2WgK7BUIJOc"
   },
   "source": [
    "##Read/Write File"
   ]
  },
  {
   "cell_type": "code",
   "execution_count": 60,
   "metadata": {
    "colab": {
     "base_uri": "https://localhost:8080/"
    },
    "id": "LyD8ZAH8II0Y",
    "outputId": "f7466ce7-bb43-4cf2-d22f-e23dbfb1578f"
   },
   "outputs": [
    {
     "name": "stdout",
     "output_type": "stream",
     "text": [
      "Hello, World\n",
      "This is demo input/output"
     ]
    }
   ],
   "source": [
    "with open('a.txt', 'w') as file:\n",
    "  file.write('Hello, World\\nThis is demo input/output')\n",
    "\n",
    "!cat a.txt"
   ]
  },
  {
   "cell_type": "code",
   "execution_count": 61,
   "metadata": {
    "colab": {
     "base_uri": "https://localhost:8080/"
    },
    "id": "zM2I0CrhqKPu",
    "outputId": "cad9fd2b-82a3-47d2-9f38-d2d6aa25d98a"
   },
   "outputs": [
    {
     "name": "stdout",
     "output_type": "stream",
     "text": [
      "['Hello, World\\n', 'This is demo input/output']\n"
     ]
    }
   ],
   "source": [
    "with open('a.txt', 'r') as file:\n",
    "  print(file.readlines())"
   ]
  },
  {
   "cell_type": "code",
   "execution_count": 62,
   "metadata": {
    "colab": {
     "base_uri": "https://localhost:8080/"
    },
    "id": "diM4D6ZwIiRN",
    "outputId": "673de730-849e-4f0b-eec9-2a9a934f6896"
   },
   "outputs": [
    {
     "name": "stdout",
     "output_type": "stream",
     "text": [
      "Writing demo.py\n"
     ]
    }
   ],
   "source": [
    "%%writefile demo.py\n",
    "def main():\n",
    "  print('Hello, World!')\n",
    "\n",
    "print(__name__)\n",
    "\n",
    "if __name__ == \"__main__\":\n",
    "  main()"
   ]
  },
  {
   "cell_type": "code",
   "execution_count": 63,
   "metadata": {
    "colab": {
     "base_uri": "https://localhost:8080/"
    },
    "id": "P2eFgiYcI_xa",
    "outputId": "f3508012-bcac-4a4d-d9e9-bd025cb944d5"
   },
   "outputs": [
    {
     "name": "stdout",
     "output_type": "stream",
     "text": [
      "__main__\n",
      "Hello, World!\n"
     ]
    }
   ],
   "source": [
    "%run demo.py"
   ]
  },
  {
   "cell_type": "code",
   "execution_count": 64,
   "metadata": {
    "colab": {
     "base_uri": "https://localhost:8080/"
    },
    "id": "2DClIn_4JTjz",
    "outputId": "86dc7930-f613-4a5e-e444-2b67f69ed9e4"
   },
   "outputs": [
    {
     "name": "stdout",
     "output_type": "stream",
     "text": [
      "demo\n"
     ]
    }
   ],
   "source": [
    "import demo"
   ]
  },
  {
   "cell_type": "markdown",
   "metadata": {
    "id": "ZIn8Ll2XJU39"
   },
   "source": [
    "## Try, Except & File Handling"
   ]
  },
  {
   "cell_type": "code",
   "execution_count": 65,
   "metadata": {
    "colab": {
     "base_uri": "https://localhost:8080/"
    },
    "id": "5igqqNNyJrXI",
    "outputId": "b3627045-9b5f-48d1-ec04-1d37a09d9408"
   },
   "outputs": [
    {
     "name": "stdout",
     "output_type": "stream",
     "text": [
      "File Error\n",
      "Final\n"
     ]
    }
   ],
   "source": [
    "try:\n",
    "  f = open('aa.txt')\n",
    "  f.close()\n",
    "except: # neu loi\n",
    "  print('File Error')\n",
    "  pass\n",
    "finally: # khong loi + loi deu xuong\n",
    "  print('Final')"
   ]
  },
  {
   "cell_type": "code",
   "execution_count": 66,
   "metadata": {
    "colab": {
     "base_uri": "https://localhost:8080/"
    },
    "id": "i4eGVjqXJuGW",
    "outputId": "1d499385-30ab-4946-8fb7-ed97feba0a50"
   },
   "outputs": [
    {
     "name": "stdout",
     "output_type": "stream",
     "text": [
      "'Bài tập 1'\t\t      'Huế - SG'\n",
      "'Bai tap 2'\t\t      'KINH TẾ HỌC TÀI CHÍNH'\n",
      "'BÀI TẬP CHO LƯU MINTE.gdoc'  'MAY 💗 MINTE'\n",
      "'Bản ghi mới 2.m4a'\t       MOS.gdoc\n",
      "'Bản ghi mới 3.m4a'\t      'POWER POINT-20240428T151657Z-001.zip'\n",
      " Coca\t\t\t       SCRIPT.gdoc\n",
      "'Colab Notebooks'\t      'Tài liệu không có tiêu đề.gdoc'\n",
      "'EXAM 1'\t\t      'TAI LIEU VĂN.7z'\n",
      "'EXAM 2'\t\t      'TAI LIEU VĂN.rar'\n",
      "'HỌC KỲ 3'\t\t       WORD-20240402T052608Z-001.zip\n"
     ]
    }
   ],
   "source": [
    "!ls /content/drive/MyDrive/"
   ]
  },
  {
   "cell_type": "code",
   "execution_count": 67,
   "metadata": {
    "colab": {
     "base_uri": "https://localhost:8080/"
    },
    "id": "JthU7m-9KDqS",
    "outputId": "c1f80c56-06e8-49a0-e65d-66abb05a05a4"
   },
   "outputs": [
    {
     "name": "stdout",
     "output_type": "stream",
     "text": [
      "/content\n",
      "['.config', 'demo.py', '__pycache__', 'a.txt', 'drive', 'mymodule.py', 'sample_data']\n"
     ]
    }
   ],
   "source": [
    "import os\n",
    "\n",
    "print(os.getcwd()) # lay thu muc hien tai dang dung\n",
    "print(os.listdir(os.getcwd()))"
   ]
  },
  {
   "cell_type": "code",
   "execution_count": 68,
   "metadata": {
    "colab": {
     "base_uri": "https://localhost:8080/"
    },
    "id": "mBwBAJDVLDxL",
    "outputId": "759a476f-ef02-4b66-e390-ffbd93d8895b"
   },
   "outputs": [
    {
     "name": "stdout",
     "output_type": "stream",
     "text": [
      "/content/sample_data\n",
      "['anscombe.json', 'README.md', 'mnist_train_small.csv', 'mnist_test.csv', 'california_housing_test.csv', 'california_housing_train.csv']\n"
     ]
    }
   ],
   "source": [
    "path =os.path.join(os.getcwd(), 'sample_data')\n",
    "print(path)\n",
    "print(os.listdir(path))"
   ]
  },
  {
   "cell_type": "code",
   "execution_count": 69,
   "metadata": {
    "id": "NxJPiF-IKxQP"
   },
   "outputs": [],
   "source": [
    "import glob"
   ]
  },
  {
   "cell_type": "code",
   "execution_count": 70,
   "metadata": {
    "colab": {
     "base_uri": "https://localhost:8080/"
    },
    "id": "hSWA2tqGK1tk",
    "outputId": "c40d498a-ac16-4eab-8032-59c9028b4305"
   },
   "outputs": [
    {
     "data": {
      "text/plain": [
       "['/content/sample_data/mnist_train_small.csv',\n",
       " '/content/sample_data/mnist_test.csv',\n",
       " '/content/sample_data/california_housing_test.csv',\n",
       " '/content/sample_data/california_housing_train.csv']"
      ]
     },
     "execution_count": 70,
     "metadata": {},
     "output_type": "execute_result"
    }
   ],
   "source": [
    "glob.glob('/content/sample_data/*.csv')"
   ]
  },
  {
   "cell_type": "markdown",
   "metadata": {
    "id": "vStvDoYZCg43"
   },
   "source": [
    "#Kết thúc"
   ]
  }
 ],
 "metadata": {
  "colab": {
   "provenance": [],
   "toc_visible": true
  },
  "kernelspec": {
   "display_name": "Python 3 (ipykernel)",
   "language": "python",
   "name": "python3"
  },
  "language_info": {
   "codemirror_mode": {
    "name": "ipython",
    "version": 3
   },
   "file_extension": ".py",
   "mimetype": "text/x-python",
   "name": "python",
   "nbconvert_exporter": "python",
   "pygments_lexer": "ipython3",
   "version": "3.12.1"
  }
 },
 "nbformat": 4,
 "nbformat_minor": 4
}
